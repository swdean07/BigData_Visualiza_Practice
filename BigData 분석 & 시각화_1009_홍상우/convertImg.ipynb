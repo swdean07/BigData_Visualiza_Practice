{
 "cells": [
  {
   "cell_type": "code",
   "id": "initial_id",
   "metadata": {
    "collapsed": true,
    "ExecuteTime": {
     "end_time": "2025-03-13T08:02:29.868179Z",
     "start_time": "2025-03-13T08:02:29.798077Z"
    }
   },
   "source": [
    "from PIL import Image, ImageOps\n",
    "\n",
    "img = Image.open(\"dog_image1.png\").convert(\"RGBA\")\n",
    "\n",
    "r, g, b, alpha = img.split()\n",
    "\n",
    "threshold = 128\n",
    "mask = alpha.point(lambda p: 255 if p > threshold else 0)\n",
    "\n",
    "width, height = img.size\n",
    "silhouette = Image.new(\"RGB\", (width, height), color=\"white\")  # 배경 흰색\n",
    "silhouette.paste(\"black\", (0, 0, width, height), mask=mask)\n",
    "silhouette.save(\"dog_image1.png\", \"PNG\")\n"
   ],
   "outputs": [],
   "execution_count": 1
  },
  {
   "metadata": {
    "ExecuteTime": {
     "end_time": "2025-03-04T06:00:16.971978Z",
     "start_time": "2025-03-04T06:00:16.962848Z"
    }
   },
   "cell_type": "code",
   "source": "",
   "id": "48411b1dbe6796ed",
   "outputs": [],
   "execution_count": null
  }
 ],
 "metadata": {
  "kernelspec": {
   "display_name": "Python 3",
   "language": "python",
   "name": "python3"
  },
  "language_info": {
   "codemirror_mode": {
    "name": "ipython",
    "version": 2
   },
   "file_extension": ".py",
   "mimetype": "text/x-python",
   "name": "python",
   "nbconvert_exporter": "python",
   "pygments_lexer": "ipython2",
   "version": "2.7.6"
  }
 },
 "nbformat": 4,
 "nbformat_minor": 5
}
