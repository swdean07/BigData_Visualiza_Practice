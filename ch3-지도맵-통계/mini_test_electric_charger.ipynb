{
 "cells": [
  {
   "cell_type": "code",
   "id": "initial_id",
   "metadata": {
    "collapsed": true,
    "ExecuteTime": {
     "end_time": "2025-03-05T03:37:25.754565Z",
     "start_time": "2025-03-05T03:37:25.667007Z"
    }
   },
   "source": [
    "# 주소를 기준으로 1차 중복 제거.\n",
    "import pandas as pd\n",
    "\n",
    "\n",
    "# CSV 파일 로드\n",
    "df = pd.read_csv(\"./한국전력공사_부산시 전기차 충전소 충전량_20220331.csv\", encoding=\"utf-8\")\n",
    "\n",
    "# 중복 제거 전 데이터 개수\n",
    "original_count = len(df)\n",
    "\n",
    "# \"주소\" 컬럼에서 중복 제거\n",
    "df_unique = df.drop_duplicates(subset=[\"주소\"], keep=\"first\").reset_index(drop=True)\n",
    "\n",
    "# 중복 제거 후 데이터 개수\n",
    "unique_count = len(df_unique)\n",
    "\n",
    "# 새로운 CSV 파일로 저장\n",
    "output_csv = \"./converted_addresses_전체_데이터_주소_1차중복제거.csv\"\n",
    "df_unique.to_csv(output_csv, index=False, encoding=\"utf-8\")\n",
    "\n",
    "# 결과 출력\n",
    "print(\"🎉 중복 제거 완료!\")\n",
    "print(f\"📌 원본 데이터 개수: {original_count}\")\n",
    "print(f\"✅ 중복 제거 후 데이터 개수: {unique_count}\")\n",
    "print(f\"📄 '{output_csv}' 파일이 저장되었습니다.\")\n"
   ],
   "outputs": [
    {
     "name": "stdout",
     "output_type": "stream",
     "text": [
      "🎉 중복 제거 완료!\n",
      "📌 원본 데이터 개수: 14904\n",
      "✅ 중복 제거 후 데이터 개수: 23\n",
      "📄 './converted_addresses_전체_데이터_주소_1차중복제거.csv' 파일이 저장되었습니다.\n"
     ]
    }
   ],
   "execution_count": 9
  },
  {
   "metadata": {
    "ExecuteTime": {
     "end_time": "2025-03-05T03:29:00.222102Z",
     "start_time": "2025-03-05T03:29:00.208102Z"
    }
   },
   "cell_type": "code",
   "source": [
    "import pandas as pd\n",
    "\n",
    "# CSV 파일 로드\n",
    "df = pd.read_csv(\"converted_addresses_중복제거.csv\", encoding=\"utf-8\")\n",
    "\n",
    "# 원본 데이터 개수\n",
    "original_count = len(df)\n",
    "\n",
    "# '위도', '경도' 값이 NaN인 행 제거\n",
    "df_cleaned = df.dropna(subset=[\"위도\", \"경도\"]).reset_index(drop=True)\n",
    "\n",
    "# NaN 제거 후 데이터 개수\n",
    "cleaned_count = len(df_cleaned)\n",
    "\n",
    "# 새로운 CSV 파일로 저장\n",
    "output_csv = \"converted_addresses_위도경도_제거.csv\"\n",
    "df_cleaned.to_csv(output_csv, index=False, encoding=\"utf-8\")\n",
    "\n",
    "# 결과 출력\n",
    "print(\"🎉 NaN 값 제거 완료!\")\n",
    "print(f\"📌 원본 데이터 개수: {original_count}\")\n",
    "print(f\"✅ NaN 제거 후 데이터 개수: {cleaned_count}\")\n",
    "print(f\"📄 '{output_csv}' 파일이 저장되었습니다.\")\n"
   ],
   "id": "e6904ed31a3e097e",
   "outputs": [
    {
     "name": "stdout",
     "output_type": "stream",
     "text": [
      "🎉 NaN 값 제거 완료!\n",
      "📌 원본 데이터 개수: 23\n",
      "✅ NaN 제거 후 데이터 개수: 18\n",
      "📄 'converted_addresses_위도경도_제거.csv' 파일이 저장되었습니다.\n"
     ]
    }
   ],
   "execution_count": 5
  },
  {
   "metadata": {
    "ExecuteTime": {
     "end_time": "2025-03-05T03:29:30.358716Z",
     "start_time": "2025-03-05T03:29:30.347716Z"
    }
   },
   "cell_type": "code",
   "source": [
    "import folium\n",
    "import pandas as pd"
   ],
   "id": "64ef23f84209e7f7",
   "outputs": [],
   "execution_count": 6
  },
  {
   "metadata": {
    "ExecuteTime": {
     "end_time": "2025-03-05T03:29:42.387338Z",
     "start_time": "2025-03-05T03:29:42.375338Z"
    }
   },
   "cell_type": "code",
   "source": [
    "CB_geoData = pd.read_csv(\"./converted_addresses_위도경도_제거.csv\", encoding=\"utf-8\", engine=\"python\")\n",
    "CB_geoData\n"
   ],
   "id": "e5784623c4c5beda",
   "outputs": [
    {
     "data": {
      "text/plain": [
       "                         주소         위도          경도\n",
       "0     부산광역시 해운대구 해운대해변로 264  35.159167  129.146215\n",
       "1          대전광역시 중구 중앙로 101  36.328676  127.425968\n",
       "2        부산광역시 부산진구 거제대로 37  35.175996  129.067548\n",
       "3       부산광역시 부산진구 가야대로 702  35.154086  129.033131\n",
       "4         부산광역시 부산진구 초연로 11  35.173698  129.047496\n",
       "5          부산광역시 부산진구 동천로 4  35.157454  129.062040\n",
       "6       부산광역시 부산진구 시민공원로 30  35.166322  129.059250\n",
       "7        부산광역시 부산진구 동성로 143  35.158935  129.068037\n",
       "8   부산광역시 부산진구 중앙대로644번길 20  35.148847  129.062592\n",
       "9       부산광역시 부산진구 신천대로 156  35.150681  129.058598\n",
       "10        부산광역시 부산진구 화지로 12  35.181557  129.064889\n",
       "11       부산광역시 부산진구 거제대로 26  35.175996  129.067548\n",
       "12       부산광역시 부산진구 부전1동 46  35.164528  129.059065\n",
       "13       부산광역시 부산진구 동평로 352  35.174399  129.061763\n",
       "14        부산광역시 부산진구 성지곡로 3  35.186755  129.048523\n",
       "15      부산광역시 부산진구 시민공원로 73  35.166322  129.059250\n",
       "16        부산광역시 부산진구 범천로 22  35.148488  129.055731\n",
       "17      부산광역시 부산진구 신천대로 241  35.150681  129.058598"
      ],
      "text/html": [
       "<div>\n",
       "<style scoped>\n",
       "    .dataframe tbody tr th:only-of-type {\n",
       "        vertical-align: middle;\n",
       "    }\n",
       "\n",
       "    .dataframe tbody tr th {\n",
       "        vertical-align: top;\n",
       "    }\n",
       "\n",
       "    .dataframe thead th {\n",
       "        text-align: right;\n",
       "    }\n",
       "</style>\n",
       "<table border=\"1\" class=\"dataframe\">\n",
       "  <thead>\n",
       "    <tr style=\"text-align: right;\">\n",
       "      <th></th>\n",
       "      <th>주소</th>\n",
       "      <th>위도</th>\n",
       "      <th>경도</th>\n",
       "    </tr>\n",
       "  </thead>\n",
       "  <tbody>\n",
       "    <tr>\n",
       "      <th>0</th>\n",
       "      <td>부산광역시 해운대구 해운대해변로 264</td>\n",
       "      <td>35.159167</td>\n",
       "      <td>129.146215</td>\n",
       "    </tr>\n",
       "    <tr>\n",
       "      <th>1</th>\n",
       "      <td>대전광역시 중구 중앙로 101</td>\n",
       "      <td>36.328676</td>\n",
       "      <td>127.425968</td>\n",
       "    </tr>\n",
       "    <tr>\n",
       "      <th>2</th>\n",
       "      <td>부산광역시 부산진구 거제대로 37</td>\n",
       "      <td>35.175996</td>\n",
       "      <td>129.067548</td>\n",
       "    </tr>\n",
       "    <tr>\n",
       "      <th>3</th>\n",
       "      <td>부산광역시 부산진구 가야대로 702</td>\n",
       "      <td>35.154086</td>\n",
       "      <td>129.033131</td>\n",
       "    </tr>\n",
       "    <tr>\n",
       "      <th>4</th>\n",
       "      <td>부산광역시 부산진구 초연로 11</td>\n",
       "      <td>35.173698</td>\n",
       "      <td>129.047496</td>\n",
       "    </tr>\n",
       "    <tr>\n",
       "      <th>5</th>\n",
       "      <td>부산광역시 부산진구 동천로 4</td>\n",
       "      <td>35.157454</td>\n",
       "      <td>129.062040</td>\n",
       "    </tr>\n",
       "    <tr>\n",
       "      <th>6</th>\n",
       "      <td>부산광역시 부산진구 시민공원로 30</td>\n",
       "      <td>35.166322</td>\n",
       "      <td>129.059250</td>\n",
       "    </tr>\n",
       "    <tr>\n",
       "      <th>7</th>\n",
       "      <td>부산광역시 부산진구 동성로 143</td>\n",
       "      <td>35.158935</td>\n",
       "      <td>129.068037</td>\n",
       "    </tr>\n",
       "    <tr>\n",
       "      <th>8</th>\n",
       "      <td>부산광역시 부산진구 중앙대로644번길 20</td>\n",
       "      <td>35.148847</td>\n",
       "      <td>129.062592</td>\n",
       "    </tr>\n",
       "    <tr>\n",
       "      <th>9</th>\n",
       "      <td>부산광역시 부산진구 신천대로 156</td>\n",
       "      <td>35.150681</td>\n",
       "      <td>129.058598</td>\n",
       "    </tr>\n",
       "    <tr>\n",
       "      <th>10</th>\n",
       "      <td>부산광역시 부산진구 화지로 12</td>\n",
       "      <td>35.181557</td>\n",
       "      <td>129.064889</td>\n",
       "    </tr>\n",
       "    <tr>\n",
       "      <th>11</th>\n",
       "      <td>부산광역시 부산진구 거제대로 26</td>\n",
       "      <td>35.175996</td>\n",
       "      <td>129.067548</td>\n",
       "    </tr>\n",
       "    <tr>\n",
       "      <th>12</th>\n",
       "      <td>부산광역시 부산진구 부전1동 46</td>\n",
       "      <td>35.164528</td>\n",
       "      <td>129.059065</td>\n",
       "    </tr>\n",
       "    <tr>\n",
       "      <th>13</th>\n",
       "      <td>부산광역시 부산진구 동평로 352</td>\n",
       "      <td>35.174399</td>\n",
       "      <td>129.061763</td>\n",
       "    </tr>\n",
       "    <tr>\n",
       "      <th>14</th>\n",
       "      <td>부산광역시 부산진구 성지곡로 3</td>\n",
       "      <td>35.186755</td>\n",
       "      <td>129.048523</td>\n",
       "    </tr>\n",
       "    <tr>\n",
       "      <th>15</th>\n",
       "      <td>부산광역시 부산진구 시민공원로 73</td>\n",
       "      <td>35.166322</td>\n",
       "      <td>129.059250</td>\n",
       "    </tr>\n",
       "    <tr>\n",
       "      <th>16</th>\n",
       "      <td>부산광역시 부산진구 범천로 22</td>\n",
       "      <td>35.148488</td>\n",
       "      <td>129.055731</td>\n",
       "    </tr>\n",
       "    <tr>\n",
       "      <th>17</th>\n",
       "      <td>부산광역시 부산진구 신천대로 241</td>\n",
       "      <td>35.150681</td>\n",
       "      <td>129.058598</td>\n",
       "    </tr>\n",
       "  </tbody>\n",
       "</table>\n",
       "</div>"
      ]
     },
     "execution_count": 7,
     "metadata": {},
     "output_type": "execute_result"
    }
   ],
   "execution_count": 7
  },
  {
   "metadata": {
    "ExecuteTime": {
     "end_time": "2025-03-05T03:29:52.866220Z",
     "start_time": "2025-03-05T03:29:52.806193Z"
    }
   },
   "cell_type": "code",
   "source": [
    "\n",
    "map_CB = folium.Map(location=[35.156023,129.059407],zoom_start=15)\n",
    "\n",
    "# 반복문으로 , 해당 csv 파일의 위도 경도를 읽어서 마커 추가\n",
    "for i, store in CB_geoData.iterrows():\n",
    "  folium.Marker(location=[store[\"위도\"],store[\"경도\"]], popup=store[\"주소\"],icon=folium.Icon(color=\"red\", icon=\"star\")).add_to(map_CB)\n",
    "\n",
    "# 마커 추가한 맵 -> html 문서로 저장.\n",
    "map_CB.save(\"./map_부산_전기차_충전소_일부_마커추가.html\")"
   ],
   "id": "4c02bf89d4cdde4f",
   "outputs": [],
   "execution_count": 8
  },
  {
   "metadata": {},
   "cell_type": "code",
   "outputs": [],
   "execution_count": null,
   "source": "",
   "id": "dbaf1ba6730a2ea5"
  }
 ],
 "metadata": {
  "kernelspec": {
   "display_name": "Python 3",
   "language": "python",
   "name": "python3"
  },
  "language_info": {
   "codemirror_mode": {
    "name": "ipython",
    "version": 2
   },
   "file_extension": ".py",
   "mimetype": "text/x-python",
   "name": "python",
   "nbconvert_exporter": "python",
   "pygments_lexer": "ipython2",
   "version": "2.7.6"
  }
 },
 "nbformat": 4,
 "nbformat_minor": 5
}
