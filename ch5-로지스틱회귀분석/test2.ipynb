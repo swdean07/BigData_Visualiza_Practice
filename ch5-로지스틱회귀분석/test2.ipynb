{
 "cells": [
  {
   "cell_type": "markdown",
   "metadata": {},
   "source": [
    "## 결정 트리 분석 , 시각확 산점도, 선형 회귀 그래프 이용할 예정. \n",
    "### 결정 트리 시각화 (다른 프로그램을 설치해야함. )\n",
    "### 샘플 데이터, 센서 데이터의 움직임 수집한 데이터. \n",
    "### UCI 대학의 연구원들이 몸에 센서달고, 몇일 간 생활을해서, \n",
    "### 움직임을 판단 -> 서있기, 앉기, 눕기, 계단 오르기 등. "
   ]
  },
  {
   "cell_type": "markdown",
   "metadata": {},
   "source": [
    "## 용어정리\n",
    "### 결정 트리 : 머신러닝 알고리즘 중에 하나이고, 다중 분류를 하는데 사용을 많이 함.\n",
    "### 스스로 데이터 안에 특정 규칙을 찾아서 학습하고, 트리 구조 분류 규칙을 만든다. \n",
    "### 규칙 노드, 리프노드(결정노드) \n",
    "### 예) 날개가 있나요? : 규칙노드 \n",
    "###      /True        \\False\n",
    "### 날수있니?    털이 있니? : 규칙 노드 \n",
    "###   /T     \\ F     /T     \\F\n",
    "### 참새   펭귄    다람쥐  개구리 : 결정 노드 \n",
    "\n",
    "### 정보이득지수 : 엔트로피(entropy) 개념을 기반으로함.\n",
    "### 엔트로피 : 데이터 집합의 혼잡도를 의미. \n",
    "### 예) 데이터에 다른 데이터가 섞여서 균일도가 떨어지면 -> 혼잡도가 높다 -> 엔트로피 높다. \n",
    "### 정보이득지수 = 1 - 엔트로피 \n",
    "### 엔트로피 높다 -> 정보이득지수 낮다. -> 데이터가 순수하지 않다. (다른 데이터들이 섞여 있다.)\n",
    "### 엔트로피 낮다 -> 정보이득지수 높다. -> 데이터가 균일도가 높다. -> (다른 데이터들이 많이 섞여 있지 않다..)\n",
    "\n",
    "### 지니계수 : 경제학 용어이고, 소득의 불균형의 정도를 나타 낼 때 사용했고, 우리는 데이터의 순도\n",
    "### 지니계수 높다 -> 순도가 낮은 데이터의 집합 -> 균일도 낮다 -> 엔트로피 높다 -> 다른 데이터들이 섞여 있다.\n",
    "\n",
    "\n",
    "### 사이킷런에서 제공하는 결정 트리 분류 모델의 매개변수 \n",
    "### min_samples_split : 노드를 분할하기 위한 최소 샘플 데이터 갯수 (기본값: 2)\n",
    "### min_samples_leaf : 리프 노드가 되기 위한 최소 샘플 데이터 갯수 \n",
    "### max_features : 최적의 분할을 하기위 한 고려해야할 최대 피처 갯수 (예, 독립변수 ) \n",
    "### None : 모든 피쳐 사용 , int : 사용할 피쳐의 갯수, float : 사용할 피처 개수를 퍼센트 \n",
    "### sqrt : 루트 계산. \n",
    "\n",
    "### max_depth : 트리의 최대 깊이 \n",
    "### max_leaf_nodes : 리프노드(결정 노드 ) 에 들어가는 샘플의 최대 데이터 갯수. \n",
    "\n",
    "### Graphviz 패키지 : 결정 트리를 시각화 하는 도구. "
   ]
  },
  {
   "cell_type": "markdown",
   "metadata": {},
   "source": [
    "### 샘플 데이터 소개: README.txt 상세히 설명이 나옴. \n",
    "### 요약 : 30명의 연구원이 데이터 수집에 참여했고, 삼성 갤럭시 s2 을 착용하고, 6가지 움직임을 실험.\n",
    "### 워킹, 계단 오르기, 계단 내리기, 눕기, 서있기, 앉기 등 \n",
    "### 움직임은 가속계, 자이로스코프 를 이용해서, XYZ 3축에 대한 데이터를 수집. \n"
   ]
  },
  {
   "cell_type": "code",
   "metadata": {
    "ExecuteTime": {
     "end_time": "2025-03-07T00:45:47.430719Z",
     "start_time": "2025-03-07T00:45:47.408566Z"
    }
   },
   "source": [
    "# 샘플 데이터 받아서, 정리해보기.\n",
    "import numpy as np \n",
    "import pandas as pd \n",
    "pd.__version__"
   ],
   "outputs": [
    {
     "data": {
      "text/plain": [
       "'2.2.3'"
      ]
     },
     "execution_count": 2,
     "metadata": {},
     "output_type": "execute_result"
    }
   ],
   "execution_count": 2
  },
  {
   "cell_type": "code",
   "metadata": {
    "ExecuteTime": {
     "end_time": "2025-03-07T00:45:48.808448Z",
     "start_time": "2025-03-07T00:45:48.777508Z"
    }
   },
   "source": [
    "# 피처 이름 읽기\n",
    "# sep=\"\\s+\" -> 하나 이상의 공백을 의미\n",
    "# header=None -> 처음 부터 실제값을 사용하겠다라는 의미. \n",
    "feature_name_df = pd.read_csv(\"./UCI HAR Dataset/features.txt\", sep=\"\\s+\", header=None, names=[\"index\",\"feature_name\"], engine=\"python\")\n",
    "feature_name_df.head()"
   ],
   "outputs": [
    {
     "data": {
      "text/plain": [
       "   index       feature_name\n",
       "0      1  tBodyAcc-mean()-X\n",
       "1      2  tBodyAcc-mean()-Y\n",
       "2      3  tBodyAcc-mean()-Z\n",
       "3      4   tBodyAcc-std()-X\n",
       "4      5   tBodyAcc-std()-Y"
      ],
      "text/html": [
       "<div>\n",
       "<style scoped>\n",
       "    .dataframe tbody tr th:only-of-type {\n",
       "        vertical-align: middle;\n",
       "    }\n",
       "\n",
       "    .dataframe tbody tr th {\n",
       "        vertical-align: top;\n",
       "    }\n",
       "\n",
       "    .dataframe thead th {\n",
       "        text-align: right;\n",
       "    }\n",
       "</style>\n",
       "<table border=\"1\" class=\"dataframe\">\n",
       "  <thead>\n",
       "    <tr style=\"text-align: right;\">\n",
       "      <th></th>\n",
       "      <th>index</th>\n",
       "      <th>feature_name</th>\n",
       "    </tr>\n",
       "  </thead>\n",
       "  <tbody>\n",
       "    <tr>\n",
       "      <th>0</th>\n",
       "      <td>1</td>\n",
       "      <td>tBodyAcc-mean()-X</td>\n",
       "    </tr>\n",
       "    <tr>\n",
       "      <th>1</th>\n",
       "      <td>2</td>\n",
       "      <td>tBodyAcc-mean()-Y</td>\n",
       "    </tr>\n",
       "    <tr>\n",
       "      <th>2</th>\n",
       "      <td>3</td>\n",
       "      <td>tBodyAcc-mean()-Z</td>\n",
       "    </tr>\n",
       "    <tr>\n",
       "      <th>3</th>\n",
       "      <td>4</td>\n",
       "      <td>tBodyAcc-std()-X</td>\n",
       "    </tr>\n",
       "    <tr>\n",
       "      <th>4</th>\n",
       "      <td>5</td>\n",
       "      <td>tBodyAcc-std()-Y</td>\n",
       "    </tr>\n",
       "  </tbody>\n",
       "</table>\n",
       "</div>"
      ]
     },
     "execution_count": 3,
     "metadata": {},
     "output_type": "execute_result"
    }
   ],
   "execution_count": 3
  },
  {
   "cell_type": "code",
   "metadata": {
    "ExecuteTime": {
     "end_time": "2025-03-07T00:45:55.935116Z",
     "start_time": "2025-03-07T00:45:55.919529Z"
    }
   },
   "source": [
    "# 데이터 갯수 조회 \n",
    "feature_name_df.shape"
   ],
   "outputs": [
    {
     "data": {
      "text/plain": [
       "(561, 2)"
      ]
     },
     "execution_count": 4,
     "metadata": {},
     "output_type": "execute_result"
    }
   ],
   "execution_count": 4
  },
  {
   "cell_type": "code",
   "metadata": {
    "ExecuteTime": {
     "end_time": "2025-03-07T00:46:01.558516Z",
     "start_time": "2025-03-07T00:46:01.542916Z"
    }
   },
   "source": [
    "# 해당 피쳐 이름만 추출해보기. \n",
    "feature_name = feature_name_df.iloc[:,1].values.tolist()\n",
    "# head() 함수와 동일한 기능.\n",
    "feature_name[:5]"
   ],
   "outputs": [
    {
     "data": {
      "text/plain": [
       "['tBodyAcc-mean()-X',\n",
       " 'tBodyAcc-mean()-Y',\n",
       " 'tBodyAcc-mean()-Z',\n",
       " 'tBodyAcc-std()-X',\n",
       " 'tBodyAcc-std()-Y']"
      ]
     },
     "execution_count": 5,
     "metadata": {},
     "output_type": "execute_result"
    }
   ],
   "execution_count": 5
  },
  {
   "cell_type": "code",
   "metadata": {
    "ExecuteTime": {
     "end_time": "2025-03-07T00:47:44.631772Z",
     "start_time": "2025-03-07T00:47:40.780482Z"
    }
   },
   "source": [
    "# 샘플 데이터의 학습용 데이터, 평가용 데이터를 , 로드해서, 메모리상에 불러오기. \n",
    "X_train = pd.read_csv(\"./UCI HAR Dataset/train/X_train.txt\",sep=\"\\s+\", header=None, engine=\"python\")\n",
    "X_train.shape"
   ],
   "outputs": [
    {
     "data": {
      "text/plain": [
       "(7352, 561)"
      ]
     },
     "execution_count": 6,
     "metadata": {},
     "output_type": "execute_result"
    }
   ],
   "execution_count": 6
  },
  {
   "cell_type": "code",
   "metadata": {
    "ExecuteTime": {
     "end_time": "2025-03-07T00:48:06.081649Z",
     "start_time": "2025-03-07T00:48:06.034681Z"
    }
   },
   "source": [
    "# 샘플 데이터의 학습용 데이터, 평가용 데이터를 , 로드해서, 메모리상에 불러오기. \n",
    "Y_train = pd.read_csv(\"./UCI HAR Dataset/train/y_train.txt\",sep=\"\\s+\", header=None, names=[\"action\"],engine=\"python\")\n",
    "Y_train.shape"
   ],
   "outputs": [
    {
     "data": {
      "text/plain": [
       "(7352, 1)"
      ]
     },
     "execution_count": 7,
     "metadata": {},
     "output_type": "execute_result"
    }
   ],
   "execution_count": 7
  },
  {
   "cell_type": "code",
   "metadata": {
    "ExecuteTime": {
     "end_time": "2025-03-07T00:48:17.668133Z",
     "start_time": "2025-03-07T00:48:16.095932Z"
    }
   },
   "source": [
    "# 샘플 데이터의 학습용 데이터, 평가용 데이터를 , 로드해서, 메모리상에 불러오기. \n",
    "X_test = pd.read_csv(\"./UCI HAR Dataset/test/X_test.txt\",sep=\"\\s+\", header=None, engine=\"python\")\n",
    "X_test.shape"
   ],
   "outputs": [
    {
     "data": {
      "text/plain": [
       "(2947, 561)"
      ]
     },
     "execution_count": 8,
     "metadata": {},
     "output_type": "execute_result"
    }
   ],
   "execution_count": 8
  },
  {
   "cell_type": "code",
   "metadata": {
    "ExecuteTime": {
     "end_time": "2025-03-07T00:48:21.430926Z",
     "start_time": "2025-03-07T00:48:21.399784Z"
    }
   },
   "source": [
    "Y_test = pd.read_csv(\"./UCI HAR Dataset/test/y_test.txt\",sep=\"\\s+\", header=None,names=[\"action\"], engine=\"python\")\n",
    "Y_test.shape"
   ],
   "outputs": [
    {
     "data": {
      "text/plain": [
       "(2947, 1)"
      ]
     },
     "execution_count": 9,
     "metadata": {},
     "output_type": "execute_result"
    }
   ],
   "execution_count": 9
  },
  {
   "cell_type": "code",
   "metadata": {
    "ExecuteTime": {
     "end_time": "2025-03-07T00:48:27.076892Z",
     "start_time": "2025-03-07T00:48:27.061295Z"
    }
   },
   "source": [
    "# train, test 의 컬럼 달기. \n",
    "X_train.columns = feature_name\n",
    "X_test.columns = feature_name\n"
   ],
   "outputs": [],
   "execution_count": 10
  },
  {
   "cell_type": "code",
   "metadata": {
    "ExecuteTime": {
     "end_time": "2025-03-07T00:48:33.633805Z",
     "start_time": "2025-03-07T00:48:33.586928Z"
    }
   },
   "source": [
    "# X_train , 상위 5개 조회 \n",
    "X_train.head()"
   ],
   "outputs": [
    {
     "data": {
      "text/plain": [
       "   tBodyAcc-mean()-X  tBodyAcc-mean()-Y  tBodyAcc-mean()-Z  tBodyAcc-std()-X  \\\n",
       "0           0.288585          -0.020294          -0.132905         -0.995279   \n",
       "1           0.278419          -0.016411          -0.123520         -0.998245   \n",
       "2           0.279653          -0.019467          -0.113462         -0.995380   \n",
       "3           0.279174          -0.026201          -0.123283         -0.996091   \n",
       "4           0.276629          -0.016570          -0.115362         -0.998139   \n",
       "\n",
       "   tBodyAcc-std()-Y  tBodyAcc-std()-Z  tBodyAcc-mad()-X  tBodyAcc-mad()-Y  \\\n",
       "0         -0.983111         -0.913526         -0.995112         -0.983185   \n",
       "1         -0.975300         -0.960322         -0.998807         -0.974914   \n",
       "2         -0.967187         -0.978944         -0.996520         -0.963668   \n",
       "3         -0.983403         -0.990675         -0.997099         -0.982750   \n",
       "4         -0.980817         -0.990482         -0.998321         -0.979672   \n",
       "\n",
       "   tBodyAcc-mad()-Z  tBodyAcc-max()-X  ...  fBodyBodyGyroJerkMag-meanFreq()  \\\n",
       "0         -0.923527         -0.934724  ...                        -0.074323   \n",
       "1         -0.957686         -0.943068  ...                         0.158075   \n",
       "2         -0.977469         -0.938692  ...                         0.414503   \n",
       "3         -0.989302         -0.938692  ...                         0.404573   \n",
       "4         -0.990441         -0.942469  ...                         0.087753   \n",
       "\n",
       "   fBodyBodyGyroJerkMag-skewness()  fBodyBodyGyroJerkMag-kurtosis()  \\\n",
       "0                        -0.298676                        -0.710304   \n",
       "1                        -0.595051                        -0.861499   \n",
       "2                        -0.390748                        -0.760104   \n",
       "3                        -0.117290                        -0.482845   \n",
       "4                        -0.351471                        -0.699205   \n",
       "\n",
       "   angle(tBodyAccMean,gravity)  angle(tBodyAccJerkMean),gravityMean)  \\\n",
       "0                    -0.112754                              0.030400   \n",
       "1                     0.053477                             -0.007435   \n",
       "2                    -0.118559                              0.177899   \n",
       "3                    -0.036788                             -0.012892   \n",
       "4                     0.123320                              0.122542   \n",
       "\n",
       "   angle(tBodyGyroMean,gravityMean)  angle(tBodyGyroJerkMean,gravityMean)  \\\n",
       "0                         -0.464761                             -0.018446   \n",
       "1                         -0.732626                              0.703511   \n",
       "2                          0.100699                              0.808529   \n",
       "3                          0.640011                             -0.485366   \n",
       "4                          0.693578                             -0.615971   \n",
       "\n",
       "   angle(X,gravityMean)  angle(Y,gravityMean)  angle(Z,gravityMean)  \n",
       "0             -0.841247              0.179941             -0.058627  \n",
       "1             -0.844788              0.180289             -0.054317  \n",
       "2             -0.848933              0.180637             -0.049118  \n",
       "3             -0.848649              0.181935             -0.047663  \n",
       "4             -0.847865              0.185151             -0.043892  \n",
       "\n",
       "[5 rows x 561 columns]"
      ],
      "text/html": [
       "<div>\n",
       "<style scoped>\n",
       "    .dataframe tbody tr th:only-of-type {\n",
       "        vertical-align: middle;\n",
       "    }\n",
       "\n",
       "    .dataframe tbody tr th {\n",
       "        vertical-align: top;\n",
       "    }\n",
       "\n",
       "    .dataframe thead th {\n",
       "        text-align: right;\n",
       "    }\n",
       "</style>\n",
       "<table border=\"1\" class=\"dataframe\">\n",
       "  <thead>\n",
       "    <tr style=\"text-align: right;\">\n",
       "      <th></th>\n",
       "      <th>tBodyAcc-mean()-X</th>\n",
       "      <th>tBodyAcc-mean()-Y</th>\n",
       "      <th>tBodyAcc-mean()-Z</th>\n",
       "      <th>tBodyAcc-std()-X</th>\n",
       "      <th>tBodyAcc-std()-Y</th>\n",
       "      <th>tBodyAcc-std()-Z</th>\n",
       "      <th>tBodyAcc-mad()-X</th>\n",
       "      <th>tBodyAcc-mad()-Y</th>\n",
       "      <th>tBodyAcc-mad()-Z</th>\n",
       "      <th>tBodyAcc-max()-X</th>\n",
       "      <th>...</th>\n",
       "      <th>fBodyBodyGyroJerkMag-meanFreq()</th>\n",
       "      <th>fBodyBodyGyroJerkMag-skewness()</th>\n",
       "      <th>fBodyBodyGyroJerkMag-kurtosis()</th>\n",
       "      <th>angle(tBodyAccMean,gravity)</th>\n",
       "      <th>angle(tBodyAccJerkMean),gravityMean)</th>\n",
       "      <th>angle(tBodyGyroMean,gravityMean)</th>\n",
       "      <th>angle(tBodyGyroJerkMean,gravityMean)</th>\n",
       "      <th>angle(X,gravityMean)</th>\n",
       "      <th>angle(Y,gravityMean)</th>\n",
       "      <th>angle(Z,gravityMean)</th>\n",
       "    </tr>\n",
       "  </thead>\n",
       "  <tbody>\n",
       "    <tr>\n",
       "      <th>0</th>\n",
       "      <td>0.288585</td>\n",
       "      <td>-0.020294</td>\n",
       "      <td>-0.132905</td>\n",
       "      <td>-0.995279</td>\n",
       "      <td>-0.983111</td>\n",
       "      <td>-0.913526</td>\n",
       "      <td>-0.995112</td>\n",
       "      <td>-0.983185</td>\n",
       "      <td>-0.923527</td>\n",
       "      <td>-0.934724</td>\n",
       "      <td>...</td>\n",
       "      <td>-0.074323</td>\n",
       "      <td>-0.298676</td>\n",
       "      <td>-0.710304</td>\n",
       "      <td>-0.112754</td>\n",
       "      <td>0.030400</td>\n",
       "      <td>-0.464761</td>\n",
       "      <td>-0.018446</td>\n",
       "      <td>-0.841247</td>\n",
       "      <td>0.179941</td>\n",
       "      <td>-0.058627</td>\n",
       "    </tr>\n",
       "    <tr>\n",
       "      <th>1</th>\n",
       "      <td>0.278419</td>\n",
       "      <td>-0.016411</td>\n",
       "      <td>-0.123520</td>\n",
       "      <td>-0.998245</td>\n",
       "      <td>-0.975300</td>\n",
       "      <td>-0.960322</td>\n",
       "      <td>-0.998807</td>\n",
       "      <td>-0.974914</td>\n",
       "      <td>-0.957686</td>\n",
       "      <td>-0.943068</td>\n",
       "      <td>...</td>\n",
       "      <td>0.158075</td>\n",
       "      <td>-0.595051</td>\n",
       "      <td>-0.861499</td>\n",
       "      <td>0.053477</td>\n",
       "      <td>-0.007435</td>\n",
       "      <td>-0.732626</td>\n",
       "      <td>0.703511</td>\n",
       "      <td>-0.844788</td>\n",
       "      <td>0.180289</td>\n",
       "      <td>-0.054317</td>\n",
       "    </tr>\n",
       "    <tr>\n",
       "      <th>2</th>\n",
       "      <td>0.279653</td>\n",
       "      <td>-0.019467</td>\n",
       "      <td>-0.113462</td>\n",
       "      <td>-0.995380</td>\n",
       "      <td>-0.967187</td>\n",
       "      <td>-0.978944</td>\n",
       "      <td>-0.996520</td>\n",
       "      <td>-0.963668</td>\n",
       "      <td>-0.977469</td>\n",
       "      <td>-0.938692</td>\n",
       "      <td>...</td>\n",
       "      <td>0.414503</td>\n",
       "      <td>-0.390748</td>\n",
       "      <td>-0.760104</td>\n",
       "      <td>-0.118559</td>\n",
       "      <td>0.177899</td>\n",
       "      <td>0.100699</td>\n",
       "      <td>0.808529</td>\n",
       "      <td>-0.848933</td>\n",
       "      <td>0.180637</td>\n",
       "      <td>-0.049118</td>\n",
       "    </tr>\n",
       "    <tr>\n",
       "      <th>3</th>\n",
       "      <td>0.279174</td>\n",
       "      <td>-0.026201</td>\n",
       "      <td>-0.123283</td>\n",
       "      <td>-0.996091</td>\n",
       "      <td>-0.983403</td>\n",
       "      <td>-0.990675</td>\n",
       "      <td>-0.997099</td>\n",
       "      <td>-0.982750</td>\n",
       "      <td>-0.989302</td>\n",
       "      <td>-0.938692</td>\n",
       "      <td>...</td>\n",
       "      <td>0.404573</td>\n",
       "      <td>-0.117290</td>\n",
       "      <td>-0.482845</td>\n",
       "      <td>-0.036788</td>\n",
       "      <td>-0.012892</td>\n",
       "      <td>0.640011</td>\n",
       "      <td>-0.485366</td>\n",
       "      <td>-0.848649</td>\n",
       "      <td>0.181935</td>\n",
       "      <td>-0.047663</td>\n",
       "    </tr>\n",
       "    <tr>\n",
       "      <th>4</th>\n",
       "      <td>0.276629</td>\n",
       "      <td>-0.016570</td>\n",
       "      <td>-0.115362</td>\n",
       "      <td>-0.998139</td>\n",
       "      <td>-0.980817</td>\n",
       "      <td>-0.990482</td>\n",
       "      <td>-0.998321</td>\n",
       "      <td>-0.979672</td>\n",
       "      <td>-0.990441</td>\n",
       "      <td>-0.942469</td>\n",
       "      <td>...</td>\n",
       "      <td>0.087753</td>\n",
       "      <td>-0.351471</td>\n",
       "      <td>-0.699205</td>\n",
       "      <td>0.123320</td>\n",
       "      <td>0.122542</td>\n",
       "      <td>0.693578</td>\n",
       "      <td>-0.615971</td>\n",
       "      <td>-0.847865</td>\n",
       "      <td>0.185151</td>\n",
       "      <td>-0.043892</td>\n",
       "    </tr>\n",
       "  </tbody>\n",
       "</table>\n",
       "<p>5 rows × 561 columns</p>\n",
       "</div>"
      ]
     },
     "execution_count": 11,
     "metadata": {},
     "output_type": "execute_result"
    }
   ],
   "execution_count": 11
  },
  {
   "cell_type": "code",
   "metadata": {
    "ExecuteTime": {
     "end_time": "2025-03-07T00:48:50.727953Z",
     "start_time": "2025-03-07T00:48:50.712567Z"
    }
   },
   "source": [
    "# Y_train 값 조회 \n",
    "# Y_train_value_count= Y_train[\"action\"].value_counts()\n",
    "print(f\"Y_train['action'].value_counts() : \\n {Y_train['action'].value_counts()}\")"
   ],
   "outputs": [
    {
     "name": "stdout",
     "output_type": "stream",
     "text": [
      "Y_train['action'].value_counts() : \n",
      " action\n",
      "6    1407\n",
      "5    1374\n",
      "4    1286\n",
      "1    1226\n",
      "2    1073\n",
      "3     986\n",
      "Name: count, dtype: int64\n"
     ]
    }
   ],
   "execution_count": 12
  },
  {
   "cell_type": "code",
   "metadata": {
    "ExecuteTime": {
     "end_time": "2025-03-07T00:49:24.943803Z",
     "start_time": "2025-03-07T00:49:24.912374Z"
    }
   },
   "source": [
    "# 움직임의 6가지 라벨링 불러오기. \n",
    "label_name_df = pd.read_csv(\"./UCI HAR Dataset/activity_labels.txt\", sep=\"\\s+\", header=None ,\n",
    "                            names=[\"index\",\"label\"], engine=\"python\")\n",
    "label_name_df.head()"
   ],
   "outputs": [
    {
     "data": {
      "text/plain": [
       "   index               label\n",
       "0      1             WALKING\n",
       "1      2    WALKING_UPSTAIRS\n",
       "2      3  WALKING_DOWNSTAIRS\n",
       "3      4             SITTING\n",
       "4      5            STANDING"
      ],
      "text/html": [
       "<div>\n",
       "<style scoped>\n",
       "    .dataframe tbody tr th:only-of-type {\n",
       "        vertical-align: middle;\n",
       "    }\n",
       "\n",
       "    .dataframe tbody tr th {\n",
       "        vertical-align: top;\n",
       "    }\n",
       "\n",
       "    .dataframe thead th {\n",
       "        text-align: right;\n",
       "    }\n",
       "</style>\n",
       "<table border=\"1\" class=\"dataframe\">\n",
       "  <thead>\n",
       "    <tr style=\"text-align: right;\">\n",
       "      <th></th>\n",
       "      <th>index</th>\n",
       "      <th>label</th>\n",
       "    </tr>\n",
       "  </thead>\n",
       "  <tbody>\n",
       "    <tr>\n",
       "      <th>0</th>\n",
       "      <td>1</td>\n",
       "      <td>WALKING</td>\n",
       "    </tr>\n",
       "    <tr>\n",
       "      <th>1</th>\n",
       "      <td>2</td>\n",
       "      <td>WALKING_UPSTAIRS</td>\n",
       "    </tr>\n",
       "    <tr>\n",
       "      <th>2</th>\n",
       "      <td>3</td>\n",
       "      <td>WALKING_DOWNSTAIRS</td>\n",
       "    </tr>\n",
       "    <tr>\n",
       "      <th>3</th>\n",
       "      <td>4</td>\n",
       "      <td>SITTING</td>\n",
       "    </tr>\n",
       "    <tr>\n",
       "      <th>4</th>\n",
       "      <td>5</td>\n",
       "      <td>STANDING</td>\n",
       "    </tr>\n",
       "  </tbody>\n",
       "</table>\n",
       "</div>"
      ]
     },
     "execution_count": 13,
     "metadata": {},
     "output_type": "execute_result"
    }
   ],
   "execution_count": 13
  },
  {
   "cell_type": "code",
   "metadata": {
    "ExecuteTime": {
     "end_time": "2025-03-07T00:49:46.615514Z",
     "start_time": "2025-03-07T00:49:46.584231Z"
    }
   },
   "source": [
    "# 인덱스 제거 \n",
    "label_name = label_name_df.iloc[:,1].values.tolist()\n",
    "label_name"
   ],
   "outputs": [
    {
     "data": {
      "text/plain": [
       "['WALKING',\n",
       " 'WALKING_UPSTAIRS',\n",
       " 'WALKING_DOWNSTAIRS',\n",
       " 'SITTING',\n",
       " 'STANDING',\n",
       " 'LAYING']"
      ]
     },
     "execution_count": 14,
     "metadata": {},
     "output_type": "execute_result"
    }
   ],
   "execution_count": 14
  },
  {
   "cell_type": "code",
   "metadata": {
    "ExecuteTime": {
     "end_time": "2025-03-07T01:02:20.163572Z",
     "start_time": "2025-03-07T01:02:19.946997Z"
    }
   },
   "source": [
    "# 분석 모델 구축\n",
    "from sklearn.tree import DecisionTreeClassifier"
   ],
   "outputs": [],
   "execution_count": 15
  },
  {
   "cell_type": "code",
   "metadata": {
    "ExecuteTime": {
     "end_time": "2025-03-07T01:02:28.894531Z",
     "start_time": "2025-03-07T01:02:28.880968Z"
    }
   },
   "source": [
    "# 모델 불러오기\n",
    "dt_HAR = DecisionTreeClassifier()\n"
   ],
   "outputs": [],
   "execution_count": 16
  },
  {
   "cell_type": "code",
   "metadata": {
    "ExecuteTime": {
     "end_time": "2025-03-07T01:02:41.381727Z",
     "start_time": "2025-03-07T01:02:37.290730Z"
    }
   },
   "source": [
    "# 모델 훈련(학습 시키기)\n",
    "dt_HAR.fit(X_train, Y_train)"
   ],
   "outputs": [
    {
     "data": {
      "text/plain": [
       "DecisionTreeClassifier()"
      ]
     },
     "execution_count": 17,
     "metadata": {},
     "output_type": "execute_result"
    }
   ],
   "execution_count": 17
  },
  {
   "cell_type": "code",
   "metadata": {
    "ExecuteTime": {
     "end_time": "2025-03-07T01:03:02.353242Z",
     "start_time": "2025-03-07T01:03:02.323139Z"
    }
   },
   "source": [
    "# 학습 된 모델을 이용해서, 평가하기(예측값 구하기.)\n",
    "Y_predict = dt_HAR.predict(X_test)"
   ],
   "outputs": [],
   "execution_count": 18
  },
  {
   "cell_type": "code",
   "metadata": {
    "ExecuteTime": {
     "end_time": "2025-03-07T01:03:16.785627Z",
     "start_time": "2025-03-07T01:03:16.775627Z"
    }
   },
   "source": [
    "# 정확도 측정 해보기. \n",
    "from sklearn.metrics import accuracy_score\n",
    "\n",
    "accuracy = accuracy_score(Y_test, Y_predict)\n",
    "print(f\"accuracy 정확도 : {accuracy}\")\n",
    "print(\"accuracy 정확도: {0:.4f}\".format(accuracy))"
   ],
   "outputs": [
    {
     "name": "stdout",
     "output_type": "stream",
     "text": [
      "accuracy 정확도 : 0.8588394977943672\n",
      "accuracy 정확도: 0.8588\n"
     ]
    }
   ],
   "execution_count": 19
  },
  {
   "cell_type": "code",
   "metadata": {
    "ExecuteTime": {
     "end_time": "2025-03-07T01:04:12.093323Z",
     "start_time": "2025-03-07T01:04:12.082347Z"
    }
   },
   "source": [
    "# 결정 트리의 하이퍼 매개변수의 기본정보 -> gini 정보 지수 확인용 \n",
    "# 'criterion': 'gini', 분할 기준이 지니 계수를 이용한다. \n",
    "print(\"결정 트리의 하이퍼 매개변수의 기본정보 : \", dt_HAR.get_params())"
   ],
   "outputs": [
    {
     "name": "stdout",
     "output_type": "stream",
     "text": [
      "결정 트리의 하이퍼 매개변수의 기본정보 :  {'ccp_alpha': 0.0, 'class_weight': None, 'criterion': 'gini', 'max_depth': None, 'max_features': None, 'max_leaf_nodes': None, 'min_impurity_decrease': 0.0, 'min_samples_leaf': 1, 'min_samples_split': 2, 'min_weight_fraction_leaf': 0.0, 'random_state': None, 'splitter': 'best'}\n"
     ]
    }
   ],
   "execution_count": 22
  },
  {
   "cell_type": "code",
   "metadata": {
    "ExecuteTime": {
     "end_time": "2025-03-07T01:07:28.595321Z",
     "start_time": "2025-03-07T01:05:57.873248Z"
    }
   },
   "source": [
    "# 해당 정보를 이용해서, 기본 그래프 확인.\n",
    "# 결정트리 시각화 툴 설치해서, 확인 해보기.\n",
    "from sklearn.model_selection import GridSearchCV\n",
    "\n",
    "# 규칙 노드와, 결정 노드 사이의 깊이를 임의로 정해서, 모델에게 넘겨주기\n",
    "# 모델은 전달받은 깊이를 스스로 학습해서, 최적의 깊이를 찾기.\n",
    "params = {\n",
    "  \"max_depth\" : [6,8,10,12,16,20,24]\n",
    "}\n",
    "# scoring=\"accuracy\" -> 정확도 기준\n",
    "# cv=5 -> 교차 검증 분할수 5번, 4개의 훈련셋 , 1개의 검증 , 5번 반복\n",
    "# return_train_score= True -> 훈련 데이터에 대한 성능 점수를 반환 받겠다. \n",
    "grid_cv = GridSearchCV(dt_HAR, param_grid=params, scoring=\"accuracy\", cv=5, return_train_score= True)\n",
    "\n",
    "# 교차 검증을 이용해서, 모델에 학습 시키기 \n",
    "grid_cv.fit(X_train,Y_train)\n",
    "\n",
    "#"
   ],
   "outputs": [
    {
     "data": {
      "text/plain": [
       "GridSearchCV(cv=5, estimator=DecisionTreeClassifier(),\n",
       "             param_grid={'max_depth': [6, 8, 10, 12, 16, 20, 24]},\n",
       "             return_train_score=True, scoring='accuracy')"
      ]
     },
     "execution_count": 23,
     "metadata": {},
     "output_type": "execute_result"
    }
   ],
   "execution_count": 23
  },
  {
   "cell_type": "code",
   "metadata": {
    "ExecuteTime": {
     "end_time": "2025-03-07T01:08:08.149430Z",
     "start_time": "2025-03-07T01:08:08.127424Z"
    }
   },
   "source": [
    "cv_results_df = pd.DataFrame(grid_cv.cv_results_)\n",
    "\n",
    "cv_results_df[[\"param_max_depth\", \"mean_test_score\",\"mean_train_score\"]]"
   ],
   "outputs": [
    {
     "data": {
      "text/plain": [
       "  param_max_depth  mean_test_score  mean_train_score\n",
       "0               6         0.844261          0.944879\n",
       "1               8         0.849844          0.982692\n",
       "2              10         0.845767          0.993403\n",
       "3              12         0.843318          0.997212\n",
       "4              16         0.842640          0.999660\n",
       "5              20         0.844950          0.999966\n",
       "6              24         0.844816          1.000000"
      ],
      "text/html": [
       "<div>\n",
       "<style scoped>\n",
       "    .dataframe tbody tr th:only-of-type {\n",
       "        vertical-align: middle;\n",
       "    }\n",
       "\n",
       "    .dataframe tbody tr th {\n",
       "        vertical-align: top;\n",
       "    }\n",
       "\n",
       "    .dataframe thead th {\n",
       "        text-align: right;\n",
       "    }\n",
       "</style>\n",
       "<table border=\"1\" class=\"dataframe\">\n",
       "  <thead>\n",
       "    <tr style=\"text-align: right;\">\n",
       "      <th></th>\n",
       "      <th>param_max_depth</th>\n",
       "      <th>mean_test_score</th>\n",
       "      <th>mean_train_score</th>\n",
       "    </tr>\n",
       "  </thead>\n",
       "  <tbody>\n",
       "    <tr>\n",
       "      <th>0</th>\n",
       "      <td>6</td>\n",
       "      <td>0.844261</td>\n",
       "      <td>0.944879</td>\n",
       "    </tr>\n",
       "    <tr>\n",
       "      <th>1</th>\n",
       "      <td>8</td>\n",
       "      <td>0.849844</td>\n",
       "      <td>0.982692</td>\n",
       "    </tr>\n",
       "    <tr>\n",
       "      <th>2</th>\n",
       "      <td>10</td>\n",
       "      <td>0.845767</td>\n",
       "      <td>0.993403</td>\n",
       "    </tr>\n",
       "    <tr>\n",
       "      <th>3</th>\n",
       "      <td>12</td>\n",
       "      <td>0.843318</td>\n",
       "      <td>0.997212</td>\n",
       "    </tr>\n",
       "    <tr>\n",
       "      <th>4</th>\n",
       "      <td>16</td>\n",
       "      <td>0.842640</td>\n",
       "      <td>0.999660</td>\n",
       "    </tr>\n",
       "    <tr>\n",
       "      <th>5</th>\n",
       "      <td>20</td>\n",
       "      <td>0.844950</td>\n",
       "      <td>0.999966</td>\n",
       "    </tr>\n",
       "    <tr>\n",
       "      <th>6</th>\n",
       "      <td>24</td>\n",
       "      <td>0.844816</td>\n",
       "      <td>1.000000</td>\n",
       "    </tr>\n",
       "  </tbody>\n",
       "</table>\n",
       "</div>"
      ]
     },
     "execution_count": 27,
     "metadata": {},
     "output_type": "execute_result"
    }
   ],
   "execution_count": 27
  },
  {
   "cell_type": "code",
   "metadata": {
    "ExecuteTime": {
     "end_time": "2025-03-07T01:08:11.442568Z",
     "start_time": "2025-03-07T01:08:11.435538Z"
    }
   },
   "source": [
    "print(\"최고의 평균 정확도 : {0:.4f}, 최적의 하이퍼 매개변수 : {1}\".format(grid_cv.best_score_,grid_cv.best_params_))"
   ],
   "outputs": [
    {
     "name": "stdout",
     "output_type": "stream",
     "text": [
      "최고의 평균 정확도 : 0.8498, 최적의 하이퍼 매개변수 : {'max_depth': 8}\n"
     ]
    }
   ],
   "execution_count": 28
  },
  {
   "cell_type": "code",
   "metadata": {
    "ExecuteTime": {
     "end_time": "2025-03-07T01:10:53.420753Z",
     "start_time": "2025-03-07T01:08:51.658754Z"
    }
   },
   "source": [
    "# 2번째, 교차 검증을 해서, 조금 더 정확한 결과를 확인해보기.\n",
    "params = {\n",
    "  \"max_depth\" : [8,16,20],\n",
    "  \"min_samples_split\" : [8,16,24]\n",
    "}\n",
    "\n",
    "# 모델 학습 시키기, 옵션 설정이 동일해서, 위의 코드 재사용. \n",
    "# scoring=\"accuracy\" -> 정확도 기준\n",
    "# cv=5 -> 교차 검증 분할수 5번, 4개의 훈련셋 , 1개의 검증 , 5번 반복\n",
    "# return_train_score= True -> 훈련 데이터에 대한 성능 점수를 반환 받겠다. \n",
    "grid_cv = GridSearchCV(dt_HAR, param_grid=params, scoring=\"accuracy\", cv=5, return_train_score= True)\n",
    "\n",
    "# 교차 검증을 이용해서, 모델에 학습 시키기 \n",
    "grid_cv.fit(X_train,Y_train)"
   ],
   "outputs": [
    {
     "data": {
      "text/plain": [
       "GridSearchCV(cv=5, estimator=DecisionTreeClassifier(),\n",
       "             param_grid={'max_depth': [8, 16, 20],\n",
       "                         'min_samples_split': [8, 16, 24]},\n",
       "             return_train_score=True, scoring='accuracy')"
      ]
     },
     "execution_count": 29,
     "metadata": {},
     "output_type": "execute_result"
    }
   ],
   "execution_count": 29
  },
  {
   "cell_type": "code",
   "metadata": {
    "ExecuteTime": {
     "end_time": "2025-03-07T01:12:46.449310Z",
     "start_time": "2025-03-07T01:12:46.420317Z"
    }
   },
   "source": [
    "cv_results_df = pd.DataFrame(grid_cv.cv_results_)\n",
    "# cv_results_df\n",
    "cv_results_df[[\"param_max_depth\",\"param_min_samples_split\",\"mean_test_score\",\"mean_train_score\"]]"
   ],
   "outputs": [
    {
     "data": {
      "text/plain": [
       "  param_max_depth param_min_samples_split  mean_test_score  mean_train_score\n",
       "0               8                       8         0.855965          0.981468\n",
       "1               8                      16         0.849437          0.979836\n",
       "2               8                      24         0.850118          0.978237\n",
       "3              16                       8         0.842230          0.994423\n",
       "4              16                      16         0.850255          0.990513\n",
       "5              16                      24         0.843997          0.986704\n",
       "6              20                       8         0.849169          0.994593\n",
       "7              20                      16         0.843046          0.990615\n",
       "8              20                      24         0.849439          0.986840"
      ],
      "text/html": [
       "<div>\n",
       "<style scoped>\n",
       "    .dataframe tbody tr th:only-of-type {\n",
       "        vertical-align: middle;\n",
       "    }\n",
       "\n",
       "    .dataframe tbody tr th {\n",
       "        vertical-align: top;\n",
       "    }\n",
       "\n",
       "    .dataframe thead th {\n",
       "        text-align: right;\n",
       "    }\n",
       "</style>\n",
       "<table border=\"1\" class=\"dataframe\">\n",
       "  <thead>\n",
       "    <tr style=\"text-align: right;\">\n",
       "      <th></th>\n",
       "      <th>param_max_depth</th>\n",
       "      <th>param_min_samples_split</th>\n",
       "      <th>mean_test_score</th>\n",
       "      <th>mean_train_score</th>\n",
       "    </tr>\n",
       "  </thead>\n",
       "  <tbody>\n",
       "    <tr>\n",
       "      <th>0</th>\n",
       "      <td>8</td>\n",
       "      <td>8</td>\n",
       "      <td>0.855965</td>\n",
       "      <td>0.981468</td>\n",
       "    </tr>\n",
       "    <tr>\n",
       "      <th>1</th>\n",
       "      <td>8</td>\n",
       "      <td>16</td>\n",
       "      <td>0.849437</td>\n",
       "      <td>0.979836</td>\n",
       "    </tr>\n",
       "    <tr>\n",
       "      <th>2</th>\n",
       "      <td>8</td>\n",
       "      <td>24</td>\n",
       "      <td>0.850118</td>\n",
       "      <td>0.978237</td>\n",
       "    </tr>\n",
       "    <tr>\n",
       "      <th>3</th>\n",
       "      <td>16</td>\n",
       "      <td>8</td>\n",
       "      <td>0.842230</td>\n",
       "      <td>0.994423</td>\n",
       "    </tr>\n",
       "    <tr>\n",
       "      <th>4</th>\n",
       "      <td>16</td>\n",
       "      <td>16</td>\n",
       "      <td>0.850255</td>\n",
       "      <td>0.990513</td>\n",
       "    </tr>\n",
       "    <tr>\n",
       "      <th>5</th>\n",
       "      <td>16</td>\n",
       "      <td>24</td>\n",
       "      <td>0.843997</td>\n",
       "      <td>0.986704</td>\n",
       "    </tr>\n",
       "    <tr>\n",
       "      <th>6</th>\n",
       "      <td>20</td>\n",
       "      <td>8</td>\n",
       "      <td>0.849169</td>\n",
       "      <td>0.994593</td>\n",
       "    </tr>\n",
       "    <tr>\n",
       "      <th>7</th>\n",
       "      <td>20</td>\n",
       "      <td>16</td>\n",
       "      <td>0.843046</td>\n",
       "      <td>0.990615</td>\n",
       "    </tr>\n",
       "    <tr>\n",
       "      <th>8</th>\n",
       "      <td>20</td>\n",
       "      <td>24</td>\n",
       "      <td>0.849439</td>\n",
       "      <td>0.986840</td>\n",
       "    </tr>\n",
       "  </tbody>\n",
       "</table>\n",
       "</div>"
      ]
     },
     "execution_count": 33,
     "metadata": {},
     "output_type": "execute_result"
    }
   ],
   "execution_count": 33
  },
  {
   "cell_type": "code",
   "metadata": {
    "ExecuteTime": {
     "end_time": "2025-03-07T01:12:41.055014Z",
     "start_time": "2025-03-07T01:12:41.048013Z"
    }
   },
   "source": [
    "print(\"최고의 평균 정확도 : {0:.4f}, 최적의 하이퍼 매개변수 : {1}\".format(grid_cv.best_score_,grid_cv.best_params_))"
   ],
   "outputs": [
    {
     "name": "stdout",
     "output_type": "stream",
     "text": [
      "최고의 평균 정확도 : 0.8560, 최적의 하이퍼 매개변수 : {'max_depth': 8, 'min_samples_split': 8}\n"
     ]
    }
   ],
   "execution_count": 32
  },
  {
   "cell_type": "code",
   "metadata": {
    "ExecuteTime": {
     "end_time": "2025-03-07T01:13:26.492896Z",
     "start_time": "2025-03-07T01:13:26.466899Z"
    }
   },
   "source": [
    "# 최적의 파라미터를 찾았고, 이 파라미터를 이용해서, \n",
    "# 최적의 모델을 구현해서, 다시 학습 후, 예측값을 구해서, 다시 평가 지표 점수를 확인. \n",
    "# 최적의 모델이라고 보면됨. \n",
    "best_dt_HAR = grid_cv.best_estimator_\n",
    "\n",
    "# 최적을 모델을 이용해서, 학습시키기 -> 예측값을 조회. \n",
    "best_Y_predict = best_dt_HAR.predict(X_test)\n",
    "\n",
    "# 채점, 확인하기. 정확도 얼마인지?\n",
    "best_accuracy = accuracy_score(Y_test, best_Y_predict)\n",
    "\n",
    "print(\"베스트 결정 트리 예측 정확도 : {0:.4f}\".format(best_accuracy))\n"
   ],
   "outputs": [
    {
     "name": "stdout",
     "output_type": "stream",
     "text": [
      "베스트 결정 트리 예측 정확도 : 0.8741\n"
     ]
    }
   ],
   "execution_count": 34
  },
  {
   "cell_type": "code",
   "metadata": {
    "ExecuteTime": {
     "end_time": "2025-03-07T01:13:41.990933Z",
     "start_time": "2025-03-07T01:13:41.971903Z"
    }
   },
   "source": [
    "# 간단한 막대 그래프로 시각화. \n",
    "# 독립 변수(=피처)가 : 561개 있음. 그중에서, 중요도가 높은 피처 10개를 찾아서, 그래프 그리기.\n",
    "\n",
    "import seaborn as sns \n",
    "import matplotlib.pyplot as plt  \n"
   ],
   "outputs": [],
   "execution_count": 35
  },
  {
   "cell_type": "code",
   "metadata": {
    "ExecuteTime": {
     "end_time": "2025-03-07T01:13:58.625068Z",
     "start_time": "2025-03-07T01:13:58.606069Z"
    }
   },
   "source": [
    "# 561개의 피쳐 중에서, 중요도로 10개 뽑기.\n",
    "feature_importances_values = best_dt_HAR.feature_importances_\n",
    "\n",
    "# 데이터 타입을 시리즈 라는 타입으로 변환해서, 확인, 시리즈, 행, 열이 한개씩 표현되는 데이터 구조. \n",
    "feature_importances_values_s = pd.Series(feature_importances_values, index=X_train.columns)\n",
    "\n",
    "# 내림 차순 정렬을 해서, 상위 10개만 슬라이싱으로 가져오기. \n",
    "feature_top10 = feature_importances_values_s.sort_values(ascending=False)[:10]\n",
    "\n",
    "feature_top10\n"
   ],
   "outputs": [
    {
     "data": {
      "text/plain": [
       "tGravityAcc-min()-X            0.253040\n",
       "fBodyAcc-mad()-X               0.212320\n",
       "angle(Y,gravityMean)           0.138828\n",
       "fBodyAccMag-energy()           0.115335\n",
       "tGravityAcc-arCoeff()-Z,2      0.101422\n",
       "fBodyGyro-maxInds-X            0.023941\n",
       "tBodyGyro-correlation()-Y,Z    0.016493\n",
       "tGravityAcc-energy()-Y         0.016413\n",
       "tBodyAccMag-arCoeff()1         0.015722\n",
       "fBodyAcc-max()-Y               0.008814\n",
       "dtype: float64"
      ]
     },
     "execution_count": 36,
     "metadata": {},
     "output_type": "execute_result"
    }
   ],
   "execution_count": 36
  },
  {
   "cell_type": "code",
   "metadata": {
    "ExecuteTime": {
     "end_time": "2025-03-07T01:14:51.079671Z",
     "start_time": "2025-03-07T01:14:50.748259Z"
    }
   },
   "source": [
    "# 그림그리기 \n",
    "plt.figure(figsize=(10,5))\n",
    "plt.title(\"Feature Top 10\")\n",
    "sns.barplot(x=feature_top10, y = feature_top10.index)\n",
    "plt.show()"
   ],
   "outputs": [
    {
     "data": {
      "text/plain": [
       "<Figure size 1000x500 with 1 Axes>"
      ],
      "image/png": "[encoded data removed]"
     },
     "metadata": {},
     "output_type": "display_data"
    }
   ],
   "execution_count": 37
  },
  {
   "cell_type": "markdown",
   "metadata": {},
   "source": [
    "## 시각화 도구 설치 순서\n",
    "### Graphviz를 사용한 결정트리 시각화\n",
    "### 이슈 \n",
    "### https://graphviz.gitlab.io/download/\n",
    "### 다운로드 \n",
    "\n",
    "### 설치 , 기본 설정 -> C:\\Program Files\\Graphviz 이 경로의 폴더를 복사.\n",
    "### C:\\Python\\Python310 하위에 폴더 붙여넣기.\n",
    "\n",
    "### 이동후 , 경로 -> C:\\Python\\Python310\\Graphviz\\bin\n",
    "### 시스템 환경 설정 패스에도 bin 까지만\n",
    "### \t- -bin\n",
    "### \t- -bin/dot.exe \n",
    "\t\n",
    "\n",
    "\n",
    "### 마지막 코드에 직접 추가\n",
    "### import os\n",
    "### os.environ[\"PATH\"]+=os.pathsep+'C:/Python/Python310/Graphviz/bin/'\n"
   ]
  },
  {
   "cell_type": "code",
   "metadata": {
    "ExecuteTime": {
     "end_time": "2025-03-04T06:38:25.096370Z",
     "start_time": "2025-03-04T06:38:23.631525Z"
    }
   },
   "source": "!pip install graphviz",
   "outputs": [
    {
     "name": "stdout",
     "output_type": "stream",
     "text": [
      "Defaulting to user installation because normal site-packages is not writeable\n",
      "Collecting graphviz\n",
      "  Using cached graphviz-0.20.3-py3-none-any.whl.metadata (12 kB)\n",
      "Using cached graphviz-0.20.3-py3-none-any.whl (47 kB)\n",
      "Installing collected packages: graphviz\n",
      "Successfully installed graphviz-0.20.3\n"
     ]
    }
   ],
   "execution_count": 31
  },
  {
   "cell_type": "code",
   "metadata": {
    "ExecuteTime": {
     "end_time": "2025-03-07T01:22:38.076371Z",
     "start_time": "2025-03-07T01:22:38.039267Z"
    }
   },
   "source": [
    "from sklearn.tree import export_graphviz\n",
    "export_graphviz(best_dt_HAR, out_file=\"tree.dot\", class_names=label_name, feature_names= feature_name, impurity=True, filled=True)"
   ],
   "outputs": [],
   "execution_count": 38
  },
  {
   "cell_type": "code",
   "metadata": {
    "ExecuteTime": {
     "end_time": "2025-03-07T01:24:20.554400Z",
     "start_time": "2025-03-07T01:24:20.081399Z"
    }
   },
   "source": [
    "import graphviz\n",
    "import os\n",
    "os.environ[\"PATH\"]+=os.pathsep+'C:/Program Files/Python310/Graphviz/bin/'\n",
    "\n",
    "with open(\"tree.dot\") as f:\n",
    "  dot_graph = f.read()\n",
    "\n",
    "graphviz.Source(dot_graph)"
   ],
   "outputs": [
    {
     "data": {
      "image/svg+xml": "<?xml version=\"1.0\" encoding=\"UTF-8\" standalone=\"no\"?>\n<!DOCTYPE svg PUBLIC \"-//W3C//DTD SVG 1.1//EN\"\n \"http://www.w3.org/Graphics/SVG/1.1/DTD/svg11.dtd\">\n<!-- Generated by graphviz version 12.2.1 (20241206.2353)\n -->\n<!-- Title: Tree Pages: 1 -->\n<svg width=\"9788pt\" height=\"1061pt\"\n viewBox=\"0.00 0.00 9788.38 1061.00\" xmlns=\"http://www.w3.org/2000/svg\" xmlns:xlink=\"http://www.w3.org/1999/xlink\">\n<g id=\"graph0\" class=\"graph\" transform=\"scale(1 1) rotate(0) translate(4 1057)\">\n<title>Tree</title>\n<polygon fill=\"white\" stroke=\"none\" points=\"-4,4 -4,-1057 9784.38,-1057 9784.38,4 -4,4\"/>\n<!-- 0 -->\n<g id=\"node1\" class=\"node\">\n<title>0</title>\n<polygon fill=\"#fffefe\" stroke=\"black\" points=\"4434.5,-1053 4153,-1053 4153,-966.25 4434.5,-966.25 4434.5,-1053\"/>\n<text text-anchor=\"middle\" x=\"4293.75\" y=\"-1035.7\" font-family=\"Helvetica,sans-Serif\" font-size=\"14.00\">tGravityAcc&#45;min()&#45;X &lt;= 0.096</text>\n<text text-anchor=\"middle\" x=\"4293.75\" y=\"-1019.95\" font-family=\"Helvetica,sans-Serif\" font-size=\"14.00\">gini = 0.831</text>\n<text text-anchor=\"middle\" x=\"4293.75\" y=\"-1004.2\" font-family=\"Helvetica,sans-Serif\" font-size=\"14.00\">samples = 7352</text>\n<text text-anchor=\"middle\" x=\"4293.75\" y=\"-988.45\" font-family=\"Helvetica,sans-Serif\" font-size=\"14.00\">value = [1226, 1073, 986, 1286, 1374, 1407]</text>\n<text text-anchor=\"middle\" x=\"4293.75\" y=\"-972.7\" font-family=\"Helvetica,sans-Serif\" font-size=\"14.00\">class = LAYING</text>\n</g>\n<!-- 1 -->\n<g id=\"node2\" class=\"node\">\n<title>1</title>\n<polygon fill=\"#e5399d\" stroke=\"black\" points=\"4264,-922.38 4087.5,-922.38 4087.5,-851.38 4264,-851.38 4264,-922.38\"/>\n<text text-anchor=\"middle\" x=\"4175.75\" y=\"-905.08\" font-family=\"Helvetica,sans-Serif\" font-size=\"14.00\">gini = 0.0</text>\n<text text-anchor=\"middle\" x=\"4175.75\" y=\"-889.33\" font-family=\"Helvetica,sans-Serif\" font-size=\"14.00\">samples = 1407</text>\n<text text-anchor=\"middle\" x=\"4175.75\" y=\"-873.58\" font-family=\"Helvetica,sans-Serif\" font-size=\"14.00\">value = [0, 0, 0, 0, 0, 1407]</text>\n<text text-anchor=\"middle\" x=\"4175.75\" y=\"-857.83\" font-family=\"Helvetica,sans-Serif\" font-size=\"14.00\">class = LAYING</text>\n</g>\n<!-- 0&#45;&gt;1 -->\n<g id=\"edge1\" class=\"edge\">\n<title>0&#45;&gt;1</title>\n<path fill=\"none\" stroke=\"black\" d=\"M4252.15,-966.05C4240.93,-954.58 4228.8,-942.16 4217.58,-930.68\"/>\n<polygon fill=\"black\" stroke=\"black\" points=\"4220.14,-928.29 4210.65,-923.59 4215.13,-933.18 4220.14,-928.29\"/>\n<text text-anchor=\"middle\" x=\"4209.3\" y=\"-942.08\" font-family=\"Helvetica,sans-Serif\" font-size=\"14.00\">True</text>\n</g>\n<!-- 2 -->\n<g id=\"node3\" class=\"node\">\n<title>2</title>\n<polygon fill=\"#fdfbff\" stroke=\"black\" points=\"4541.25,-930.25 4282.25,-930.25 4282.25,-843.5 4541.25,-843.5 4541.25,-930.25\"/>\n<text text-anchor=\"middle\" x=\"4411.75\" y=\"-912.95\" font-family=\"Helvetica,sans-Serif\" font-size=\"14.00\">fBodyAcc&#45;mad()&#45;X &lt;= &#45;0.667</text>\n<text text-anchor=\"middle\" x=\"4411.75\" y=\"-897.2\" font-family=\"Helvetica,sans-Serif\" font-size=\"14.00\">gini = 0.797</text>\n<text text-anchor=\"middle\" x=\"4411.75\" y=\"-881.45\" font-family=\"Helvetica,sans-Serif\" font-size=\"14.00\">samples = 5945</text>\n<text text-anchor=\"middle\" x=\"4411.75\" y=\"-865.7\" font-family=\"Helvetica,sans-Serif\" font-size=\"14.00\">value = [1226, 1073, 986, 1286, 1374, 0]</text>\n<text text-anchor=\"middle\" x=\"4411.75\" y=\"-849.95\" font-family=\"Helvetica,sans-Serif\" font-size=\"14.00\">class = STANDING</text>\n</g>\n<!-- 0&#45;&gt;2 -->\n<g id=\"edge2\" class=\"edge\">\n<title>0&#45;&gt;2</title>\n<path fill=\"none\" stroke=\"black\" d=\"M4335.35,-966.05C4344.08,-957.13 4353.36,-947.63 4362.34,-938.44\"/>\n<polygon fill=\"black\" stroke=\"black\" points=\"4364.58,-941.15 4369.07,-931.55 4359.58,-936.26 4364.58,-941.15\"/>\n<text text-anchor=\"middle\" x=\"4370.41\" y=\"-950.04\" font-family=\"Helvetica,sans-Serif\" font-size=\"14.00\">False</text>\n</g>\n<!-- 3 -->\n<g id=\"node4\" class=\"node\">\n<title>3</title>\n<polygon fill=\"#f7f2fd\" stroke=\"black\" points=\"3396.25,-807.5 3197.25,-807.5 3197.25,-720.75 3396.25,-720.75 3396.25,-807.5\"/>\n<text text-anchor=\"middle\" x=\"3296.75\" y=\"-790.2\" font-family=\"Helvetica,sans-Serif\" font-size=\"14.00\">angle(Y,gravityMean) &lt;= 0.14</text>\n<text text-anchor=\"middle\" x=\"3296.75\" y=\"-774.45\" font-family=\"Helvetica,sans-Serif\" font-size=\"14.00\">gini = 0.499</text>\n<text text-anchor=\"middle\" x=\"3296.75\" y=\"-758.7\" font-family=\"Helvetica,sans-Serif\" font-size=\"14.00\">samples = 2660</text>\n<text text-anchor=\"middle\" x=\"3296.75\" y=\"-742.95\" font-family=\"Helvetica,sans-Serif\" font-size=\"14.00\">value = [0, 0, 0, 1286, 1374, 0]</text>\n<text text-anchor=\"middle\" x=\"3296.75\" y=\"-727.2\" font-family=\"Helvetica,sans-Serif\" font-size=\"14.00\">class = STANDING</text>\n</g>\n<!-- 2&#45;&gt;3 -->\n<g id=\"edge3\" class=\"edge\">\n<title>2&#45;&gt;3</title>\n<path fill=\"none\" stroke=\"black\" d=\"M4282.12,-845.39C4278.97,-844.72 4275.85,-844.09 4272.75,-843.5 3963.14,-784.59 3590.08,-769.9 3407.86,-766.28\"/>\n<polygon fill=\"black\" stroke=\"black\" points=\"3407.98,-762.78 3397.91,-766.09 3407.85,-769.78 3407.98,-762.78\"/>\n</g>\n<!-- 62 -->\n<g id=\"node63\" class=\"node\">\n<title>62</title>\n<polygon fill=\"#fdf6f1\" stroke=\"black\" points=\"6469.25,-807.5 6252.25,-807.5 6252.25,-720.75 6469.25,-720.75 6469.25,-807.5\"/>\n<text text-anchor=\"middle\" x=\"6360.75\" y=\"-790.2\" font-family=\"Helvetica,sans-Serif\" font-size=\"14.00\">fBodyAccMag&#45;energy() &lt;= &#45;0.525</text>\n<text text-anchor=\"middle\" x=\"6360.75\" y=\"-774.45\" font-family=\"Helvetica,sans-Serif\" font-size=\"14.00\">gini = 0.664</text>\n<text text-anchor=\"middle\" x=\"6360.75\" y=\"-758.7\" font-family=\"Helvetica,sans-Serif\" font-size=\"14.00\">samples = 3285</text>\n<text text-anchor=\"middle\" x=\"6360.75\" y=\"-742.95\" font-family=\"Helvetica,sans-Serif\" font-size=\"14.00\">value = [1226, 1073, 986, 0, 0, 0]</text>\n<text text-anchor=\"middle\" x=\"6360.75\" y=\"-727.2\" font-family=\"Helvetica,sans-Serif\" font-size=\"14.00\">class = WALKING</text>\n</g>\n<!-- 2&#45;&gt;62 -->\n<g id=\"edge62\" class=\"edge\">\n<title>2&#45;&gt;62</title>\n<path fill=\"none\" stroke=\"black\" d=\"M4541.52,-877.84C4899.02,-855.69 5894.55,-794.01 6240.47,-772.58\"/>\n<polygon fill=\"black\" stroke=\"black\" points=\"6240.48,-776.08 6250.25,-771.97 6240.05,-769.1 6240.48,-776.08\"/>\n</g>\n<!-- 4 -->\n<g id=\"node5\" class=\"node\">\n<title>4</title>\n<polygon fill=\"#58ace9\" stroke=\"black\" points=\"1774.38,-684.75 1573.12,-684.75 1573.12,-598 1774.38,-598 1774.38,-684.75\"/>\n<text text-anchor=\"middle\" x=\"1673.75\" y=\"-667.45\" font-family=\"Helvetica,sans-Serif\" font-size=\"14.00\">tGravityAcc&#45;energy()&#45;Y &lt;= &#45;1.0</text>\n<text text-anchor=\"middle\" x=\"1673.75\" y=\"-651.7\" font-family=\"Helvetica,sans-Serif\" font-size=\"14.00\">gini = 0.234</text>\n<text text-anchor=\"middle\" x=\"1673.75\" y=\"-635.95\" font-family=\"Helvetica,sans-Serif\" font-size=\"14.00\">samples = 1357</text>\n<text text-anchor=\"middle\" x=\"1673.75\" y=\"-620.2\" font-family=\"Helvetica,sans-Serif\" font-size=\"14.00\">value = [0, 0, 0, 1173, 184, 0]</text>\n<text text-anchor=\"middle\" x=\"1673.75\" y=\"-604.45\" font-family=\"Helvetica,sans-Serif\" font-size=\"14.00\">class = SITTING</text>\n</g>\n<!-- 3&#45;&gt;4 -->\n<g id=\"edge4\" class=\"edge\">\n<title>3&#45;&gt;4</title>\n<path fill=\"none\" stroke=\"black\" d=\"M3196.75,-755.69C2910.21,-734.37 2087.45,-673.15 1786.1,-650.73\"/>\n<polygon fill=\"black\" stroke=\"black\" points=\"1786.47,-647.25 1776.24,-650 1785.95,-654.23 1786.47,-647.25\"/>\n</g>\n<!-- 39 -->\n<g id=\"node40\" class=\"node\">\n<title>39</title>\n<polygon fill=\"#8d4ce7\" stroke=\"black\" points=\"3391.75,-684.75 3201.75,-684.75 3201.75,-598 3391.75,-598 3391.75,-684.75\"/>\n<text text-anchor=\"middle\" x=\"3296.75\" y=\"-667.45\" font-family=\"Helvetica,sans-Serif\" font-size=\"14.00\">tBodyGyro&#45;min()&#45;X &lt;= 0.845</text>\n<text text-anchor=\"middle\" x=\"3296.75\" y=\"-651.7\" font-family=\"Helvetica,sans-Serif\" font-size=\"14.00\">gini = 0.158</text>\n<text text-anchor=\"middle\" x=\"3296.75\" y=\"-635.95\" font-family=\"Helvetica,sans-Serif\" font-size=\"14.00\">samples = 1303</text>\n<text text-anchor=\"middle\" x=\"3296.75\" y=\"-620.2\" font-family=\"Helvetica,sans-Serif\" font-size=\"14.00\">value = [0, 0, 0, 113, 1190, 0]</text>\n<text text-anchor=\"middle\" x=\"3296.75\" y=\"-604.45\" font-family=\"Helvetica,sans-Serif\" font-size=\"14.00\">class = STANDING</text>\n</g>\n<!-- 3&#45;&gt;39 -->\n<g id=\"edge39\" class=\"edge\">\n<title>3&#45;&gt;39</title>\n<path fill=\"none\" stroke=\"black\" d=\"M3296.75,-720.55C3296.75,-712.71 3296.75,-704.42 3296.75,-696.29\"/>\n<polygon fill=\"black\" stroke=\"black\" points=\"3300.25,-696.48 3296.75,-686.48 3293.25,-696.48 3300.25,-696.48\"/>\n</g>\n<!-- 5 -->\n<g id=\"node6\" class=\"node\">\n<title>5</title>\n<polygon fill=\"#c4a2f3\" stroke=\"black\" points=\"700,-562 511.5,-562 511.5,-475.25 700,-475.25 700,-562\"/>\n<text text-anchor=\"middle\" x=\"605.75\" y=\"-544.7\" font-family=\"Helvetica,sans-Serif\" font-size=\"14.00\">tGravityAcc&#45;max()&#45;Z &lt;= 0.06</text>\n<text text-anchor=\"middle\" x=\"605.75\" y=\"-528.95\" font-family=\"Helvetica,sans-Serif\" font-size=\"14.00\">gini = 0.453</text>\n<text text-anchor=\"middle\" x=\"605.75\" y=\"-513.2\" font-family=\"Helvetica,sans-Serif\" font-size=\"14.00\">samples = 95</text>\n<text text-anchor=\"middle\" x=\"605.75\" y=\"-497.45\" font-family=\"Helvetica,sans-Serif\" font-size=\"14.00\">value = [0, 0, 0, 33, 62, 0]</text>\n<text text-anchor=\"middle\" x=\"605.75\" y=\"-481.7\" font-family=\"Helvetica,sans-Serif\" font-size=\"14.00\">class = STANDING</text>\n</g>\n<!-- 4&#45;&gt;5 -->\n<g id=\"edge5\" class=\"edge\">\n<title>4&#45;&gt;5</title>\n<path fill=\"none\" stroke=\"black\" d=\"M1572.79,-628.96C1370.7,-606.11 918.2,-554.95 711.9,-531.63\"/>\n<polygon fill=\"black\" stroke=\"black\" points=\"712.3,-528.15 701.97,-530.5 711.51,-535.11 712.3,-528.15\"/>\n</g>\n<!-- 14 -->\n<g id=\"node15\" class=\"node\">\n<title>14</title>\n<polygon fill=\"#4ea7e8\" stroke=\"black\" points=\"1771.75,-562 1575.75,-562 1575.75,-475.25 1771.75,-475.25 1771.75,-562\"/>\n<text text-anchor=\"middle\" x=\"1673.75\" y=\"-544.7\" font-family=\"Helvetica,sans-Serif\" font-size=\"14.00\">tBodyGyro&#45;max()&#45;X &lt;= &#45;0.869</text>\n<text text-anchor=\"middle\" x=\"1673.75\" y=\"-528.95\" font-family=\"Helvetica,sans-Serif\" font-size=\"14.00\">gini = 0.175</text>\n<text text-anchor=\"middle\" x=\"1673.75\" y=\"-513.2\" font-family=\"Helvetica,sans-Serif\" font-size=\"14.00\">samples = 1262</text>\n<text text-anchor=\"middle\" x=\"1673.75\" y=\"-497.45\" font-family=\"Helvetica,sans-Serif\" font-size=\"14.00\">value = [0, 0, 0, 1140, 122, 0]</text>\n<text text-anchor=\"middle\" x=\"1673.75\" y=\"-481.7\" font-family=\"Helvetica,sans-Serif\" font-size=\"14.00\">class = SITTING</text>\n</g>\n<!-- 4&#45;&gt;14 -->\n<g id=\"edge14\" class=\"edge\">\n<title>4&#45;&gt;14</title>\n<path fill=\"none\" stroke=\"black\" d=\"M1673.75,-597.8C1673.75,-589.96 1673.75,-581.67 1673.75,-573.54\"/>\n<polygon fill=\"black\" stroke=\"black\" points=\"1677.25,-573.73 1673.75,-563.73 1670.25,-573.73 1677.25,-573.73\"/>\n</g>\n<!-- 6 -->\n<g id=\"node7\" class=\"node\">\n<title>6</title>\n<polygon fill=\"#843ee6\" stroke=\"black\" points=\"393.75,-439.25 119.75,-439.25 119.75,-352.5 393.75,-352.5 393.75,-439.25\"/>\n<text text-anchor=\"middle\" x=\"256.75\" y=\"-421.95\" font-family=\"Helvetica,sans-Serif\" font-size=\"14.00\">fBodyGyro&#45;bandsEnergy()&#45;49,64 &lt;= &#45;0.997</text>\n<text text-anchor=\"middle\" x=\"256.75\" y=\"-406.2\" font-family=\"Helvetica,sans-Serif\" font-size=\"14.00\">gini = 0.044</text>\n<text text-anchor=\"middle\" x=\"256.75\" y=\"-390.45\" font-family=\"Helvetica,sans-Serif\" font-size=\"14.00\">samples = 44</text>\n<text text-anchor=\"middle\" x=\"256.75\" y=\"-374.7\" font-family=\"Helvetica,sans-Serif\" font-size=\"14.00\">value = [0, 0, 0, 1, 43, 0]</text>\n<text text-anchor=\"middle\" x=\"256.75\" y=\"-358.95\" font-family=\"Helvetica,sans-Serif\" font-size=\"14.00\">class = STANDING</text>\n</g>\n<!-- 5&#45;&gt;6 -->\n<g id=\"edge6\" class=\"edge\">\n<title>5&#45;&gt;6</title>\n<path fill=\"none\" stroke=\"black\" d=\"M511.31,-484.95C474.34,-472.16 431.25,-457.25 391.14,-443.37\"/>\n<polygon fill=\"black\" stroke=\"black\" points=\"392.5,-440.14 381.9,-440.18 390.21,-446.75 392.5,-440.14\"/>\n</g>\n<!-- 9 -->\n<g id=\"node10\" class=\"node\">\n<title>9</title>\n<polygon fill=\"#afd7f4\" stroke=\"black\" points=\"716.5,-439.25 495,-439.25 495,-352.5 716.5,-352.5 716.5,-439.25\"/>\n<text text-anchor=\"middle\" x=\"605.75\" y=\"-421.95\" font-family=\"Helvetica,sans-Serif\" font-size=\"14.00\">tBodyGyroJerk&#45;max()&#45;X &lt;= &#45;0.983</text>\n<text text-anchor=\"middle\" x=\"605.75\" y=\"-406.2\" font-family=\"Helvetica,sans-Serif\" font-size=\"14.00\">gini = 0.468</text>\n<text text-anchor=\"middle\" x=\"605.75\" y=\"-390.45\" font-family=\"Helvetica,sans-Serif\" font-size=\"14.00\">samples = 51</text>\n<text text-anchor=\"middle\" x=\"605.75\" y=\"-374.7\" font-family=\"Helvetica,sans-Serif\" font-size=\"14.00\">value = [0, 0, 0, 32, 19, 0]</text>\n<text text-anchor=\"middle\" x=\"605.75\" y=\"-358.95\" font-family=\"Helvetica,sans-Serif\" font-size=\"14.00\">class = SITTING</text>\n</g>\n<!-- 5&#45;&gt;9 -->\n<g id=\"edge9\" class=\"edge\">\n<title>5&#45;&gt;9</title>\n<path fill=\"none\" stroke=\"black\" d=\"M605.75,-475.05C605.75,-467.21 605.75,-458.92 605.75,-450.79\"/>\n<polygon fill=\"black\" stroke=\"black\" points=\"609.25,-450.98 605.75,-440.98 602.25,-450.98 609.25,-450.98\"/>\n</g>\n<!-- 7 -->\n<g id=\"node8\" class=\"node\">\n<title>7</title>\n<polygon fill=\"#8139e5\" stroke=\"black\" points=\"161.5,-308.62 0,-308.62 0,-237.62 161.5,-237.62 161.5,-308.62\"/>\n<text text-anchor=\"middle\" x=\"80.75\" y=\"-291.32\" font-family=\"Helvetica,sans-Serif\" font-size=\"14.00\">gini = 0.0</text>\n<text text-anchor=\"middle\" x=\"80.75\" y=\"-275.57\" font-family=\"Helvetica,sans-Serif\" font-size=\"14.00\">samples = 43</text>\n<text text-anchor=\"middle\" x=\"80.75\" y=\"-259.82\" font-family=\"Helvetica,sans-Serif\" font-size=\"14.00\">value = [0, 0, 0, 0, 43, 0]</text>\n<text text-anchor=\"middle\" x=\"80.75\" y=\"-244.07\" font-family=\"Helvetica,sans-Serif\" font-size=\"14.00\">class = STANDING</text>\n</g>\n<!-- 6&#45;&gt;7 -->\n<g id=\"edge7\" class=\"edge\">\n<title>6&#45;&gt;7</title>\n<path fill=\"none\" stroke=\"black\" d=\"M194.7,-352.3C177.25,-340.33 158.3,-327.33 140.96,-315.43\"/>\n<polygon fill=\"black\" stroke=\"black\" points=\"142.98,-312.58 132.75,-309.8 139.02,-318.35 142.98,-312.58\"/>\n</g>\n<!-- 8 -->\n<g id=\"node9\" class=\"node\">\n<title>8</title>\n<polygon fill=\"#399de5\" stroke=\"black\" points=\"333.75,-308.62 179.75,-308.62 179.75,-237.62 333.75,-237.62 333.75,-308.62\"/>\n<text text-anchor=\"middle\" x=\"256.75\" y=\"-291.32\" font-family=\"Helvetica,sans-Serif\" font-size=\"14.00\">gini = 0.0</text>\n<text text-anchor=\"middle\" x=\"256.75\" y=\"-275.57\" font-family=\"Helvetica,sans-Serif\" font-size=\"14.00\">samples = 1</text>\n<text text-anchor=\"middle\" x=\"256.75\" y=\"-259.82\" font-family=\"Helvetica,sans-Serif\" font-size=\"14.00\">value = [0, 0, 0, 1, 0, 0]</text>\n<text text-anchor=\"middle\" x=\"256.75\" y=\"-244.07\" font-family=\"Helvetica,sans-Serif\" font-size=\"14.00\">class = SITTING</text>\n</g>\n<!-- 6&#45;&gt;8 -->\n<g id=\"edge8\" class=\"edge\">\n<title>6&#45;&gt;8</title>\n<path fill=\"none\" stroke=\"black\" d=\"M256.75,-352.3C256.75,-341.83 256.75,-330.58 256.75,-319.96\"/>\n<polygon fill=\"black\" stroke=\"black\" points=\"260.25,-320.27 256.75,-310.27 253.25,-320.27 260.25,-320.27\"/>\n</g>\n<!-- 10 -->\n<g id=\"node11\" class=\"node\">\n<title>10</title>\n<polygon fill=\"#45a3e7\" stroke=\"black\" points=\"589.75,-316.5 351.75,-316.5 351.75,-229.75 589.75,-229.75 589.75,-316.5\"/>\n<text text-anchor=\"middle\" x=\"470.75\" y=\"-299.2\" font-family=\"Helvetica,sans-Serif\" font-size=\"14.00\">tBodyAccJerk&#45;arCoeff()&#45;X,3 &lt;= 0.411</text>\n<text text-anchor=\"middle\" x=\"470.75\" y=\"-283.45\" font-family=\"Helvetica,sans-Serif\" font-size=\"14.00\">gini = 0.111</text>\n<text text-anchor=\"middle\" x=\"470.75\" y=\"-267.7\" font-family=\"Helvetica,sans-Serif\" font-size=\"14.00\">samples = 34</text>\n<text text-anchor=\"middle\" x=\"470.75\" y=\"-251.95\" font-family=\"Helvetica,sans-Serif\" font-size=\"14.00\">value = [0, 0, 0, 32, 2, 0]</text>\n<text text-anchor=\"middle\" x=\"470.75\" y=\"-236.2\" font-family=\"Helvetica,sans-Serif\" font-size=\"14.00\">class = SITTING</text>\n</g>\n<!-- 9&#45;&gt;10 -->\n<g id=\"edge10\" class=\"edge\">\n<title>9&#45;&gt;10</title>\n<path fill=\"none\" stroke=\"black\" d=\"M558.15,-352.3C547.97,-343.19 537.12,-333.49 526.66,-324.13\"/>\n<polygon fill=\"black\" stroke=\"black\" points=\"529.29,-321.79 519.5,-317.73 524.62,-327 529.29,-321.79\"/>\n</g>\n<!-- 13 -->\n<g id=\"node14\" class=\"node\">\n<title>13</title>\n<polygon fill=\"#8139e5\" stroke=\"black\" points=\"769.5,-308.62 608,-308.62 608,-237.62 769.5,-237.62 769.5,-308.62\"/>\n<text text-anchor=\"middle\" x=\"688.75\" y=\"-291.32\" font-family=\"Helvetica,sans-Serif\" font-size=\"14.00\">gini = 0.0</text>\n<text text-anchor=\"middle\" x=\"688.75\" y=\"-275.57\" font-family=\"Helvetica,sans-Serif\" font-size=\"14.00\">samples = 17</text>\n<text text-anchor=\"middle\" x=\"688.75\" y=\"-259.82\" font-family=\"Helvetica,sans-Serif\" font-size=\"14.00\">value = [0, 0, 0, 0, 17, 0]</text>\n<text text-anchor=\"middle\" x=\"688.75\" y=\"-244.07\" font-family=\"Helvetica,sans-Serif\" font-size=\"14.00\">class = STANDING</text>\n</g>\n<!-- 9&#45;&gt;13 -->\n<g id=\"edge13\" class=\"edge\">\n<title>9&#45;&gt;13</title>\n<path fill=\"none\" stroke=\"black\" d=\"M635.01,-352.3C642.67,-341.16 650.94,-329.14 658.64,-317.93\"/>\n<polygon fill=\"black\" stroke=\"black\" points=\"661.31,-320.22 664.09,-310 655.54,-316.26 661.31,-320.22\"/>\n</g>\n<!-- 11 -->\n<g id=\"node12\" class=\"node\">\n<title>11</title>\n<polygon fill=\"#399de5\" stroke=\"black\" points=\"375.5,-185.88 214,-185.88 214,-114.88 375.5,-114.88 375.5,-185.88\"/>\n<text text-anchor=\"middle\" x=\"294.75\" y=\"-168.57\" font-family=\"Helvetica,sans-Serif\" font-size=\"14.00\">gini = 0.0</text>\n<text text-anchor=\"middle\" x=\"294.75\" y=\"-152.82\" font-family=\"Helvetica,sans-Serif\" font-size=\"14.00\">samples = 32</text>\n<text text-anchor=\"middle\" x=\"294.75\" y=\"-137.07\" font-family=\"Helvetica,sans-Serif\" font-size=\"14.00\">value = [0, 0, 0, 32, 0, 0]</text>\n<text text-anchor=\"middle\" x=\"294.75\" y=\"-121.33\" font-family=\"Helvetica,sans-Serif\" font-size=\"14.00\">class = SITTING</text>\n</g>\n<!-- 10&#45;&gt;11 -->\n<g id=\"edge11\" class=\"edge\">\n<title>10&#45;&gt;11</title>\n<path fill=\"none\" stroke=\"black\" d=\"M408.7,-229.55C391.25,-217.58 372.3,-204.58 354.96,-192.68\"/>\n<polygon fill=\"black\" stroke=\"black\" points=\"356.98,-189.83 346.75,-187.05 353.02,-195.6 356.98,-189.83\"/>\n</g>\n<!-- 12 -->\n<g id=\"node13\" class=\"node\">\n<title>12</title>\n<polygon fill=\"#8139e5\" stroke=\"black\" points=\"547.75,-185.88 393.75,-185.88 393.75,-114.88 547.75,-114.88 547.75,-185.88\"/>\n<text text-anchor=\"middle\" x=\"470.75\" y=\"-168.57\" font-family=\"Helvetica,sans-Serif\" font-size=\"14.00\">gini = 0.0</text>\n<text text-anchor=\"middle\" x=\"470.75\" y=\"-152.82\" font-family=\"Helvetica,sans-Serif\" font-size=\"14.00\">samples = 2</text>\n<text text-anchor=\"middle\" x=\"470.75\" y=\"-137.07\" font-family=\"Helvetica,sans-Serif\" font-size=\"14.00\">value = [0, 0, 0, 0, 2, 0]</text>\n<text text-anchor=\"middle\" x=\"470.75\" y=\"-121.33\" font-family=\"Helvetica,sans-Serif\" font-size=\"14.00\">class = STANDING</text>\n</g>\n<!-- 10&#45;&gt;12 -->\n<g id=\"edge12\" class=\"edge\">\n<title>10&#45;&gt;12</title>\n<path fill=\"none\" stroke=\"black\" d=\"M470.75,-229.55C470.75,-219.08 470.75,-207.83 470.75,-197.21\"/>\n<polygon fill=\"black\" stroke=\"black\" points=\"474.25,-197.52 470.75,-187.52 467.25,-197.52 474.25,-197.52\"/>\n</g>\n<!-- 15 -->\n<g id=\"node16\" class=\"node\">\n<title>15</title>\n<polygon fill=\"#40a1e6\" stroke=\"black\" points=\"1561.12,-439.25 1322.38,-439.25 1322.38,-352.5 1561.12,-352.5 1561.12,-439.25\"/>\n<text text-anchor=\"middle\" x=\"1441.75\" y=\"-421.95\" font-family=\"Helvetica,sans-Serif\" font-size=\"14.00\">tBodyGyro&#45;correlation()&#45;Y,Z &lt;= 0.418</text>\n<text text-anchor=\"middle\" x=\"1441.75\" y=\"-406.2\" font-family=\"Helvetica,sans-Serif\" font-size=\"14.00\">gini = 0.068</text>\n<text text-anchor=\"middle\" x=\"1441.75\" y=\"-390.45\" font-family=\"Helvetica,sans-Serif\" font-size=\"14.00\">samples = 994</text>\n<text text-anchor=\"middle\" x=\"1441.75\" y=\"-374.7\" font-family=\"Helvetica,sans-Serif\" font-size=\"14.00\">value = [0, 0, 0, 959, 35, 0]</text>\n<text text-anchor=\"middle\" x=\"1441.75\" y=\"-358.95\" font-family=\"Helvetica,sans-Serif\" font-size=\"14.00\">class = SITTING</text>\n</g>\n<!-- 14&#45;&gt;15 -->\n<g id=\"edge15\" class=\"edge\">\n<title>14&#45;&gt;15</title>\n<path fill=\"none\" stroke=\"black\" d=\"M1591.63,-474.88C1572.96,-465.16 1553,-454.78 1533.94,-444.86\"/>\n<polygon fill=\"black\" stroke=\"black\" points=\"1535.59,-441.77 1525.1,-440.26 1532.36,-447.98 1535.59,-441.77\"/>\n</g>\n<!-- 30 -->\n<g id=\"node31\" class=\"node\">\n<title>30</title>\n<polygon fill=\"#98ccf1\" stroke=\"black\" points=\"2037.12,-439.25 1840.38,-439.25 1840.38,-352.5 2037.12,-352.5 2037.12,-439.25\"/>\n<text text-anchor=\"middle\" x=\"1938.75\" y=\"-421.95\" font-family=\"Helvetica,sans-Serif\" font-size=\"14.00\">tGravityAcc&#45;max()&#45;Y &lt;= 0.069</text>\n<text text-anchor=\"middle\" x=\"1938.75\" y=\"-406.2\" font-family=\"Helvetica,sans-Serif\" font-size=\"14.00\">gini = 0.438</text>\n<text text-anchor=\"middle\" x=\"1938.75\" y=\"-390.45\" font-family=\"Helvetica,sans-Serif\" font-size=\"14.00\">samples = 268</text>\n<text text-anchor=\"middle\" x=\"1938.75\" y=\"-374.7\" font-family=\"Helvetica,sans-Serif\" font-size=\"14.00\">value = [0, 0, 0, 181, 87, 0]</text>\n<text text-anchor=\"middle\" x=\"1938.75\" y=\"-358.95\" font-family=\"Helvetica,sans-Serif\" font-size=\"14.00\">class = SITTING</text>\n</g>\n<!-- 14&#45;&gt;30 -->\n<g id=\"edge30\" class=\"edge\">\n<title>14&#45;&gt;30</title>\n<path fill=\"none\" stroke=\"black\" d=\"M1767.55,-474.88C1789.27,-464.99 1812.52,-454.39 1834.65,-444.31\"/>\n<polygon fill=\"black\" stroke=\"black\" points=\"1836.05,-447.52 1843.7,-440.19 1833.15,-441.15 1836.05,-447.52\"/>\n</g>\n<!-- 16 -->\n<g id=\"node17\" class=\"node\">\n<title>16</title>\n<polygon fill=\"#3c9fe5\" stroke=\"black\" points=\"1058.5,-316.5 873,-316.5 873,-229.75 1058.5,-229.75 1058.5,-316.5\"/>\n<text text-anchor=\"middle\" x=\"965.75\" y=\"-299.2\" font-family=\"Helvetica,sans-Serif\" font-size=\"14.00\">tGravityAcc&#45;min()&#45;X &lt;= 0.99</text>\n<text text-anchor=\"middle\" x=\"965.75\" y=\"-283.45\" font-family=\"Helvetica,sans-Serif\" font-size=\"14.00\">gini = 0.034</text>\n<text text-anchor=\"middle\" x=\"965.75\" y=\"-267.7\" font-family=\"Helvetica,sans-Serif\" font-size=\"14.00\">samples = 927</text>\n<text text-anchor=\"middle\" x=\"965.75\" y=\"-251.95\" font-family=\"Helvetica,sans-Serif\" font-size=\"14.00\">value = [0, 0, 0, 911, 16, 0]</text>\n<text text-anchor=\"middle\" x=\"965.75\" y=\"-236.2\" font-family=\"Helvetica,sans-Serif\" font-size=\"14.00\">class = SITTING</text>\n</g>\n<!-- 15&#45;&gt;16 -->\n<g id=\"edge16\" class=\"edge\">\n<title>15&#45;&gt;16</title>\n<path fill=\"none\" stroke=\"black\" d=\"M1321.94,-364.48C1244.24,-344.77 1144.02,-319.35 1069.69,-300.49\"/>\n<polygon fill=\"black\" stroke=\"black\" points=\"1070.94,-297.2 1060.39,-298.13 1069.22,-303.98 1070.94,-297.2\"/>\n</g>\n<!-- 23 -->\n<g id=\"node24\" class=\"node\">\n<title>23</title>\n<polygon fill=\"#87c4ef\" stroke=\"black\" points=\"1538.25,-316.5 1345.25,-316.5 1345.25,-229.75 1538.25,-229.75 1538.25,-316.5\"/>\n<text text-anchor=\"middle\" x=\"1441.75\" y=\"-299.2\" font-family=\"Helvetica,sans-Serif\" font-size=\"14.00\">tGravityAcc&#45;min()&#45;X &lt;= 0.961</text>\n<text text-anchor=\"middle\" x=\"1441.75\" y=\"-283.45\" font-family=\"Helvetica,sans-Serif\" font-size=\"14.00\">gini = 0.406</text>\n<text text-anchor=\"middle\" x=\"1441.75\" y=\"-267.7\" font-family=\"Helvetica,sans-Serif\" font-size=\"14.00\">samples = 67</text>\n<text text-anchor=\"middle\" x=\"1441.75\" y=\"-251.95\" font-family=\"Helvetica,sans-Serif\" font-size=\"14.00\">value = [0, 0, 0, 48, 19, 0]</text>\n<text text-anchor=\"middle\" x=\"1441.75\" y=\"-236.2\" font-family=\"Helvetica,sans-Serif\" font-size=\"14.00\">class = SITTING</text>\n</g>\n<!-- 15&#45;&gt;23 -->\n<g id=\"edge23\" class=\"edge\">\n<title>15&#45;&gt;23</title>\n<path fill=\"none\" stroke=\"black\" d=\"M1441.75,-352.3C1441.75,-344.46 1441.75,-336.17 1441.75,-328.04\"/>\n<polygon fill=\"black\" stroke=\"black\" points=\"1445.25,-328.23 1441.75,-318.23 1438.25,-328.23 1445.25,-328.23\"/>\n</g>\n<!-- 17 -->\n<g id=\"node18\" class=\"node\">\n<title>17</title>\n<polygon fill=\"#3a9ee5\" stroke=\"black\" points=\"786.12,-193.75 565.38,-193.75 565.38,-107 786.12,-107 786.12,-193.75\"/>\n<text text-anchor=\"middle\" x=\"675.75\" y=\"-176.45\" font-family=\"Helvetica,sans-Serif\" font-size=\"14.00\">tBodyGyro&#45;arCoeff()&#45;X,2 &lt;= 0.544</text>\n<text text-anchor=\"middle\" x=\"675.75\" y=\"-160.7\" font-family=\"Helvetica,sans-Serif\" font-size=\"14.00\">gini = 0.012</text>\n<text text-anchor=\"middle\" x=\"675.75\" y=\"-144.95\" font-family=\"Helvetica,sans-Serif\" font-size=\"14.00\">samples = 851</text>\n<text text-anchor=\"middle\" x=\"675.75\" y=\"-129.2\" font-family=\"Helvetica,sans-Serif\" font-size=\"14.00\">value = [0, 0, 0, 846, 5, 0]</text>\n<text text-anchor=\"middle\" x=\"675.75\" y=\"-113.45\" font-family=\"Helvetica,sans-Serif\" font-size=\"14.00\">class = SITTING</text>\n</g>\n<!-- 16&#45;&gt;17 -->\n<g id=\"edge17\" class=\"edge\">\n<title>16&#45;&gt;17</title>\n<path fill=\"none\" stroke=\"black\" d=\"M872.8,-233.42C846.13,-222.32 816.76,-210.09 789.02,-198.54\"/>\n<polygon fill=\"black\" stroke=\"black\" points=\"790.45,-195.34 779.88,-194.73 787.76,-201.81 790.45,-195.34\"/>\n</g>\n<!-- 20 -->\n<g id=\"node21\" class=\"node\">\n<title>20</title>\n<polygon fill=\"#5baee9\" stroke=\"black\" points=\"1061.88,-193.75 869.62,-193.75 869.62,-107 1061.88,-107 1061.88,-193.75\"/>\n<text text-anchor=\"middle\" x=\"965.75\" y=\"-176.45\" font-family=\"Helvetica,sans-Serif\" font-size=\"14.00\">tGravityAcc&#45;min()&#45;Z &lt;= 0.067</text>\n<text text-anchor=\"middle\" x=\"965.75\" y=\"-160.7\" font-family=\"Helvetica,sans-Serif\" font-size=\"14.00\">gini = 0.248</text>\n<text text-anchor=\"middle\" x=\"965.75\" y=\"-144.95\" font-family=\"Helvetica,sans-Serif\" font-size=\"14.00\">samples = 76</text>\n<text text-anchor=\"middle\" x=\"965.75\" y=\"-129.2\" font-family=\"Helvetica,sans-Serif\" font-size=\"14.00\">value = [0, 0, 0, 65, 11, 0]</text>\n<text text-anchor=\"middle\" x=\"965.75\" y=\"-113.45\" font-family=\"Helvetica,sans-Serif\" font-size=\"14.00\">class = SITTING</text>\n</g>\n<!-- 16&#45;&gt;20 -->\n<g id=\"edge20\" class=\"edge\">\n<title>16&#45;&gt;20</title>\n<path fill=\"none\" stroke=\"black\" d=\"M965.75,-229.55C965.75,-221.71 965.75,-213.42 965.75,-205.29\"/>\n<polygon fill=\"black\" stroke=\"black\" points=\"969.25,-205.48 965.75,-195.48 962.25,-205.48 969.25,-205.48\"/>\n</g>\n<!-- 18 -->\n<g id=\"node19\" class=\"node\">\n<title>18</title>\n<polygon fill=\"#3a9de5\" stroke=\"black\" points=\"547.25,-71 378.25,-71 378.25,0 547.25,0 547.25,-71\"/>\n<text text-anchor=\"middle\" x=\"462.75\" y=\"-53.7\" font-family=\"Helvetica,sans-Serif\" font-size=\"14.00\">gini = 0.009</text>\n<text text-anchor=\"middle\" x=\"462.75\" y=\"-37.95\" font-family=\"Helvetica,sans-Serif\" font-size=\"14.00\">samples = 850</text>\n<text text-anchor=\"middle\" x=\"462.75\" y=\"-22.2\" font-family=\"Helvetica,sans-Serif\" font-size=\"14.00\">value = [0, 0, 0, 846, 4, 0]</text>\n<text text-anchor=\"middle\" x=\"462.75\" y=\"-6.45\" font-family=\"Helvetica,sans-Serif\" font-size=\"14.00\">class = SITTING</text>\n</g>\n<!-- 17&#45;&gt;18 -->\n<g id=\"edge18\" class=\"edge\">\n<title>17&#45;&gt;18</title>\n<path fill=\"none\" stroke=\"black\" d=\"M594.92,-106.54C576.45,-96.75 556.89,-86.39 538.63,-76.71\"/>\n<polygon fill=\"black\" stroke=\"black\" points=\"540.45,-73.72 529.98,-72.13 537.18,-79.9 540.45,-73.72\"/>\n</g>\n<!-- 19 -->\n<g id=\"node20\" class=\"node\">\n<title>19</title>\n<polygon fill=\"#8139e5\" stroke=\"black\" points=\"719.75,-71 565.75,-71 565.75,0 719.75,0 719.75,-71\"/>\n<text text-anchor=\"middle\" x=\"642.75\" y=\"-53.7\" font-family=\"Helvetica,sans-Serif\" font-size=\"14.00\">gini = 0.0</text>\n<text text-anchor=\"middle\" x=\"642.75\" y=\"-37.95\" font-family=\"Helvetica,sans-Serif\" font-size=\"14.00\">samples = 1</text>\n<text text-anchor=\"middle\" x=\"642.75\" y=\"-22.2\" font-family=\"Helvetica,sans-Serif\" font-size=\"14.00\">value = [0, 0, 0, 0, 1, 0]</text>\n<text text-anchor=\"middle\" x=\"642.75\" y=\"-6.45\" font-family=\"Helvetica,sans-Serif\" font-size=\"14.00\">class = STANDING</text>\n</g>\n<!-- 17&#45;&gt;19 -->\n<g id=\"edge19\" class=\"edge\">\n<title>17&#45;&gt;19</title>\n<path fill=\"none\" stroke=\"black\" d=\"M663.27,-106.7C660.92,-98.63 658.44,-90.16 656.06,-82.01\"/>\n<polygon fill=\"black\" stroke=\"black\" points=\"659.47,-81.23 653.31,-72.61 652.75,-83.19 659.47,-81.23\"/>\n</g>\n<!-- 21 -->\n<g id=\"node22\" class=\"node\">\n<title>21</title>\n<polygon fill=\"#3c9fe5\" stroke=\"black\" points=\"899.5,-71 738,-71 738,0 899.5,0 899.5,-71\"/>\n<text text-anchor=\"middle\" x=\"818.75\" y=\"-53.7\" font-family=\"Helvetica,sans-Serif\" font-size=\"14.00\">gini = 0.03</text>\n<text text-anchor=\"middle\" x=\"818.75\" y=\"-37.95\" font-family=\"Helvetica,sans-Serif\" font-size=\"14.00\">samples = 66</text>\n<text text-anchor=\"middle\" x=\"818.75\" y=\"-22.2\" font-family=\"Helvetica,sans-Serif\" font-size=\"14.00\">value = [0, 0, 0, 65, 1, 0]</text>\n<text text-anchor=\"middle\" x=\"818.75\" y=\"-6.45\" font-family=\"Helvetica,sans-Serif\" font-size=\"14.00\">class = SITTING</text>\n</g>\n<!-- 20&#45;&gt;21 -->\n<g id=\"edge21\" class=\"edge\">\n<title>20&#45;&gt;21</title>\n<path fill=\"none\" stroke=\"black\" d=\"M910.18,-106.7C898,-97.35 885.12,-87.46 872.99,-78.15\"/>\n<polygon fill=\"black\" stroke=\"black\" points=\"875.15,-75.39 865.09,-72.08 870.89,-80.95 875.15,-75.39\"/>\n</g>\n<!-- 22 -->\n<g id=\"node23\" class=\"node\">\n<title>22</title>\n<polygon fill=\"#8139e5\" stroke=\"black\" points=\"1079.5,-71 918,-71 918,0 1079.5,0 1079.5,-71\"/>\n<text text-anchor=\"middle\" x=\"998.75\" y=\"-53.7\" font-family=\"Helvetica,sans-Serif\" font-size=\"14.00\">gini = 0.0</text>\n<text text-anchor=\"middle\" x=\"998.75\" y=\"-37.95\" font-family=\"Helvetica,sans-Serif\" font-size=\"14.00\">samples = 10</text>\n<text text-anchor=\"middle\" x=\"998.75\" y=\"-22.2\" font-family=\"Helvetica,sans-Serif\" font-size=\"14.00\">value = [0, 0, 0, 0, 10, 0]</text>\n<text text-anchor=\"middle\" x=\"998.75\" y=\"-6.45\" font-family=\"Helvetica,sans-Serif\" font-size=\"14.00\">class = STANDING</text>\n</g>\n<!-- 20&#45;&gt;22 -->\n<g id=\"edge22\" class=\"edge\">\n<title>20&#45;&gt;22</title>\n<path fill=\"none\" stroke=\"black\" d=\"M978.23,-106.7C980.58,-98.63 983.06,-90.16 985.44,-82.01\"/>\n<polygon fill=\"black\" stroke=\"black\" points=\"988.75,-83.19 988.19,-72.61 982.03,-81.23 988.75,-83.19\"/>\n</g>\n<!-- 24 -->\n<g id=\"node25\" class=\"node\">\n<title>24</title>\n<polygon fill=\"#3e9fe6\" stroke=\"black\" points=\"1439.75,-193.75 1213.75,-193.75 1213.75,-107 1439.75,-107 1439.75,-193.75\"/>\n<text text-anchor=\"middle\" x=\"1326.75\" y=\"-176.45\" font-family=\"Helvetica,sans-Serif\" font-size=\"14.00\">tGravityAcc&#45;arCoeff()&#45;X,4 &lt;= 0.993</text>\n<text text-anchor=\"middle\" x=\"1326.75\" y=\"-160.7\" font-family=\"Helvetica,sans-Serif\" font-size=\"14.00\">gini = 0.046</text>\n<text text-anchor=\"middle\" x=\"1326.75\" y=\"-144.95\" font-family=\"Helvetica,sans-Serif\" font-size=\"14.00\">samples = 42</text>\n<text text-anchor=\"middle\" x=\"1326.75\" y=\"-129.2\" font-family=\"Helvetica,sans-Serif\" font-size=\"14.00\">value = [0, 0, 0, 41, 1, 0]</text>\n<text text-anchor=\"middle\" x=\"1326.75\" y=\"-113.45\" font-family=\"Helvetica,sans-Serif\" font-size=\"14.00\">class = SITTING</text>\n</g>\n<!-- 23&#45;&gt;24 -->\n<g id=\"edge24\" class=\"edge\">\n<title>23&#45;&gt;24</title>\n<path fill=\"none\" stroke=\"black\" d=\"M1401.21,-229.55C1392.79,-220.72 1383.84,-211.32 1375.17,-202.22\"/>\n<polygon fill=\"black\" stroke=\"black\" points=\"1377.79,-199.89 1368.36,-195.07 1372.72,-204.72 1377.79,-199.89\"/>\n</g>\n<!-- 27 -->\n<g id=\"node28\" class=\"node\">\n<title>27</title>\n<polygon fill=\"#b286ef\" stroke=\"black\" points=\"1658,-193.75 1457.5,-193.75 1457.5,-107 1658,-107 1658,-193.75\"/>\n<text text-anchor=\"middle\" x=\"1557.75\" y=\"-176.45\" font-family=\"Helvetica,sans-Serif\" font-size=\"14.00\">fBodyAccJerk&#45;sma() &lt;= &#45;0.986</text>\n<text text-anchor=\"middle\" x=\"1557.75\" y=\"-160.7\" font-family=\"Helvetica,sans-Serif\" font-size=\"14.00\">gini = 0.403</text>\n<text text-anchor=\"middle\" x=\"1557.75\" y=\"-144.95\" font-family=\"Helvetica,sans-Serif\" font-size=\"14.00\">samples = 25</text>\n<text text-anchor=\"middle\" x=\"1557.75\" y=\"-129.2\" font-family=\"Helvetica,sans-Serif\" font-size=\"14.00\">value = [0, 0, 0, 7, 18, 0]</text>\n<text text-anchor=\"middle\" x=\"1557.75\" y=\"-113.45\" font-family=\"Helvetica,sans-Serif\" font-size=\"14.00\">class = STANDING</text>\n</g>\n<!-- 23&#45;&gt;27 -->\n<g id=\"edge27\" class=\"edge\">\n<title>23&#45;&gt;27</title>\n<path fill=\"none\" stroke=\"black\" d=\"M1482.65,-229.55C1491.14,-220.72 1500.16,-211.32 1508.91,-202.22\"/>\n<polygon fill=\"black\" stroke=\"black\" points=\"1511.38,-204.7 1515.78,-195.06 1506.33,-199.85 1511.38,-204.7\"/>\n</g>\n<!-- 25 -->\n<g id=\"node26\" class=\"node\">\n<title>25</title>\n<polygon fill=\"#399de5\" stroke=\"black\" points=\"1259.5,-71 1098,-71 1098,0 1259.5,0 1259.5,-71\"/>\n<text text-anchor=\"middle\" x=\"1178.75\" y=\"-53.7\" font-family=\"Helvetica,sans-Serif\" font-size=\"14.00\">gini = 0.0</text>\n<text text-anchor=\"middle\" x=\"1178.75\" y=\"-37.95\" font-family=\"Helvetica,sans-Serif\" font-size=\"14.00\">samples = 41</text>\n<text text-anchor=\"middle\" x=\"1178.75\" y=\"-22.2\" font-family=\"Helvetica,sans-Serif\" font-size=\"14.00\">value = [0, 0, 0, 41, 0, 0]</text>\n<text text-anchor=\"middle\" x=\"1178.75\" y=\"-6.45\" font-family=\"Helvetica,sans-Serif\" font-size=\"14.00\">class = SITTING</text>\n</g>\n<!-- 24&#45;&gt;25 -->\n<g id=\"edge25\" class=\"edge\">\n<title>24&#45;&gt;25</title>\n<path fill=\"none\" stroke=\"black\" d=\"M1270.8,-106.7C1258.41,-97.26 1245.31,-87.27 1233,-77.87\"/>\n<polygon fill=\"black\" stroke=\"black\" points=\"1235.47,-75.36 1225.4,-72.08 1231.22,-80.92 1235.47,-75.36\"/>\n</g>\n<!-- 26 -->\n<g id=\"node27\" class=\"node\">\n<title>26</title>\n<polygon fill=\"#8139e5\" stroke=\"black\" points=\"1431.75,-71 1277.75,-71 1277.75,0 1431.75,0 1431.75,-71\"/>\n<text text-anchor=\"middle\" x=\"1354.75\" y=\"-53.7\" font-family=\"Helvetica,sans-Serif\" font-size=\"14.00\">gini = 0.0</text>\n<text text-anchor=\"middle\" x=\"1354.75\" y=\"-37.95\" font-family=\"Helvetica,sans-Serif\" font-size=\"14.00\">samples = 1</text>\n<text text-anchor=\"middle\" x=\"1354.75\" y=\"-22.2\" font-family=\"Helvetica,sans-Serif\" font-size=\"14.00\">value = [0, 0, 0, 0, 1, 0]</text>\n<text text-anchor=\"middle\" x=\"1354.75\" y=\"-6.45\" font-family=\"Helvetica,sans-Serif\" font-size=\"14.00\">class = STANDING</text>\n</g>\n<!-- 24&#45;&gt;26 -->\n<g id=\"edge26\" class=\"edge\">\n<title>24&#45;&gt;26</title>\n<path fill=\"none\" stroke=\"black\" d=\"M1337.34,-106.7C1339.31,-98.72 1341.39,-90.36 1343.39,-82.29\"/>\n<polygon fill=\"black\" stroke=\"black\" points=\"1346.78,-83.17 1345.79,-72.63 1339.98,-81.49 1346.78,-83.17\"/>\n</g>\n<!-- 28 -->\n<g id=\"node29\" class=\"node\">\n<title>28</title>\n<polygon fill=\"#8139e5\" stroke=\"black\" points=\"1611.5,-71 1450,-71 1450,0 1611.5,0 1611.5,-71\"/>\n<text text-anchor=\"middle\" x=\"1530.75\" y=\"-53.7\" font-family=\"Helvetica,sans-Serif\" font-size=\"14.00\">gini = 0.0</text>\n<text text-anchor=\"middle\" x=\"1530.75\" y=\"-37.95\" font-family=\"Helvetica,sans-Serif\" font-size=\"14.00\">samples = 18</text>\n<text text-anchor=\"middle\" x=\"1530.75\" y=\"-22.2\" font-family=\"Helvetica,sans-Serif\" font-size=\"14.00\">value = [0, 0, 0, 0, 18, 0]</text>\n<text text-anchor=\"middle\" x=\"1530.75\" y=\"-6.45\" font-family=\"Helvetica,sans-Serif\" font-size=\"14.00\">class = STANDING</text>\n</g>\n<!-- 27&#45;&gt;28 -->\n<g id=\"edge28\" class=\"edge\">\n<title>27&#45;&gt;28</title>\n<path fill=\"none\" stroke=\"black\" d=\"M1547.54,-106.7C1545.63,-98.72 1543.63,-90.36 1541.7,-82.29\"/>\n<polygon fill=\"black\" stroke=\"black\" points=\"1545.12,-81.54 1539.39,-72.63 1538.31,-83.17 1545.12,-81.54\"/>\n</g>\n<!-- 29 -->\n<g id=\"node30\" class=\"node\">\n<title>29</title>\n<polygon fill=\"#399de5\" stroke=\"black\" points=\"1783.75,-71 1629.75,-71 1629.75,0 1783.75,0 1783.75,-71\"/>\n<text text-anchor=\"middle\" x=\"1706.75\" y=\"-53.7\" font-family=\"Helvetica,sans-Serif\" font-size=\"14.00\">gini = 0.0</text>\n<text text-anchor=\"middle\" x=\"1706.75\" y=\"-37.95\" font-family=\"Helvetica,sans-Serif\" font-size=\"14.00\">samples = 7</text>\n<text text-anchor=\"middle\" x=\"1706.75\" y=\"-22.2\" font-family=\"Helvetica,sans-Serif\" font-size=\"14.00\">value = [0, 0, 0, 7, 0, 0]</text>\n<text text-anchor=\"middle\" x=\"1706.75\" y=\"-6.45\" font-family=\"Helvetica,sans-Serif\" font-size=\"14.00\">class = SITTING</text>\n</g>\n<!-- 27&#45;&gt;29 -->\n<g id=\"edge29\" class=\"edge\">\n<title>27&#45;&gt;29</title>\n<path fill=\"none\" stroke=\"black\" d=\"M1614.08,-106.7C1626.55,-97.26 1639.74,-87.27 1652.14,-77.87\"/>\n<polygon fill=\"black\" stroke=\"black\" points=\"1653.94,-80.9 1659.79,-72.07 1649.71,-75.32 1653.94,-80.9\"/>\n</g>\n<!-- 31 -->\n<g id=\"node32\" class=\"node\">\n<title>31</title>\n<polygon fill=\"#efe6fc\" stroke=\"black\" points=\"2031.12,-316.5 1846.38,-316.5 1846.38,-229.75 2031.12,-229.75 2031.12,-316.5\"/>\n<text text-anchor=\"middle\" x=\"1938.75\" y=\"-299.2\" font-family=\"Helvetica,sans-Serif\" font-size=\"14.00\">fBodyGyro&#45;iqr()&#45;Y &lt;= &#45;0.987</text>\n<text text-anchor=\"middle\" x=\"1938.75\" y=\"-283.45\" font-family=\"Helvetica,sans-Serif\" font-size=\"14.00\">gini = 0.498</text>\n<text text-anchor=\"middle\" x=\"1938.75\" y=\"-267.7\" font-family=\"Helvetica,sans-Serif\" font-size=\"14.00\">samples = 163</text>\n<text text-anchor=\"middle\" x=\"1938.75\" y=\"-251.95\" font-family=\"Helvetica,sans-Serif\" font-size=\"14.00\">value = [0, 0, 0, 76, 87, 0]</text>\n<text text-anchor=\"middle\" x=\"1938.75\" y=\"-236.2\" font-family=\"Helvetica,sans-Serif\" font-size=\"14.00\">class = STANDING</text>\n</g>\n<!-- 30&#45;&gt;31 -->\n<g id=\"edge31\" class=\"edge\">\n<title>30&#45;&gt;31</title>\n<path fill=\"none\" stroke=\"black\" d=\"M1938.75,-352.3C1938.75,-344.46 1938.75,-336.17 1938.75,-328.04\"/>\n<polygon fill=\"black\" stroke=\"black\" points=\"1942.25,-328.23 1938.75,-318.23 1935.25,-328.23 1942.25,-328.23\"/>\n</g>\n<!-- 38 -->\n<g id=\"node39\" class=\"node\">\n<title>38</title>\n<polygon fill=\"#399de5\" stroke=\"black\" points=\"2218.25,-308.62 2049.25,-308.62 2049.25,-237.62 2218.25,-237.62 2218.25,-308.62\"/>\n<text text-anchor=\"middle\" x=\"2133.75\" y=\"-291.32\" font-family=\"Helvetica,sans-Serif\" font-size=\"14.00\">gini = 0.0</text>\n<text text-anchor=\"middle\" x=\"2133.75\" y=\"-275.57\" font-family=\"Helvetica,sans-Serif\" font-size=\"14.00\">samples = 105</text>\n<text text-anchor=\"middle\" x=\"2133.75\" y=\"-259.82\" font-family=\"Helvetica,sans-Serif\" font-size=\"14.00\">value = [0, 0, 0, 105, 0, 0]</text>\n<text text-anchor=\"middle\" x=\"2133.75\" y=\"-244.07\" font-family=\"Helvetica,sans-Serif\" font-size=\"14.00\">class = SITTING</text>\n</g>\n<!-- 30&#45;&gt;38 -->\n<g id=\"edge38\" class=\"edge\">\n<title>30&#45;&gt;38</title>\n<path fill=\"none\" stroke=\"black\" d=\"M2007.77,-352.13C2027.27,-340.06 2048.43,-326.96 2067.74,-315\"/>\n<polygon fill=\"black\" stroke=\"black\" points=\"2069.41,-318.08 2076.07,-309.84 2065.72,-312.13 2069.41,-318.08\"/>\n</g>\n<!-- 32 -->\n<g id=\"node33\" class=\"node\">\n<title>32</title>\n<polygon fill=\"#853fe6\" stroke=\"black\" points=\"2064.5,-193.75 1813,-193.75 1813,-107 2064.5,-107 2064.5,-193.75\"/>\n<text text-anchor=\"middle\" x=\"1938.75\" y=\"-176.45\" font-family=\"Helvetica,sans-Serif\" font-size=\"14.00\">fBodyAcc&#45;bandsEnergy()&#45;17,24 &lt;= &#45;1.0</text>\n<text text-anchor=\"middle\" x=\"1938.75\" y=\"-160.7\" font-family=\"Helvetica,sans-Serif\" font-size=\"14.00\">gini = 0.057</text>\n<text text-anchor=\"middle\" x=\"1938.75\" y=\"-144.95\" font-family=\"Helvetica,sans-Serif\" font-size=\"14.00\">samples = 34</text>\n<text text-anchor=\"middle\" x=\"1938.75\" y=\"-129.2\" font-family=\"Helvetica,sans-Serif\" font-size=\"14.00\">value = [0, 0, 0, 1, 33, 0]</text>\n<text text-anchor=\"middle\" x=\"1938.75\" y=\"-113.45\" font-family=\"Helvetica,sans-Serif\" font-size=\"14.00\">class = STANDING</text>\n</g>\n<!-- 31&#45;&gt;32 -->\n<g id=\"edge32\" class=\"edge\">\n<title>31&#45;&gt;32</title>\n<path fill=\"none\" stroke=\"black\" d=\"M1938.75,-229.55C1938.75,-221.71 1938.75,-213.42 1938.75,-205.29\"/>\n<polygon fill=\"black\" stroke=\"black\" points=\"1942.25,-205.48 1938.75,-195.48 1935.25,-205.48 1942.25,-205.48\"/>\n</g>\n<!-- 35 -->\n<g id=\"node36\" class=\"node\">\n<title>35</title>\n<polygon fill=\"#c8e4f8\" stroke=\"black\" points=\"2327.12,-193.75 2142.38,-193.75 2142.38,-107 2327.12,-107 2327.12,-193.75\"/>\n<text text-anchor=\"middle\" x=\"2234.75\" y=\"-176.45\" font-family=\"Helvetica,sans-Serif\" font-size=\"14.00\">tBodyGyro&#45;iqr()&#45;X &lt;= &#45;0.977</text>\n<text text-anchor=\"middle\" x=\"2234.75\" y=\"-160.7\" font-family=\"Helvetica,sans-Serif\" font-size=\"14.00\">gini = 0.487</text>\n<text text-anchor=\"middle\" x=\"2234.75\" y=\"-144.95\" font-family=\"Helvetica,sans-Serif\" font-size=\"14.00\">samples = 129</text>\n<text text-anchor=\"middle\" x=\"2234.75\" y=\"-129.2\" font-family=\"Helvetica,sans-Serif\" font-size=\"14.00\">value = [0, 0, 0, 75, 54, 0]</text>\n<text text-anchor=\"middle\" x=\"2234.75\" y=\"-113.45\" font-family=\"Helvetica,sans-Serif\" font-size=\"14.00\">class = SITTING</text>\n</g>\n<!-- 31&#45;&gt;35 -->\n<g id=\"edge35\" class=\"edge\">\n<title>31&#45;&gt;35</title>\n<path fill=\"none\" stroke=\"black\" d=\"M2031.47,-233.16C2034.26,-232.01 2037.02,-230.87 2039.75,-229.75 2069.49,-217.54 2101.86,-204.45 2131.52,-192.53\"/>\n<polygon fill=\"black\" stroke=\"black\" points=\"2132.51,-195.9 2140.49,-188.93 2129.9,-189.41 2132.51,-195.9\"/>\n</g>\n<!-- 33 -->\n<g id=\"node34\" class=\"node\">\n<title>33</title>\n<polygon fill=\"#399de5\" stroke=\"black\" points=\"1955.75,-71 1801.75,-71 1801.75,0 1955.75,0 1955.75,-71\"/>\n<text text-anchor=\"middle\" x=\"1878.75\" y=\"-53.7\" font-family=\"Helvetica,sans-Serif\" font-size=\"14.00\">gini = 0.0</text>\n<text text-anchor=\"middle\" x=\"1878.75\" y=\"-37.95\" font-family=\"Helvetica,sans-Serif\" font-size=\"14.00\">samples = 1</text>\n<text text-anchor=\"middle\" x=\"1878.75\" y=\"-22.2\" font-family=\"Helvetica,sans-Serif\" font-size=\"14.00\">value = [0, 0, 0, 1, 0, 0]</text>\n<text text-anchor=\"middle\" x=\"1878.75\" y=\"-6.45\" font-family=\"Helvetica,sans-Serif\" font-size=\"14.00\">class = SITTING</text>\n</g>\n<!-- 32&#45;&gt;33 -->\n<g id=\"edge33\" class=\"edge\">\n<title>32&#45;&gt;33</title>\n<path fill=\"none\" stroke=\"black\" d=\"M1916.07,-106.7C1911.63,-98.36 1906.97,-89.59 1902.5,-81.18\"/>\n<polygon fill=\"black\" stroke=\"black\" points=\"1905.67,-79.68 1897.88,-72.49 1899.49,-82.97 1905.67,-79.68\"/>\n</g>\n<!-- 34 -->\n<g id=\"node35\" class=\"node\">\n<title>34</title>\n<polygon fill=\"#8139e5\" stroke=\"black\" points=\"2135.5,-71 1974,-71 1974,0 2135.5,0 2135.5,-71\"/>\n<text text-anchor=\"middle\" x=\"2054.75\" y=\"-53.7\" font-family=\"Helvetica,sans-Serif\" font-size=\"14.00\">gini = 0.0</text>\n<text text-anchor=\"middle\" x=\"2054.75\" y=\"-37.95\" font-family=\"Helvetica,sans-Serif\" font-size=\"14.00\">samples = 33</text>\n<text text-anchor=\"middle\" x=\"2054.75\" y=\"-22.2\" font-family=\"Helvetica,sans-Serif\" font-size=\"14.00\">value = [0, 0, 0, 0, 33, 0]</text>\n<text text-anchor=\"middle\" x=\"2054.75\" y=\"-6.45\" font-family=\"Helvetica,sans-Serif\" font-size=\"14.00\">class = STANDING</text>\n</g>\n<!-- 32&#45;&gt;34 -->\n<g id=\"edge34\" class=\"edge\">\n<title>32&#45;&gt;34</title>\n<path fill=\"none\" stroke=\"black\" d=\"M1982.6,-106.7C1991.93,-97.62 2001.78,-88.04 2011.1,-78.97\"/>\n<polygon fill=\"black\" stroke=\"black\" points=\"2013.32,-81.7 2018.05,-72.21 2008.44,-76.68 2013.32,-81.7\"/>\n</g>\n<!-- 36 -->\n<g id=\"node37\" class=\"node\">\n<title>36</title>\n<polygon fill=\"#53aae8\" stroke=\"black\" points=\"2315.5,-71 2154,-71 2154,0 2315.5,0 2315.5,-71\"/>\n<text text-anchor=\"middle\" x=\"2234.75\" y=\"-53.7\" font-family=\"Helvetica,sans-Serif\" font-size=\"14.00\">gini = 0.208</text>\n<text text-anchor=\"middle\" x=\"2234.75\" y=\"-37.95\" font-family=\"Helvetica,sans-Serif\" font-size=\"14.00\">samples = 51</text>\n<text text-anchor=\"middle\" x=\"2234.75\" y=\"-22.2\" font-family=\"Helvetica,sans-Serif\" font-size=\"14.00\">value = [0, 0, 0, 45, 6, 0]</text>\n<text text-anchor=\"middle\" x=\"2234.75\" y=\"-6.45\" font-family=\"Helvetica,sans-Serif\" font-size=\"14.00\">class = SITTING</text>\n</g>\n<!-- 35&#45;&gt;36 -->\n<g id=\"edge36\" class=\"edge\">\n<title>35&#45;&gt;36</title>\n<path fill=\"none\" stroke=\"black\" d=\"M2234.75,-106.7C2234.75,-98.82 2234.75,-90.55 2234.75,-82.57\"/>\n<polygon fill=\"black\" stroke=\"black\" points=\"2238.25,-82.67 2234.75,-72.67 2231.25,-82.67 2238.25,-82.67\"/>\n</g>\n<!-- 37 -->\n<g id=\"node38\" class=\"node\">\n<title>37</title>\n<polygon fill=\"#d0b5f5\" stroke=\"black\" points=\"2502.25,-71 2333.25,-71 2333.25,0 2502.25,0 2502.25,-71\"/>\n<text text-anchor=\"middle\" x=\"2417.75\" y=\"-53.7\" font-family=\"Helvetica,sans-Serif\" font-size=\"14.00\">gini = 0.473</text>\n<text text-anchor=\"middle\" x=\"2417.75\" y=\"-37.95\" font-family=\"Helvetica,sans-Serif\" font-size=\"14.00\">samples = 78</text>\n<text text-anchor=\"middle\" x=\"2417.75\" y=\"-22.2\" font-family=\"Helvetica,sans-Serif\" font-size=\"14.00\">value = [0, 0, 0, 30, 48, 0]</text>\n<text text-anchor=\"middle\" x=\"2417.75\" y=\"-6.45\" font-family=\"Helvetica,sans-Serif\" font-size=\"14.00\">class = STANDING</text>\n</g>\n<!-- 35&#45;&gt;37 -->\n<g id=\"edge37\" class=\"edge\">\n<title>35&#45;&gt;37</title>\n<path fill=\"none\" stroke=\"black\" d=\"M2304.2,-106.54C2319.77,-96.93 2336.25,-86.77 2351.68,-77.25\"/>\n<polygon fill=\"black\" stroke=\"black\" points=\"2353.18,-80.44 2359.85,-72.21 2349.5,-74.48 2353.18,-80.44\"/>\n</g>\n<!-- 40 -->\n<g id=\"node41\" class=\"node\">\n<title>40</title>\n<polygon fill=\"#8a47e7\" stroke=\"black\" points=\"3255.75,-562 3059.75,-562 3059.75,-475.25 3255.75,-475.25 3255.75,-562\"/>\n<text text-anchor=\"middle\" x=\"3157.75\" y=\"-544.7\" font-family=\"Helvetica,sans-Serif\" font-size=\"14.00\">tBodyGyro&#45;max()&#45;X &lt;= &#45;0.893</text>\n<text text-anchor=\"middle\" x=\"3157.75\" y=\"-528.95\" font-family=\"Helvetica,sans-Serif\" font-size=\"14.00\">gini = 0.121</text>\n<text text-anchor=\"middle\" x=\"3157.75\" y=\"-513.2\" font-family=\"Helvetica,sans-Serif\" font-size=\"14.00\">samples = 1240</text>\n<text text-anchor=\"middle\" x=\"3157.75\" y=\"-497.45\" font-family=\"Helvetica,sans-Serif\" font-size=\"14.00\">value = [0, 0, 0, 80, 1160, 0]</text>\n<text text-anchor=\"middle\" x=\"3157.75\" y=\"-481.7\" font-family=\"Helvetica,sans-Serif\" font-size=\"14.00\">class = STANDING</text>\n</g>\n<!-- 39&#45;&gt;40 -->\n<g id=\"edge40\" class=\"edge\">\n<title>39&#45;&gt;40</title>\n<path fill=\"none\" stroke=\"black\" d=\"M3247.74,-597.8C3237.26,-588.69 3226.09,-578.99 3215.32,-569.63\"/>\n<polygon fill=\"black\" stroke=\"black\" points=\"3217.77,-567.13 3207.92,-563.21 3213.18,-572.41 3217.77,-567.13\"/>\n</g>\n<!-- 53 -->\n<g id=\"node54\" class=\"node\">\n<title>53</title>\n<polygon fill=\"#edf6fd\" stroke=\"black\" points=\"3534.5,-562 3337,-562 3337,-475.25 3534.5,-475.25 3534.5,-562\"/>\n<text text-anchor=\"middle\" x=\"3435.75\" y=\"-544.7\" font-family=\"Helvetica,sans-Serif\" font-size=\"14.00\">tGravityAcc&#45;min()&#45;Y &lt;= &#45;0.139</text>\n<text text-anchor=\"middle\" x=\"3435.75\" y=\"-528.95\" font-family=\"Helvetica,sans-Serif\" font-size=\"14.00\">gini = 0.499</text>\n<text text-anchor=\"middle\" x=\"3435.75\" y=\"-513.2\" font-family=\"Helvetica,sans-Serif\" font-size=\"14.00\">samples = 63</text>\n<text text-anchor=\"middle\" x=\"3435.75\" y=\"-497.45\" font-family=\"Helvetica,sans-Serif\" font-size=\"14.00\">value = [0, 0, 0, 33, 30, 0]</text>\n<text text-anchor=\"middle\" x=\"3435.75\" y=\"-481.7\" font-family=\"Helvetica,sans-Serif\" font-size=\"14.00\">class = SITTING</text>\n</g>\n<!-- 39&#45;&gt;53 -->\n<g id=\"edge53\" class=\"edge\">\n<title>39&#45;&gt;53</title>\n<path fill=\"none\" stroke=\"black\" d=\"M3345.76,-597.8C3356.24,-588.69 3367.41,-578.99 3378.18,-569.63\"/>\n<polygon fill=\"black\" stroke=\"black\" points=\"3380.32,-572.41 3385.58,-563.21 3375.73,-567.13 3380.32,-572.41\"/>\n</g>\n<!-- 41 -->\n<g id=\"node42\" class=\"node\">\n<title>41</title>\n<polygon fill=\"#399de5\" stroke=\"black\" points=\"3018.75,-431.38 2864.75,-431.38 2864.75,-360.38 3018.75,-360.38 3018.75,-431.38\"/>\n<text text-anchor=\"middle\" x=\"2941.75\" y=\"-414.07\" font-family=\"Helvetica,sans-Serif\" font-size=\"14.00\">gini = 0.0</text>\n<text text-anchor=\"middle\" x=\"2941.75\" y=\"-398.32\" font-family=\"Helvetica,sans-Serif\" font-size=\"14.00\">samples = 8</text>\n<text text-anchor=\"middle\" x=\"2941.75\" y=\"-382.57\" font-family=\"Helvetica,sans-Serif\" font-size=\"14.00\">value = [0, 0, 0, 8, 0, 0]</text>\n<text text-anchor=\"middle\" x=\"2941.75\" y=\"-366.82\" font-family=\"Helvetica,sans-Serif\" font-size=\"14.00\">class = SITTING</text>\n</g>\n<!-- 40&#45;&gt;41 -->\n<g id=\"edge41\" class=\"edge\">\n<title>40&#45;&gt;41</title>\n<path fill=\"none\" stroke=\"black\" d=\"M3081.29,-474.88C3059.4,-462.65 3035.62,-449.35 3013.99,-437.26\"/>\n<polygon fill=\"black\" stroke=\"black\" points=\"3015.97,-434.36 3005.54,-432.53 3012.56,-440.47 3015.97,-434.36\"/>\n</g>\n<!-- 42 -->\n<g id=\"node43\" class=\"node\">\n<title>42</title>\n<polygon fill=\"#8945e7\" stroke=\"black\" points=\"3278.25,-439.25 3037.25,-439.25 3037.25,-352.5 3278.25,-352.5 3278.25,-439.25\"/>\n<text text-anchor=\"middle\" x=\"3157.75\" y=\"-421.95\" font-family=\"Helvetica,sans-Serif\" font-size=\"14.00\">tBodyGyro&#45;correlation()&#45;X,Y &lt;= 0.656</text>\n<text text-anchor=\"middle\" x=\"3157.75\" y=\"-406.2\" font-family=\"Helvetica,sans-Serif\" font-size=\"14.00\">gini = 0.11</text>\n<text text-anchor=\"middle\" x=\"3157.75\" y=\"-390.45\" font-family=\"Helvetica,sans-Serif\" font-size=\"14.00\">samples = 1232</text>\n<text text-anchor=\"middle\" x=\"3157.75\" y=\"-374.7\" font-family=\"Helvetica,sans-Serif\" font-size=\"14.00\">value = [0, 0, 0, 72, 1160, 0]</text>\n<text text-anchor=\"middle\" x=\"3157.75\" y=\"-358.95\" font-family=\"Helvetica,sans-Serif\" font-size=\"14.00\">class = STANDING</text>\n</g>\n<!-- 40&#45;&gt;42 -->\n<g id=\"edge42\" class=\"edge\">\n<title>40&#45;&gt;42</title>\n<path fill=\"none\" stroke=\"black\" d=\"M3157.75,-475.05C3157.75,-467.21 3157.75,-458.92 3157.75,-450.79\"/>\n<polygon fill=\"black\" stroke=\"black\" points=\"3161.25,-450.98 3157.75,-440.98 3154.25,-450.98 3161.25,-450.98\"/>\n</g>\n<!-- 43 -->\n<g id=\"node44\" class=\"node\">\n<title>43</title>\n<polygon fill=\"#8843e6\" stroke=\"black\" points=\"3002,-316.5 2807.5,-316.5 2807.5,-229.75 3002,-229.75 3002,-316.5\"/>\n<text text-anchor=\"middle\" x=\"2904.75\" y=\"-299.2\" font-family=\"Helvetica,sans-Serif\" font-size=\"14.00\">tBodyAccJerk&#45;iqr()&#45;Z &lt;= &#45;0.98</text>\n<text text-anchor=\"middle\" x=\"2904.75\" y=\"-283.45\" font-family=\"Helvetica,sans-Serif\" font-size=\"14.00\">gini = 0.094</text>\n<text text-anchor=\"middle\" x=\"2904.75\" y=\"-267.7\" font-family=\"Helvetica,sans-Serif\" font-size=\"14.00\">samples = 1214</text>\n<text text-anchor=\"middle\" x=\"2904.75\" y=\"-251.95\" font-family=\"Helvetica,sans-Serif\" font-size=\"14.00\">value = [0, 0, 0, 60, 1154, 0]</text>\n<text text-anchor=\"middle\" x=\"2904.75\" y=\"-236.2\" font-family=\"Helvetica,sans-Serif\" font-size=\"14.00\">class = STANDING</text>\n</g>\n<!-- 42&#45;&gt;43 -->\n<g id=\"edge43\" class=\"edge\">\n<title>42&#45;&gt;43</title>\n<path fill=\"none\" stroke=\"black\" d=\"M3068.2,-352.13C3047.55,-342.28 3025.47,-331.74 3004.42,-321.7\"/>\n<polygon fill=\"black\" stroke=\"black\" points=\"3006.08,-318.61 2995.55,-317.46 3003.07,-324.93 3006.08,-318.61\"/>\n</g>\n<!-- 50 -->\n<g id=\"node51\" class=\"node\">\n<title>50</title>\n<polygon fill=\"#9ccef2\" stroke=\"black\" points=\"3295.88,-316.5 3019.62,-316.5 3019.62,-229.75 3295.88,-229.75 3295.88,-316.5\"/>\n<text text-anchor=\"middle\" x=\"3157.75\" y=\"-299.2\" font-family=\"Helvetica,sans-Serif\" font-size=\"14.00\">fBodyBodyGyroMag&#45;meanFreq() &lt;= &#45;0.277</text>\n<text text-anchor=\"middle\" x=\"3157.75\" y=\"-283.45\" font-family=\"Helvetica,sans-Serif\" font-size=\"14.00\">gini = 0.444</text>\n<text text-anchor=\"middle\" x=\"3157.75\" y=\"-267.7\" font-family=\"Helvetica,sans-Serif\" font-size=\"14.00\">samples = 18</text>\n<text text-anchor=\"middle\" x=\"3157.75\" y=\"-251.95\" font-family=\"Helvetica,sans-Serif\" font-size=\"14.00\">value = [0, 0, 0, 12, 6, 0]</text>\n<text text-anchor=\"middle\" x=\"3157.75\" y=\"-236.2\" font-family=\"Helvetica,sans-Serif\" font-size=\"14.00\">class = SITTING</text>\n</g>\n<!-- 42&#45;&gt;50 -->\n<g id=\"edge50\" class=\"edge\">\n<title>42&#45;&gt;50</title>\n<path fill=\"none\" stroke=\"black\" d=\"M3157.75,-352.3C3157.75,-344.46 3157.75,-336.17 3157.75,-328.04\"/>\n<polygon fill=\"black\" stroke=\"black\" points=\"3161.25,-328.23 3157.75,-318.23 3154.25,-328.23 3161.25,-328.23\"/>\n</g>\n<!-- 44 -->\n<g id=\"node45\" class=\"node\">\n<title>44</title>\n<polygon fill=\"#823be5\" stroke=\"black\" points=\"2848.62,-193.75 2624.88,-193.75 2624.88,-107 2848.62,-107 2848.62,-193.75\"/>\n<text text-anchor=\"middle\" x=\"2736.75\" y=\"-176.45\" font-family=\"Helvetica,sans-Serif\" font-size=\"14.00\">tBodyGyro&#45;arCoeff()&#45;Y,1 &lt;= &#45;0.545</text>\n<text text-anchor=\"middle\" x=\"2736.75\" y=\"-160.7\" font-family=\"Helvetica,sans-Serif\" font-size=\"14.00\">gini = 0.022</text>\n<text text-anchor=\"middle\" x=\"2736.75\" y=\"-144.95\" font-family=\"Helvetica,sans-Serif\" font-size=\"14.00\">samples = 802</text>\n<text text-anchor=\"middle\" x=\"2736.75\" y=\"-129.2\" font-family=\"Helvetica,sans-Serif\" font-size=\"14.00\">value = [0, 0, 0, 9, 793, 0]</text>\n<text text-anchor=\"middle\" x=\"2736.75\" y=\"-113.45\" font-family=\"Helvetica,sans-Serif\" font-size=\"14.00\">class = STANDING</text>\n</g>\n<!-- 43&#45;&gt;44 -->\n<g id=\"edge44\" class=\"edge\">\n<title>43&#45;&gt;44</title>\n<path fill=\"none\" stroke=\"black\" d=\"M2845.52,-229.55C2832.55,-220.23 2818.71,-210.28 2805.4,-200.72\"/>\n<polygon fill=\"black\" stroke=\"black\" points=\"2807.69,-198.05 2797.52,-195.06 2803.6,-203.74 2807.69,-198.05\"/>\n</g>\n<!-- 47 -->\n<g id=\"node48\" class=\"node\">\n<title>47</title>\n<polygon fill=\"#9355e9\" stroke=\"black\" points=\"3062.75,-193.75 2866.75,-193.75 2866.75,-107 3062.75,-107 3062.75,-193.75\"/>\n<text text-anchor=\"middle\" x=\"2964.75\" y=\"-176.45\" font-family=\"Helvetica,sans-Serif\" font-size=\"14.00\">fBodyGyro&#45;max()&#45;X &lt;= &#45;0.982</text>\n<text text-anchor=\"middle\" x=\"2964.75\" y=\"-160.7\" font-family=\"Helvetica,sans-Serif\" font-size=\"14.00\">gini = 0.217</text>\n<text text-anchor=\"middle\" x=\"2964.75\" y=\"-144.95\" font-family=\"Helvetica,sans-Serif\" font-size=\"14.00\">samples = 412</text>\n<text text-anchor=\"middle\" x=\"2964.75\" y=\"-129.2\" font-family=\"Helvetica,sans-Serif\" font-size=\"14.00\">value = [0, 0, 0, 51, 361, 0]</text>\n<text text-anchor=\"middle\" x=\"2964.75\" y=\"-113.45\" font-family=\"Helvetica,sans-Serif\" font-size=\"14.00\">class = STANDING</text>\n</g>\n<!-- 43&#45;&gt;47 -->\n<g id=\"edge47\" class=\"edge\">\n<title>43&#45;&gt;47</title>\n<path fill=\"none\" stroke=\"black\" d=\"M2925.9,-229.55C2929.98,-221.35 2934.3,-212.66 2938.51,-204.17\"/>\n<polygon fill=\"black\" stroke=\"black\" points=\"2941.6,-205.84 2942.91,-195.32 2935.33,-202.72 2941.6,-205.84\"/>\n</g>\n<!-- 45 -->\n<g id=\"node46\" class=\"node\">\n<title>45</title>\n<polygon fill=\"#d5bdf6\" stroke=\"black\" points=\"2674.75,-71 2520.75,-71 2520.75,0 2674.75,0 2674.75,-71\"/>\n<text text-anchor=\"middle\" x=\"2597.75\" y=\"-53.7\" font-family=\"Helvetica,sans-Serif\" font-size=\"14.00\">gini = 0.48</text>\n<text text-anchor=\"middle\" x=\"2597.75\" y=\"-37.95\" font-family=\"Helvetica,sans-Serif\" font-size=\"14.00\">samples = 10</text>\n<text text-anchor=\"middle\" x=\"2597.75\" y=\"-22.2\" font-family=\"Helvetica,sans-Serif\" font-size=\"14.00\">value = [0, 0, 0, 4, 6, 0]</text>\n<text text-anchor=\"middle\" x=\"2597.75\" y=\"-6.45\" font-family=\"Helvetica,sans-Serif\" font-size=\"14.00\">class = STANDING</text>\n</g>\n<!-- 44&#45;&gt;45 -->\n<g id=\"edge45\" class=\"edge\">\n<title>44&#45;&gt;45</title>\n<path fill=\"none\" stroke=\"black\" d=\"M2684.2,-106.7C2672.68,-97.35 2660.5,-87.46 2649.04,-78.15\"/>\n<polygon fill=\"black\" stroke=\"black\" points=\"2651.57,-75.7 2641.6,-72.11 2647.16,-81.13 2651.57,-75.7\"/>\n</g>\n<!-- 46 -->\n<g id=\"node47\" class=\"node\">\n<title>46</title>\n<polygon fill=\"#823ae5\" stroke=\"black\" points=\"2862.25,-71 2693.25,-71 2693.25,0 2862.25,0 2862.25,-71\"/>\n<text text-anchor=\"middle\" x=\"2777.75\" y=\"-53.7\" font-family=\"Helvetica,sans-Serif\" font-size=\"14.00\">gini = 0.013</text>\n<text text-anchor=\"middle\" x=\"2777.75\" y=\"-37.95\" font-family=\"Helvetica,sans-Serif\" font-size=\"14.00\">samples = 792</text>\n<text text-anchor=\"middle\" x=\"2777.75\" y=\"-22.2\" font-family=\"Helvetica,sans-Serif\" font-size=\"14.00\">value = [0, 0, 0, 5, 787, 0]</text>\n<text text-anchor=\"middle\" x=\"2777.75\" y=\"-6.45\" font-family=\"Helvetica,sans-Serif\" font-size=\"14.00\">class = STANDING</text>\n</g>\n<!-- 44&#45;&gt;46 -->\n<g id=\"edge46\" class=\"edge\">\n<title>44&#45;&gt;46</title>\n<path fill=\"none\" stroke=\"black\" d=\"M2752.25,-106.7C2755.21,-98.54 2758.33,-89.97 2761.32,-81.73\"/>\n<polygon fill=\"black\" stroke=\"black\" points=\"2764.52,-83.17 2764.64,-72.58 2757.94,-80.78 2764.52,-83.17\"/>\n</g>\n<!-- 48 -->\n<g id=\"node49\" class=\"node\">\n<title>48</title>\n<polygon fill=\"#c1e0f7\" stroke=\"black\" points=\"3049.25,-71 2880.25,-71 2880.25,0 3049.25,0 3049.25,-71\"/>\n<text text-anchor=\"middle\" x=\"2964.75\" y=\"-53.7\" font-family=\"Helvetica,sans-Serif\" font-size=\"14.00\">gini = 0.483</text>\n<text text-anchor=\"middle\" x=\"2964.75\" y=\"-37.95\" font-family=\"Helvetica,sans-Serif\" font-size=\"14.00\">samples = 59</text>\n<text text-anchor=\"middle\" x=\"2964.75\" y=\"-22.2\" font-family=\"Helvetica,sans-Serif\" font-size=\"14.00\">value = [0, 0, 0, 35, 24, 0]</text>\n<text text-anchor=\"middle\" x=\"2964.75\" y=\"-6.45\" font-family=\"Helvetica,sans-Serif\" font-size=\"14.00\">class = SITTING</text>\n</g>\n<!-- 47&#45;&gt;48 -->\n<g id=\"edge48\" class=\"edge\">\n<title>47&#45;&gt;48</title>\n<path fill=\"none\" stroke=\"black\" d=\"M2964.75,-106.7C2964.75,-98.82 2964.75,-90.55 2964.75,-82.57\"/>\n<polygon fill=\"black\" stroke=\"black\" points=\"2968.25,-82.67 2964.75,-72.67 2961.25,-82.67 2968.25,-82.67\"/>\n</g>\n<!-- 49 -->\n<g id=\"node50\" class=\"node\">\n<title>49</title>\n<polygon fill=\"#8742e6\" stroke=\"black\" points=\"3244,-71 3067.5,-71 3067.5,0 3244,0 3244,-71\"/>\n<text text-anchor=\"middle\" x=\"3155.75\" y=\"-53.7\" font-family=\"Helvetica,sans-Serif\" font-size=\"14.00\">gini = 0.087</text>\n<text text-anchor=\"middle\" x=\"3155.75\" y=\"-37.95\" font-family=\"Helvetica,sans-Serif\" font-size=\"14.00\">samples = 353</text>\n<text text-anchor=\"middle\" x=\"3155.75\" y=\"-22.2\" font-family=\"Helvetica,sans-Serif\" font-size=\"14.00\">value = [0, 0, 0, 16, 337, 0]</text>\n<text text-anchor=\"middle\" x=\"3155.75\" y=\"-6.45\" font-family=\"Helvetica,sans-Serif\" font-size=\"14.00\">class = STANDING</text>\n</g>\n<!-- 47&#45;&gt;49 -->\n<g id=\"edge49\" class=\"edge\">\n<title>47&#45;&gt;49</title>\n<path fill=\"none\" stroke=\"black\" d=\"M3037.23,-106.54C3053.49,-96.93 3070.69,-86.77 3086.79,-77.25\"/>\n<polygon fill=\"black\" stroke=\"black\" points=\"3088.53,-80.29 3095.36,-72.19 3084.97,-74.26 3088.53,-80.29\"/>\n</g>\n<!-- 51 -->\n<g id=\"node52\" class=\"node\">\n<title>51</title>\n<polygon fill=\"#8139e5\" stroke=\"black\" points=\"3234.75,-185.88 3080.75,-185.88 3080.75,-114.88 3234.75,-114.88 3234.75,-185.88\"/>\n<text text-anchor=\"middle\" x=\"3157.75\" y=\"-168.57\" font-family=\"Helvetica,sans-Serif\" font-size=\"14.00\">gini = 0.0</text>\n<text text-anchor=\"middle\" x=\"3157.75\" y=\"-152.82\" font-family=\"Helvetica,sans-Serif\" font-size=\"14.00\">samples = 6</text>\n<text text-anchor=\"middle\" x=\"3157.75\" y=\"-137.07\" font-family=\"Helvetica,sans-Serif\" font-size=\"14.00\">value = [0, 0, 0, 0, 6, 0]</text>\n<text text-anchor=\"middle\" x=\"3157.75\" y=\"-121.33\" font-family=\"Helvetica,sans-Serif\" font-size=\"14.00\">class = STANDING</text>\n</g>\n<!-- 50&#45;&gt;51 -->\n<g id=\"edge51\" class=\"edge\">\n<title>50&#45;&gt;51</title>\n<path fill=\"none\" stroke=\"black\" d=\"M3157.75,-229.55C3157.75,-219.08 3157.75,-207.83 3157.75,-197.21\"/>\n<polygon fill=\"black\" stroke=\"black\" points=\"3161.25,-197.52 3157.75,-187.52 3154.25,-197.52 3161.25,-197.52\"/>\n</g>\n<!-- 52 -->\n<g id=\"node53\" class=\"node\">\n<title>52</title>\n<polygon fill=\"#399de5\" stroke=\"black\" points=\"3414.5,-185.88 3253,-185.88 3253,-114.88 3414.5,-114.88 3414.5,-185.88\"/>\n<text text-anchor=\"middle\" x=\"3333.75\" y=\"-168.57\" font-family=\"Helvetica,sans-Serif\" font-size=\"14.00\">gini = 0.0</text>\n<text text-anchor=\"middle\" x=\"3333.75\" y=\"-152.82\" font-family=\"Helvetica,sans-Serif\" font-size=\"14.00\">samples = 12</text>\n<text text-anchor=\"middle\" x=\"3333.75\" y=\"-137.07\" font-family=\"Helvetica,sans-Serif\" font-size=\"14.00\">value = [0, 0, 0, 12, 0, 0]</text>\n<text text-anchor=\"middle\" x=\"3333.75\" y=\"-121.33\" font-family=\"Helvetica,sans-Serif\" font-size=\"14.00\">class = SITTING</text>\n</g>\n<!-- 50&#45;&gt;52 -->\n<g id=\"edge52\" class=\"edge\">\n<title>50&#45;&gt;52</title>\n<path fill=\"none\" stroke=\"black\" d=\"M3219.8,-229.55C3237.25,-217.58 3256.2,-204.58 3273.54,-192.68\"/>\n<polygon fill=\"black\" stroke=\"black\" points=\"3275.48,-195.6 3281.75,-187.05 3271.52,-189.83 3275.48,-195.6\"/>\n</g>\n<!-- 54 -->\n<g id=\"node55\" class=\"node\">\n<title>54</title>\n<polygon fill=\"#9c64eb\" stroke=\"black\" points=\"3566.75,-439.25 3304.75,-439.25 3304.75,-352.5 3566.75,-352.5 3566.75,-439.25\"/>\n<text text-anchor=\"middle\" x=\"3435.75\" y=\"-421.95\" font-family=\"Helvetica,sans-Serif\" font-size=\"14.00\">fBodyAccJerk&#45;bandsEnergy()&#45;1,8 &lt;= &#45;1.0</text>\n<text text-anchor=\"middle\" x=\"3435.75\" y=\"-406.2\" font-family=\"Helvetica,sans-Serif\" font-size=\"14.00\">gini = 0.293</text>\n<text text-anchor=\"middle\" x=\"3435.75\" y=\"-390.45\" font-family=\"Helvetica,sans-Serif\" font-size=\"14.00\">samples = 28</text>\n<text text-anchor=\"middle\" x=\"3435.75\" y=\"-374.7\" font-family=\"Helvetica,sans-Serif\" font-size=\"14.00\">value = [0, 0, 0, 5, 23, 0]</text>\n<text text-anchor=\"middle\" x=\"3435.75\" y=\"-358.95\" font-family=\"Helvetica,sans-Serif\" font-size=\"14.00\">class = STANDING</text>\n</g>\n<!-- 53&#45;&gt;54 -->\n<g id=\"edge54\" class=\"edge\">\n<title>53&#45;&gt;54</title>\n<path fill=\"none\" stroke=\"black\" d=\"M3435.75,-475.05C3435.75,-467.21 3435.75,-458.92 3435.75,-450.79\"/>\n<polygon fill=\"black\" stroke=\"black\" points=\"3439.25,-450.98 3435.75,-440.98 3432.25,-450.98 3439.25,-450.98\"/>\n</g>\n<!-- 57 -->\n<g id=\"node58\" class=\"node\">\n<title>57</title>\n<polygon fill=\"#6ab6ec\" stroke=\"black\" points=\"3891.38,-439.25 3594.12,-439.25 3594.12,-352.5 3891.38,-352.5 3891.38,-439.25\"/>\n<text text-anchor=\"middle\" x=\"3742.75\" y=\"-421.95\" font-family=\"Helvetica,sans-Serif\" font-size=\"14.00\">angle(tBodyGyroMean,gravityMean) &lt;= &#45;0.449</text>\n<text text-anchor=\"middle\" x=\"3742.75\" y=\"-406.2\" font-family=\"Helvetica,sans-Serif\" font-size=\"14.00\">gini = 0.32</text>\n<text text-anchor=\"middle\" x=\"3742.75\" y=\"-390.45\" font-family=\"Helvetica,sans-Serif\" font-size=\"14.00\">samples = 35</text>\n<text text-anchor=\"middle\" x=\"3742.75\" y=\"-374.7\" font-family=\"Helvetica,sans-Serif\" font-size=\"14.00\">value = [0, 0, 0, 28, 7, 0]</text>\n<text text-anchor=\"middle\" x=\"3742.75\" y=\"-358.95\" font-family=\"Helvetica,sans-Serif\" font-size=\"14.00\">class = SITTING</text>\n</g>\n<!-- 53&#45;&gt;57 -->\n<g id=\"edge57\" class=\"edge\">\n<title>53&#45;&gt;57</title>\n<path fill=\"none\" stroke=\"black\" d=\"M3534.58,-478.75C3562.96,-467.59 3594.21,-455.3 3623.67,-443.71\"/>\n<polygon fill=\"black\" stroke=\"black\" points=\"3624.58,-447.12 3632.6,-440.2 3622.01,-440.6 3624.58,-447.12\"/>\n</g>\n<!-- 55 -->\n<g id=\"node56\" class=\"node\">\n<title>55</title>\n<polygon fill=\"#8139e5\" stroke=\"black\" points=\"3475.5,-308.62 3314,-308.62 3314,-237.62 3475.5,-237.62 3475.5,-308.62\"/>\n<text text-anchor=\"middle\" x=\"3394.75\" y=\"-291.32\" font-family=\"Helvetica,sans-Serif\" font-size=\"14.00\">gini = 0.0</text>\n<text text-anchor=\"middle\" x=\"3394.75\" y=\"-275.57\" font-family=\"Helvetica,sans-Serif\" font-size=\"14.00\">samples = 23</text>\n<text text-anchor=\"middle\" x=\"3394.75\" y=\"-259.82\" font-family=\"Helvetica,sans-Serif\" font-size=\"14.00\">value = [0, 0, 0, 0, 23, 0]</text>\n<text text-anchor=\"middle\" x=\"3394.75\" y=\"-244.07\" font-family=\"Helvetica,sans-Serif\" font-size=\"14.00\">class = STANDING</text>\n</g>\n<!-- 54&#45;&gt;55 -->\n<g id=\"edge55\" class=\"edge\">\n<title>54&#45;&gt;55</title>\n<path fill=\"none\" stroke=\"black\" d=\"M3421.29,-352.3C3417.7,-341.72 3413.84,-330.34 3410.2,-319.62\"/>\n<polygon fill=\"black\" stroke=\"black\" points=\"3413.52,-318.53 3406.99,-310.19 3406.9,-320.78 3413.52,-318.53\"/>\n</g>\n<!-- 56 -->\n<g id=\"node57\" class=\"node\">\n<title>56</title>\n<polygon fill=\"#399de5\" stroke=\"black\" points=\"3647.75,-308.62 3493.75,-308.62 3493.75,-237.62 3647.75,-237.62 3647.75,-308.62\"/>\n<text text-anchor=\"middle\" x=\"3570.75\" y=\"-291.32\" font-family=\"Helvetica,sans-Serif\" font-size=\"14.00\">gini = 0.0</text>\n<text text-anchor=\"middle\" x=\"3570.75\" y=\"-275.57\" font-family=\"Helvetica,sans-Serif\" font-size=\"14.00\">samples = 5</text>\n<text text-anchor=\"middle\" x=\"3570.75\" y=\"-259.82\" font-family=\"Helvetica,sans-Serif\" font-size=\"14.00\">value = [0, 0, 0, 5, 0, 0]</text>\n<text text-anchor=\"middle\" x=\"3570.75\" y=\"-244.07\" font-family=\"Helvetica,sans-Serif\" font-size=\"14.00\">class = SITTING</text>\n</g>\n<!-- 54&#45;&gt;56 -->\n<g id=\"edge56\" class=\"edge\">\n<title>54&#45;&gt;56</title>\n<path fill=\"none\" stroke=\"black\" d=\"M3483.35,-352.3C3496.42,-340.61 3510.59,-327.93 3523.64,-316.26\"/>\n<polygon fill=\"black\" stroke=\"black\" points=\"3525.79,-319.04 3530.91,-309.76 3521.12,-313.82 3525.79,-319.04\"/>\n</g>\n<!-- 58 -->\n<g id=\"node59\" class=\"node\">\n<title>58</title>\n<polygon fill=\"#8139e5\" stroke=\"black\" points=\"3819.75,-308.62 3665.75,-308.62 3665.75,-237.62 3819.75,-237.62 3819.75,-308.62\"/>\n<text text-anchor=\"middle\" x=\"3742.75\" y=\"-291.32\" font-family=\"Helvetica,sans-Serif\" font-size=\"14.00\">gini = 0.0</text>\n<text text-anchor=\"middle\" x=\"3742.75\" y=\"-275.57\" font-family=\"Helvetica,sans-Serif\" font-size=\"14.00\">samples = 5</text>\n<text text-anchor=\"middle\" x=\"3742.75\" y=\"-259.82\" font-family=\"Helvetica,sans-Serif\" font-size=\"14.00\">value = [0, 0, 0, 0, 5, 0]</text>\n<text text-anchor=\"middle\" x=\"3742.75\" y=\"-244.07\" font-family=\"Helvetica,sans-Serif\" font-size=\"14.00\">class = STANDING</text>\n</g>\n<!-- 57&#45;&gt;58 -->\n<g id=\"edge58\" class=\"edge\">\n<title>57&#45;&gt;58</title>\n<path fill=\"none\" stroke=\"black\" d=\"M3742.75,-352.3C3742.75,-341.83 3742.75,-330.58 3742.75,-319.96\"/>\n<polygon fill=\"black\" stroke=\"black\" points=\"3746.25,-320.27 3742.75,-310.27 3739.25,-320.27 3746.25,-320.27\"/>\n</g>\n<!-- 59 -->\n<g id=\"node60\" class=\"node\">\n<title>59</title>\n<polygon fill=\"#47a4e7\" stroke=\"black\" points=\"4098,-316.5 3837.5,-316.5 3837.5,-229.75 4098,-229.75 4098,-316.5\"/>\n<text text-anchor=\"middle\" x=\"3967.75\" y=\"-299.2\" font-family=\"Helvetica,sans-Serif\" font-size=\"14.00\">tBodyGyroJerkMag&#45;arCoeff()3 &lt;= &#45;0.209</text>\n<text text-anchor=\"middle\" x=\"3967.75\" y=\"-283.45\" font-family=\"Helvetica,sans-Serif\" font-size=\"14.00\">gini = 0.124</text>\n<text text-anchor=\"middle\" x=\"3967.75\" y=\"-267.7\" font-family=\"Helvetica,sans-Serif\" font-size=\"14.00\">samples = 30</text>\n<text text-anchor=\"middle\" x=\"3967.75\" y=\"-251.95\" font-family=\"Helvetica,sans-Serif\" font-size=\"14.00\">value = [0, 0, 0, 28, 2, 0]</text>\n<text text-anchor=\"middle\" x=\"3967.75\" y=\"-236.2\" font-family=\"Helvetica,sans-Serif\" font-size=\"14.00\">class = SITTING</text>\n</g>\n<!-- 57&#45;&gt;59 -->\n<g id=\"edge59\" class=\"edge\">\n<title>57&#45;&gt;59</title>\n<path fill=\"none\" stroke=\"black\" d=\"M3822.39,-352.13C3840.42,-342.46 3859.68,-332.12 3878.09,-322.24\"/>\n<polygon fill=\"black\" stroke=\"black\" points=\"3879.72,-325.34 3886.88,-317.53 3876.41,-319.17 3879.72,-325.34\"/>\n</g>\n<!-- 60 -->\n<g id=\"node61\" class=\"node\">\n<title>60</title>\n<polygon fill=\"#c09cf2\" stroke=\"black\" points=\"3868.75,-185.88 3714.75,-185.88 3714.75,-114.88 3868.75,-114.88 3868.75,-185.88\"/>\n<text text-anchor=\"middle\" x=\"3791.75\" y=\"-168.57\" font-family=\"Helvetica,sans-Serif\" font-size=\"14.00\">gini = 0.444</text>\n<text text-anchor=\"middle\" x=\"3791.75\" y=\"-152.82\" font-family=\"Helvetica,sans-Serif\" font-size=\"14.00\">samples = 3</text>\n<text text-anchor=\"middle\" x=\"3791.75\" y=\"-137.07\" font-family=\"Helvetica,sans-Serif\" font-size=\"14.00\">value = [0, 0, 0, 1, 2, 0]</text>\n<text text-anchor=\"middle\" x=\"3791.75\" y=\"-121.33\" font-family=\"Helvetica,sans-Serif\" font-size=\"14.00\">class = STANDING</text>\n</g>\n<!-- 59&#45;&gt;60 -->\n<g id=\"edge60\" class=\"edge\">\n<title>59&#45;&gt;60</title>\n<path fill=\"none\" stroke=\"black\" d=\"M3905.7,-229.55C3888.25,-217.58 3869.3,-204.58 3851.96,-192.68\"/>\n<polygon fill=\"black\" stroke=\"black\" points=\"3853.98,-189.83 3843.75,-187.05 3850.02,-195.6 3853.98,-189.83\"/>\n</g>\n<!-- 61 -->\n<g id=\"node62\" class=\"node\">\n<title>61</title>\n<polygon fill=\"#399de5\" stroke=\"black\" points=\"4048.5,-185.88 3887,-185.88 3887,-114.88 4048.5,-114.88 4048.5,-185.88\"/>\n<text text-anchor=\"middle\" x=\"3967.75\" y=\"-168.57\" font-family=\"Helvetica,sans-Serif\" font-size=\"14.00\">gini = 0.0</text>\n<text text-anchor=\"middle\" x=\"3967.75\" y=\"-152.82\" font-family=\"Helvetica,sans-Serif\" font-size=\"14.00\">samples = 27</text>\n<text text-anchor=\"middle\" x=\"3967.75\" y=\"-137.07\" font-family=\"Helvetica,sans-Serif\" font-size=\"14.00\">value = [0, 0, 0, 27, 0, 0]</text>\n<text text-anchor=\"middle\" x=\"3967.75\" y=\"-121.33\" font-family=\"Helvetica,sans-Serif\" font-size=\"14.00\">class = SITTING</text>\n</g>\n<!-- 59&#45;&gt;61 -->\n<g id=\"edge61\" class=\"edge\">\n<title>59&#45;&gt;61</title>\n<path fill=\"none\" stroke=\"black\" d=\"M3967.75,-229.55C3967.75,-219.08 3967.75,-207.83 3967.75,-197.21\"/>\n<polygon fill=\"black\" stroke=\"black\" points=\"3971.25,-197.52 3967.75,-187.52 3964.25,-197.52 3971.25,-197.52\"/>\n</g>\n<!-- 63 -->\n<g id=\"node64\" class=\"node\">\n<title>63</title>\n<polygon fill=\"#fbebdf\" stroke=\"black\" points=\"6473.38,-684.75 6248.12,-684.75 6248.12,-598 6473.38,-598 6473.38,-684.75\"/>\n<text text-anchor=\"middle\" x=\"6360.75\" y=\"-667.45\" font-family=\"Helvetica,sans-Serif\" font-size=\"14.00\">tGravityAcc&#45;arCoeff()&#45;Z,2 &lt;= 0.564</text>\n<text text-anchor=\"middle\" x=\"6360.75\" y=\"-651.7\" font-family=\"Helvetica,sans-Serif\" font-size=\"14.00\">gini = 0.56</text>\n<text text-anchor=\"middle\" x=\"6360.75\" y=\"-635.95\" font-family=\"Helvetica,sans-Serif\" font-size=\"14.00\">samples = 2364</text>\n<text text-anchor=\"middle\" x=\"6360.75\" y=\"-620.2\" font-family=\"Helvetica,sans-Serif\" font-size=\"14.00\">value = [1207, 987, 170, 0, 0, 0]</text>\n<text text-anchor=\"middle\" x=\"6360.75\" y=\"-604.45\" font-family=\"Helvetica,sans-Serif\" font-size=\"14.00\">class = WALKING</text>\n</g>\n<!-- 62&#45;&gt;63 -->\n<g id=\"edge63\" class=\"edge\">\n<title>62&#45;&gt;63</title>\n<path fill=\"none\" stroke=\"black\" d=\"M6360.75,-720.55C6360.75,-712.71 6360.75,-704.42 6360.75,-696.29\"/>\n<polygon fill=\"black\" stroke=\"black\" points=\"6364.25,-696.48 6360.75,-686.48 6357.25,-696.48 6364.25,-696.48\"/>\n</g>\n<!-- 114 -->\n<g id=\"node115\" class=\"node\">\n<title>114</title>\n<polygon fill=\"#52e891\" stroke=\"black\" points=\"9140.12,-684.75 8901.38,-684.75 8901.38,-598 9140.12,-598 9140.12,-684.75\"/>\n<text text-anchor=\"middle\" x=\"9020.75\" y=\"-667.45\" font-family=\"Helvetica,sans-Serif\" font-size=\"14.00\">tBodyGyro&#45;correlation()&#45;Y,Z &lt;= 0.276</text>\n<text text-anchor=\"middle\" x=\"9020.75\" y=\"-651.7\" font-family=\"Helvetica,sans-Serif\" font-size=\"14.00\">gini = 0.206</text>\n<text text-anchor=\"middle\" x=\"9020.75\" y=\"-635.95\" font-family=\"Helvetica,sans-Serif\" font-size=\"14.00\">samples = 921</text>\n<text text-anchor=\"middle\" x=\"9020.75\" y=\"-620.2\" font-family=\"Helvetica,sans-Serif\" font-size=\"14.00\">value = [19, 86, 816, 0, 0, 0]</text>\n<text text-anchor=\"middle\" x=\"9020.75\" y=\"-604.45\" font-family=\"Helvetica,sans-Serif\" font-size=\"14.00\">class = WALKING_DOWNSTAIRS</text>\n</g>\n<!-- 62&#45;&gt;114 -->\n<g id=\"edge114\" class=\"edge\">\n<title>62&#45;&gt;114</title>\n<path fill=\"none\" stroke=\"black\" d=\"M6469.57,-758.19C6892.99,-738.96 8429.92,-669.2 8889.85,-648.32\"/>\n<polygon fill=\"black\" stroke=\"black\" points=\"8889.83,-651.82 8899.66,-647.87 8889.51,-644.83 8889.83,-651.82\"/>\n</g>\n<!-- 64 -->\n<g id=\"node65\" class=\"node\">\n<title>64</title>\n<polygon fill=\"#eb9d66\" stroke=\"black\" points=\"6030,-562 5817.5,-562 5817.5,-475.25 6030,-475.25 6030,-562\"/>\n<text text-anchor=\"middle\" x=\"5923.75\" y=\"-544.7\" font-family=\"Helvetica,sans-Serif\" font-size=\"14.00\">fBodyGyro&#45;maxInds&#45;X &lt;= &#45;0.967</text>\n<text text-anchor=\"middle\" x=\"5923.75\" y=\"-528.95\" font-family=\"Helvetica,sans-Serif\" font-size=\"14.00\">gini = 0.343</text>\n<text text-anchor=\"middle\" x=\"5923.75\" y=\"-513.2\" font-family=\"Helvetica,sans-Serif\" font-size=\"14.00\">samples = 1367</text>\n<text text-anchor=\"middle\" x=\"5923.75\" y=\"-497.45\" font-family=\"Helvetica,sans-Serif\" font-size=\"14.00\">value = [1091, 143, 133, 0, 0, 0]</text>\n<text text-anchor=\"middle\" x=\"5923.75\" y=\"-481.7\" font-family=\"Helvetica,sans-Serif\" font-size=\"14.00\">class = WALKING</text>\n</g>\n<!-- 63&#45;&gt;64 -->\n<g id=\"edge64\" class=\"edge\">\n<title>63&#45;&gt;64</title>\n<path fill=\"none\" stroke=\"black\" d=\"M6247.64,-609.12C6184.29,-591.62 6105.4,-569.82 6041.33,-552.12\"/>\n<polygon fill=\"black\" stroke=\"black\" points=\"6042.4,-548.78 6031.83,-549.49 6040.53,-555.53 6042.4,-548.78\"/>\n</g>\n<!-- 93 -->\n<g id=\"node94\" class=\"node\">\n<title>93</title>\n<polygon fill=\"#aeea5b\" stroke=\"black\" points=\"7026.62,-562 6826.88,-562 6826.88,-475.25 7026.62,-475.25 7026.62,-562\"/>\n<text text-anchor=\"middle\" x=\"6926.75\" y=\"-544.7\" font-family=\"Helvetica,sans-Serif\" font-size=\"14.00\">tGravityAcc&#45;min()&#45;X &lt;= 0.956</text>\n<text text-anchor=\"middle\" x=\"6926.75\" y=\"-528.95\" font-family=\"Helvetica,sans-Serif\" font-size=\"14.00\">gini = 0.268</text>\n<text text-anchor=\"middle\" x=\"6926.75\" y=\"-513.2\" font-family=\"Helvetica,sans-Serif\" font-size=\"14.00\">samples = 997</text>\n<text text-anchor=\"middle\" x=\"6926.75\" y=\"-497.45\" font-family=\"Helvetica,sans-Serif\" font-size=\"14.00\">value = [116, 844, 37, 0, 0, 0]</text>\n<text text-anchor=\"middle\" x=\"6926.75\" y=\"-481.7\" font-family=\"Helvetica,sans-Serif\" font-size=\"14.00\">class = WALKING_UPSTAIRS</text>\n</g>\n<!-- 63&#45;&gt;93 -->\n<g id=\"edge93\" class=\"edge\">\n<title>63&#45;&gt;93</title>\n<path fill=\"none\" stroke=\"black\" d=\"M6473.59,-616.3C6572.8,-595.14 6716.4,-564.5 6815.22,-543.42\"/>\n<polygon fill=\"black\" stroke=\"black\" points=\"6815.91,-546.85 6824.96,-541.34 6814.45,-540 6815.91,-546.85\"/>\n</g>\n<!-- 65 -->\n<g id=\"node66\" class=\"node\">\n<title>65</title>\n<polygon fill=\"#f6fded\" stroke=\"black\" points=\"5049.62,-439.25 4849.88,-439.25 4849.88,-352.5 5049.62,-352.5 5049.62,-439.25\"/>\n<text text-anchor=\"middle\" x=\"4949.75\" y=\"-421.95\" font-family=\"Helvetica,sans-Serif\" font-size=\"14.00\">fBodyAcc&#45;max()&#45;Y &lt;= &#45;0.298</text>\n<text text-anchor=\"middle\" x=\"4949.75\" y=\"-406.2\" font-family=\"Helvetica,sans-Serif\" font-size=\"14.00\">gini = 0.57</text>\n<text text-anchor=\"middle\" x=\"4949.75\" y=\"-390.45\" font-family=\"Helvetica,sans-Serif\" font-size=\"14.00\">samples = 159</text>\n<text text-anchor=\"middle\" x=\"4949.75\" y=\"-374.7\" font-family=\"Helvetica,sans-Serif\" font-size=\"14.00\">value = [13, 77, 69, 0, 0, 0]</text>\n<text text-anchor=\"middle\" x=\"4949.75\" y=\"-358.95\" font-family=\"Helvetica,sans-Serif\" font-size=\"14.00\">class = WALKING_UPSTAIRS</text>\n</g>\n<!-- 64&#45;&gt;65 -->\n<g id=\"edge65\" class=\"edge\">\n<title>64&#45;&gt;65</title>\n<path fill=\"none\" stroke=\"black\" d=\"M5817.2,-504.42C5631.56,-481.4 5250.64,-434.18 5061.46,-410.72\"/>\n<polygon fill=\"black\" stroke=\"black\" points=\"5061.97,-407.26 5051.61,-409.5 5061.1,-414.21 5061.97,-407.26\"/>\n</g>\n<!-- 78 -->\n<g id=\"node79\" class=\"node\">\n<title>78</title>\n<polygon fill=\"#e88f50\" stroke=\"black\" points=\"6037.5,-439.25 5810,-439.25 5810,-352.5 6037.5,-352.5 6037.5,-439.25\"/>\n<text text-anchor=\"middle\" x=\"5923.75\" y=\"-421.95\" font-family=\"Helvetica,sans-Serif\" font-size=\"14.00\">tBodyAccMag&#45;arCoeff()1 &lt;= &#45;0.343</text>\n<text text-anchor=\"middle\" x=\"5923.75\" y=\"-406.2\" font-family=\"Helvetica,sans-Serif\" font-size=\"14.00\">gini = 0.198</text>\n<text text-anchor=\"middle\" x=\"5923.75\" y=\"-390.45\" font-family=\"Helvetica,sans-Serif\" font-size=\"14.00\">samples = 1208</text>\n<text text-anchor=\"middle\" x=\"5923.75\" y=\"-374.7\" font-family=\"Helvetica,sans-Serif\" font-size=\"14.00\">value = [1078, 66, 64, 0, 0, 0]</text>\n<text text-anchor=\"middle\" x=\"5923.75\" y=\"-358.95\" font-family=\"Helvetica,sans-Serif\" font-size=\"14.00\">class = WALKING</text>\n</g>\n<!-- 64&#45;&gt;78 -->\n<g id=\"edge78\" class=\"edge\">\n<title>64&#45;&gt;78</title>\n<path fill=\"none\" stroke=\"black\" d=\"M5923.75,-475.05C5923.75,-467.21 5923.75,-458.92 5923.75,-450.79\"/>\n<polygon fill=\"black\" stroke=\"black\" points=\"5927.25,-450.98 5923.75,-440.98 5920.25,-450.98 5927.25,-450.98\"/>\n</g>\n<!-- 66 -->\n<g id=\"node67\" class=\"node\">\n<title>66</title>\n<polygon fill=\"#68eb9f\" stroke=\"black\" points=\"4568.75,-316.5 4330.75,-316.5 4330.75,-229.75 4568.75,-229.75 4568.75,-316.5\"/>\n<text text-anchor=\"middle\" x=\"4449.75\" y=\"-299.2\" font-family=\"Helvetica,sans-Serif\" font-size=\"14.00\">tBodyAcc&#45;correlation()&#45;X,Y &lt;= &#45;0.219</text>\n<text text-anchor=\"middle\" x=\"4449.75\" y=\"-283.45\" font-family=\"Helvetica,sans-Serif\" font-size=\"14.00\">gini = 0.338</text>\n<text text-anchor=\"middle\" x=\"4449.75\" y=\"-267.7\" font-family=\"Helvetica,sans-Serif\" font-size=\"14.00\">samples = 79</text>\n<text text-anchor=\"middle\" x=\"4449.75\" y=\"-251.95\" font-family=\"Helvetica,sans-Serif\" font-size=\"14.00\">value = [12, 4, 63, 0, 0, 0]</text>\n<text text-anchor=\"middle\" x=\"4449.75\" y=\"-236.2\" font-family=\"Helvetica,sans-Serif\" font-size=\"14.00\">class = WALKING_DOWNSTAIRS</text>\n</g>\n<!-- 65&#45;&gt;66 -->\n<g id=\"edge66\" class=\"edge\">\n<title>65&#45;&gt;66</title>\n<path fill=\"none\" stroke=\"black\" d=\"M4849.47,-370.66C4772.12,-351.98 4664.5,-325.99 4580.42,-305.68\"/>\n<polygon fill=\"black\" stroke=\"black\" points=\"4581.25,-302.28 4570.71,-303.34 4579.61,-309.09 4581.25,-302.28\"/>\n</g>\n<!-- 73 -->\n<g id=\"node74\" class=\"node\">\n<title>73</title>\n<polygon fill=\"#a6e74c\" stroke=\"black\" points=\"5049.62,-316.5 4849.88,-316.5 4849.88,-229.75 5049.62,-229.75 5049.62,-316.5\"/>\n<text text-anchor=\"middle\" x=\"4949.75\" y=\"-299.2\" font-family=\"Helvetica,sans-Serif\" font-size=\"14.00\">tGravityAcc&#45;max()&#45;X &lt;= 0.89</text>\n<text text-anchor=\"middle\" x=\"4949.75\" y=\"-283.45\" font-family=\"Helvetica,sans-Serif\" font-size=\"14.00\">gini = 0.162</text>\n<text text-anchor=\"middle\" x=\"4949.75\" y=\"-267.7\" font-family=\"Helvetica,sans-Serif\" font-size=\"14.00\">samples = 80</text>\n<text text-anchor=\"middle\" x=\"4949.75\" y=\"-251.95\" font-family=\"Helvetica,sans-Serif\" font-size=\"14.00\">value = [1, 73, 6, 0, 0, 0]</text>\n<text text-anchor=\"middle\" x=\"4949.75\" y=\"-236.2\" font-family=\"Helvetica,sans-Serif\" font-size=\"14.00\">class = WALKING_UPSTAIRS</text>\n</g>\n<!-- 65&#45;&gt;73 -->\n<g id=\"edge73\" class=\"edge\">\n<title>65&#45;&gt;73</title>\n<path fill=\"none\" stroke=\"black\" d=\"M4949.75,-352.3C4949.75,-344.46 4949.75,-336.17 4949.75,-328.04\"/>\n<polygon fill=\"black\" stroke=\"black\" points=\"4953.25,-328.23 4949.75,-318.23 4946.25,-328.23 4953.25,-328.23\"/>\n</g>\n<!-- 67 -->\n<g id=\"node68\" class=\"node\">\n<title>67</title>\n<polygon fill=\"#43e687\" stroke=\"black\" points=\"4291.38,-193.75 4066.12,-193.75 4066.12,-107 4291.38,-107 4291.38,-193.75\"/>\n<text text-anchor=\"middle\" x=\"4178.75\" y=\"-176.45\" font-family=\"Helvetica,sans-Serif\" font-size=\"14.00\">angle(X,gravityMean) &lt;= &#45;0.651</text>\n<text text-anchor=\"middle\" x=\"4178.75\" y=\"-160.7\" font-family=\"Helvetica,sans-Serif\" font-size=\"14.00\">gini = 0.088</text>\n<text text-anchor=\"middle\" x=\"4178.75\" y=\"-144.95\" font-family=\"Helvetica,sans-Serif\" font-size=\"14.00\">samples = 65</text>\n<text text-anchor=\"middle\" x=\"4178.75\" y=\"-129.2\" font-family=\"Helvetica,sans-Serif\" font-size=\"14.00\">value = [0, 3, 62, 0, 0, 0]</text>\n<text text-anchor=\"middle\" x=\"4178.75\" y=\"-113.45\" font-family=\"Helvetica,sans-Serif\" font-size=\"14.00\">class = WALKING_DOWNSTAIRS</text>\n</g>\n<!-- 66&#45;&gt;67 -->\n<g id=\"edge67\" class=\"edge\">\n<title>66&#45;&gt;67</title>\n<path fill=\"none\" stroke=\"black\" d=\"M4353.82,-229.38C4331.51,-219.44 4307.63,-208.8 4284.9,-198.67\"/>\n<polygon fill=\"black\" stroke=\"black\" points=\"4286.49,-195.55 4275.93,-194.68 4283.64,-201.94 4286.49,-195.55\"/>\n</g>\n<!-- 70 -->\n<g id=\"node71\" class=\"node\">\n<title>70</title>\n<polygon fill=\"#e99457\" stroke=\"black\" points=\"4548.12,-193.75 4351.38,-193.75 4351.38,-107 4548.12,-107 4548.12,-193.75\"/>\n<text text-anchor=\"middle\" x=\"4449.75\" y=\"-176.45\" font-family=\"Helvetica,sans-Serif\" font-size=\"14.00\">fBodyAcc&#45;mean()&#45;X &lt;= &#45;0.146</text>\n<text text-anchor=\"middle\" x=\"4449.75\" y=\"-160.7\" font-family=\"Helvetica,sans-Serif\" font-size=\"14.00\">gini = 0.255</text>\n<text text-anchor=\"middle\" x=\"4449.75\" y=\"-144.95\" font-family=\"Helvetica,sans-Serif\" font-size=\"14.00\">samples = 14</text>\n<text text-anchor=\"middle\" x=\"4449.75\" y=\"-129.2\" font-family=\"Helvetica,sans-Serif\" font-size=\"14.00\">value = [12, 1, 1, 0, 0, 0]</text>\n<text text-anchor=\"middle\" x=\"4449.75\" y=\"-113.45\" font-family=\"Helvetica,sans-Serif\" font-size=\"14.00\">class = WALKING</text>\n</g>\n<!-- 66&#45;&gt;70 -->\n<g id=\"edge70\" class=\"edge\">\n<title>66&#45;&gt;70</title>\n<path fill=\"none\" stroke=\"black\" d=\"M4449.75,-229.55C4449.75,-221.71 4449.75,-213.42 4449.75,-205.29\"/>\n<polygon fill=\"black\" stroke=\"black\" points=\"4453.25,-205.48 4449.75,-195.48 4446.25,-205.48 4453.25,-205.48\"/>\n</g>\n<!-- 68 -->\n<g id=\"node69\" class=\"node\">\n<title>68</title>\n<polygon fill=\"#39e581\" stroke=\"black\" points=\"4017.38,-71 3792.12,-71 3792.12,0 4017.38,0 4017.38,-71\"/>\n<text text-anchor=\"middle\" x=\"3904.75\" y=\"-53.7\" font-family=\"Helvetica,sans-Serif\" font-size=\"14.00\">gini = 0.0</text>\n<text text-anchor=\"middle\" x=\"3904.75\" y=\"-37.95\" font-family=\"Helvetica,sans-Serif\" font-size=\"14.00\">samples = 62</text>\n<text text-anchor=\"middle\" x=\"3904.75\" y=\"-22.2\" font-family=\"Helvetica,sans-Serif\" font-size=\"14.00\">value = [0, 0, 62, 0, 0, 0]</text>\n<text text-anchor=\"middle\" x=\"3904.75\" y=\"-6.45\" font-family=\"Helvetica,sans-Serif\" font-size=\"14.00\">class = WALKING_DOWNSTAIRS</text>\n</g>\n<!-- 67&#45;&gt;68 -->\n<g id=\"edge68\" class=\"edge\">\n<title>67&#45;&gt;68</title>\n<path fill=\"none\" stroke=\"black\" d=\"M4074.77,-106.54C4050.24,-96.44 4024.21,-85.71 4000.09,-75.77\"/>\n<polygon fill=\"black\" stroke=\"black\" points=\"4001.49,-72.57 3990.91,-71.99 3998.82,-79.04 4001.49,-72.57\"/>\n</g>\n<!-- 69 -->\n<g id=\"node70\" class=\"node\">\n<title>69</title>\n<polygon fill=\"#9de539\" stroke=\"black\" points=\"4235.62,-71 4035.88,-71 4035.88,0 4235.62,0 4235.62,-71\"/>\n<text text-anchor=\"middle\" x=\"4135.75\" y=\"-53.7\" font-family=\"Helvetica,sans-Serif\" font-size=\"14.00\">gini = 0.0</text>\n<text text-anchor=\"middle\" x=\"4135.75\" y=\"-37.95\" font-family=\"Helvetica,sans-Serif\" font-size=\"14.00\">samples = 3</text>\n<text text-anchor=\"middle\" x=\"4135.75\" y=\"-22.2\" font-family=\"Helvetica,sans-Serif\" font-size=\"14.00\">value = [0, 3, 0, 0, 0, 0]</text>\n<text text-anchor=\"middle\" x=\"4135.75\" y=\"-6.45\" font-family=\"Helvetica,sans-Serif\" font-size=\"14.00\">class = WALKING_UPSTAIRS</text>\n</g>\n<!-- 67&#45;&gt;69 -->\n<g id=\"edge69\" class=\"edge\">\n<title>67&#45;&gt;69</title>\n<path fill=\"none\" stroke=\"black\" d=\"M4162.49,-106.7C4159.38,-98.54 4156.12,-89.97 4152.98,-81.73\"/>\n<polygon fill=\"black\" stroke=\"black\" points=\"4156.32,-80.67 4149.49,-72.57 4149.78,-83.16 4156.32,-80.67\"/>\n</g>\n<!-- 71 -->\n<g id=\"node72\" class=\"node\">\n<title>71</title>\n<polygon fill=\"#e58139\" stroke=\"black\" points=\"4415.5,-71 4254,-71 4254,0 4415.5,0 4415.5,-71\"/>\n<text text-anchor=\"middle\" x=\"4334.75\" y=\"-53.7\" font-family=\"Helvetica,sans-Serif\" font-size=\"14.00\">gini = 0.0</text>\n<text text-anchor=\"middle\" x=\"4334.75\" y=\"-37.95\" font-family=\"Helvetica,sans-Serif\" font-size=\"14.00\">samples = 12</text>\n<text text-anchor=\"middle\" x=\"4334.75\" y=\"-22.2\" font-family=\"Helvetica,sans-Serif\" font-size=\"14.00\">value = [12, 0, 0, 0, 0, 0]</text>\n<text text-anchor=\"middle\" x=\"4334.75\" y=\"-6.45\" font-family=\"Helvetica,sans-Serif\" font-size=\"14.00\">class = WALKING</text>\n</g>\n<!-- 70&#45;&gt;71 -->\n<g id=\"edge71\" class=\"edge\">\n<title>70&#45;&gt;71</title>\n<path fill=\"none\" stroke=\"black\" d=\"M4406.27,-106.7C4397.02,-97.62 4387.26,-88.04 4378.02,-78.97\"/>\n<polygon fill=\"black\" stroke=\"black\" points=\"4380.73,-76.72 4371.14,-72.22 4375.83,-81.72 4380.73,-76.72\"/>\n</g>\n<!-- 72 -->\n<g id=\"node73\" class=\"node\">\n<title>72</title>\n<polygon fill=\"#ffffff\" stroke=\"black\" points=\"4633.62,-71 4433.88,-71 4433.88,0 4633.62,0 4633.62,-71\"/>\n<text text-anchor=\"middle\" x=\"4533.75\" y=\"-53.7\" font-family=\"Helvetica,sans-Serif\" font-size=\"14.00\">gini = 0.5</text>\n<text text-anchor=\"middle\" x=\"4533.75\" y=\"-37.95\" font-family=\"Helvetica,sans-Serif\" font-size=\"14.00\">samples = 2</text>\n<text text-anchor=\"middle\" x=\"4533.75\" y=\"-22.2\" font-family=\"Helvetica,sans-Serif\" font-size=\"14.00\">value = [0, 1, 1, 0, 0, 0]</text>\n<text text-anchor=\"middle\" x=\"4533.75\" y=\"-6.45\" font-family=\"Helvetica,sans-Serif\" font-size=\"14.00\">class = WALKING_UPSTAIRS</text>\n</g>\n<!-- 70&#45;&gt;72 -->\n<g id=\"edge72\" class=\"edge\">\n<title>70&#45;&gt;72</title>\n<path fill=\"none\" stroke=\"black\" d=\"M4481.51,-106.7C4487.92,-98.08 4494.67,-89.01 4501.12,-80.35\"/>\n<polygon fill=\"black\" stroke=\"black\" points=\"4503.89,-82.48 4507.05,-72.37 4498.28,-78.3 4503.89,-82.48\"/>\n</g>\n<!-- 74 -->\n<g id=\"node75\" class=\"node\">\n<title>74</title>\n<polygon fill=\"#a1e641\" stroke=\"black\" points=\"4956.75,-193.75 4664.75,-193.75 4664.75,-107 4956.75,-107 4956.75,-193.75\"/>\n<text text-anchor=\"middle\" x=\"4810.75\" y=\"-176.45\" font-family=\"Helvetica,sans-Serif\" font-size=\"14.00\">fBodyAccJerk&#45;bandsEnergy()&#45;17,24 &lt;= &#45;0.459</text>\n<text text-anchor=\"middle\" x=\"4810.75\" y=\"-160.7\" font-family=\"Helvetica,sans-Serif\" font-size=\"14.00\">gini = 0.077</text>\n<text text-anchor=\"middle\" x=\"4810.75\" y=\"-144.95\" font-family=\"Helvetica,sans-Serif\" font-size=\"14.00\">samples = 76</text>\n<text text-anchor=\"middle\" x=\"4810.75\" y=\"-129.2\" font-family=\"Helvetica,sans-Serif\" font-size=\"14.00\">value = [1, 73, 2, 0, 0, 0]</text>\n<text text-anchor=\"middle\" x=\"4810.75\" y=\"-113.45\" font-family=\"Helvetica,sans-Serif\" font-size=\"14.00\">class = WALKING_UPSTAIRS</text>\n</g>\n<!-- 73&#45;&gt;74 -->\n<g id=\"edge74\" class=\"edge\">\n<title>73&#45;&gt;74</title>\n<path fill=\"none\" stroke=\"black\" d=\"M4900.74,-229.55C4890.26,-220.44 4879.09,-210.74 4868.32,-201.38\"/>\n<polygon fill=\"black\" stroke=\"black\" points=\"4870.77,-198.88 4860.92,-194.96 4866.18,-204.16 4870.77,-198.88\"/>\n</g>\n<!-- 77 -->\n<g id=\"node78\" class=\"node\">\n<title>77</title>\n<polygon fill=\"#39e581\" stroke=\"black\" points=\"5200.38,-185.88 4975.12,-185.88 4975.12,-114.88 5200.38,-114.88 5200.38,-185.88\"/>\n<text text-anchor=\"middle\" x=\"5087.75\" y=\"-168.57\" font-family=\"Helvetica,sans-Serif\" font-size=\"14.00\">gini = 0.0</text>\n<text text-anchor=\"middle\" x=\"5087.75\" y=\"-152.82\" font-family=\"Helvetica,sans-Serif\" font-size=\"14.00\">samples = 4</text>\n<text text-anchor=\"middle\" x=\"5087.75\" y=\"-137.07\" font-family=\"Helvetica,sans-Serif\" font-size=\"14.00\">value = [0, 0, 4, 0, 0, 0]</text>\n<text text-anchor=\"middle\" x=\"5087.75\" y=\"-121.33\" font-family=\"Helvetica,sans-Serif\" font-size=\"14.00\">class = WALKING_DOWNSTAIRS</text>\n</g>\n<!-- 73&#45;&gt;77 -->\n<g id=\"edge77\" class=\"edge\">\n<title>73&#45;&gt;77</title>\n<path fill=\"none\" stroke=\"black\" d=\"M4998.4,-229.55C5011.77,-217.86 5026.26,-205.18 5039.6,-193.51\"/>\n<polygon fill=\"black\" stroke=\"black\" points=\"5041.81,-196.22 5047.04,-187 5037.2,-190.95 5041.81,-196.22\"/>\n</g>\n<!-- 75 -->\n<g id=\"node76\" class=\"node\">\n<title>75</title>\n<polygon fill=\"#9ee53c\" stroke=\"black\" points=\"4851.62,-71 4651.88,-71 4651.88,0 4851.62,0 4851.62,-71\"/>\n<text text-anchor=\"middle\" x=\"4751.75\" y=\"-53.7\" font-family=\"Helvetica,sans-Serif\" font-size=\"14.00\">gini = 0.027</text>\n<text text-anchor=\"middle\" x=\"4751.75\" y=\"-37.95\" font-family=\"Helvetica,sans-Serif\" font-size=\"14.00\">samples = 74</text>\n<text text-anchor=\"middle\" x=\"4751.75\" y=\"-22.2\" font-family=\"Helvetica,sans-Serif\" font-size=\"14.00\">value = [1, 73, 0, 0, 0, 0]</text>\n<text text-anchor=\"middle\" x=\"4751.75\" y=\"-6.45\" font-family=\"Helvetica,sans-Serif\" font-size=\"14.00\">class = WALKING_UPSTAIRS</text>\n</g>\n<!-- 74&#45;&gt;75 -->\n<g id=\"edge75\" class=\"edge\">\n<title>74&#45;&gt;75</title>\n<path fill=\"none\" stroke=\"black\" d=\"M4788.44,-106.7C4784.08,-98.36 4779.5,-89.59 4775.1,-81.18\"/>\n<polygon fill=\"black\" stroke=\"black\" points=\"4778.3,-79.74 4770.57,-72.5 4772.1,-82.98 4778.3,-79.74\"/>\n</g>\n<!-- 76 -->\n<g id=\"node77\" class=\"node\">\n<title>76</title>\n<polygon fill=\"#39e581\" stroke=\"black\" points=\"5095.38,-71 4870.12,-71 4870.12,0 5095.38,0 5095.38,-71\"/>\n<text text-anchor=\"middle\" x=\"4982.75\" y=\"-53.7\" font-family=\"Helvetica,sans-Serif\" font-size=\"14.00\">gini = 0.0</text>\n<text text-anchor=\"middle\" x=\"4982.75\" y=\"-37.95\" font-family=\"Helvetica,sans-Serif\" font-size=\"14.00\">samples = 2</text>\n<text text-anchor=\"middle\" x=\"4982.75\" y=\"-22.2\" font-family=\"Helvetica,sans-Serif\" font-size=\"14.00\">value = [0, 0, 2, 0, 0, 0]</text>\n<text text-anchor=\"middle\" x=\"4982.75\" y=\"-6.45\" font-family=\"Helvetica,sans-Serif\" font-size=\"14.00\">class = WALKING_DOWNSTAIRS</text>\n</g>\n<!-- 74&#45;&gt;76 -->\n<g id=\"edge76\" class=\"edge\">\n<title>74&#45;&gt;76</title>\n<path fill=\"none\" stroke=\"black\" d=\"M4875.78,-106.7C4890.37,-97.13 4905.82,-86.99 4920.31,-77.48\"/>\n<polygon fill=\"black\" stroke=\"black\" points=\"4921.96,-80.58 4928.4,-72.17 4918.12,-74.73 4921.96,-80.58\"/>\n</g>\n<!-- 79 -->\n<g id=\"node80\" class=\"node\">\n<title>79</title>\n<polygon fill=\"#d5fae4\" stroke=\"black\" points=\"5863.38,-316.5 5638.12,-316.5 5638.12,-229.75 5863.38,-229.75 5863.38,-316.5\"/>\n<text text-anchor=\"middle\" x=\"5750.75\" y=\"-299.2\" font-family=\"Helvetica,sans-Serif\" font-size=\"14.00\">tGravityAcc&#45;min()&#45;Y &lt;= &#45;0.188</text>\n<text text-anchor=\"middle\" x=\"5750.75\" y=\"-283.45\" font-family=\"Helvetica,sans-Serif\" font-size=\"14.00\">gini = 0.606</text>\n<text text-anchor=\"middle\" x=\"5750.75\" y=\"-267.7\" font-family=\"Helvetica,sans-Serif\" font-size=\"14.00\">samples = 81</text>\n<text text-anchor=\"middle\" x=\"5750.75\" y=\"-251.95\" font-family=\"Helvetica,sans-Serif\" font-size=\"14.00\">value = [12, 29, 40, 0, 0, 0]</text>\n<text text-anchor=\"middle\" x=\"5750.75\" y=\"-236.2\" font-family=\"Helvetica,sans-Serif\" font-size=\"14.00\">class = WALKING_DOWNSTAIRS</text>\n</g>\n<!-- 78&#45;&gt;79 -->\n<g id=\"edge79\" class=\"edge\">\n<title>78&#45;&gt;79</title>\n<path fill=\"none\" stroke=\"black\" d=\"M5862.76,-352.3C5849.4,-342.98 5835.15,-333.03 5821.45,-323.47\"/>\n<polygon fill=\"black\" stroke=\"black\" points=\"5823.51,-320.64 5813.31,-317.79 5819.51,-326.38 5823.51,-320.64\"/>\n</g>\n<!-- 86 -->\n<g id=\"node87\" class=\"node\">\n<title>86</title>\n<polygon fill=\"#e68844\" stroke=\"black\" points=\"6215.75,-316.5 5977.75,-316.5 5977.75,-229.75 6215.75,-229.75 6215.75,-316.5\"/>\n<text text-anchor=\"middle\" x=\"6096.75\" y=\"-299.2\" font-family=\"Helvetica,sans-Serif\" font-size=\"14.00\">tBodyAcc&#45;correlation()&#45;X,Y &lt;= &#45;0.467</text>\n<text text-anchor=\"middle\" x=\"6096.75\" y=\"-283.45\" font-family=\"Helvetica,sans-Serif\" font-size=\"14.00\">gini = 0.104</text>\n<text text-anchor=\"middle\" x=\"6096.75\" y=\"-267.7\" font-family=\"Helvetica,sans-Serif\" font-size=\"14.00\">samples = 1127</text>\n<text text-anchor=\"middle\" x=\"6096.75\" y=\"-251.95\" font-family=\"Helvetica,sans-Serif\" font-size=\"14.00\">value = [1066, 37, 24, 0, 0, 0]</text>\n<text text-anchor=\"middle\" x=\"6096.75\" y=\"-236.2\" font-family=\"Helvetica,sans-Serif\" font-size=\"14.00\">class = WALKING</text>\n</g>\n<!-- 78&#45;&gt;86 -->\n<g id=\"edge86\" class=\"edge\">\n<title>78&#45;&gt;86</title>\n<path fill=\"none\" stroke=\"black\" d=\"M5984.74,-352.3C5998.1,-342.98 6012.35,-333.03 6026.05,-323.47\"/>\n<polygon fill=\"black\" stroke=\"black\" points=\"6027.99,-326.38 6034.19,-317.79 6023.99,-320.64 6027.99,-326.38\"/>\n</g>\n<!-- 80 -->\n<g id=\"node81\" class=\"node\">\n<title>80</title>\n<polygon fill=\"#c1ee81\" stroke=\"black\" points=\"5540.5,-193.75 5277,-193.75 5277,-107 5540.5,-107 5540.5,-193.75\"/>\n<text text-anchor=\"middle\" x=\"5408.75\" y=\"-176.45\" font-family=\"Helvetica,sans-Serif\" font-size=\"14.00\">tBodyAccJerk&#45;correlation()&#45;X,Y &lt;= &#45;0.007</text>\n<text text-anchor=\"middle\" x=\"5408.75\" y=\"-160.7\" font-family=\"Helvetica,sans-Serif\" font-size=\"14.00\">gini = 0.452</text>\n<text text-anchor=\"middle\" x=\"5408.75\" y=\"-144.95\" font-family=\"Helvetica,sans-Serif\" font-size=\"14.00\">samples = 41</text>\n<text text-anchor=\"middle\" x=\"5408.75\" y=\"-129.2\" font-family=\"Helvetica,sans-Serif\" font-size=\"14.00\">value = [8, 29, 4, 0, 0, 0]</text>\n<text text-anchor=\"middle\" x=\"5408.75\" y=\"-113.45\" font-family=\"Helvetica,sans-Serif\" font-size=\"14.00\">class = WALKING_UPSTAIRS</text>\n</g>\n<!-- 79&#45;&gt;80 -->\n<g id=\"edge80\" class=\"edge\">\n<title>79&#45;&gt;80</title>\n<path fill=\"none\" stroke=\"black\" d=\"M5637.82,-232.25C5606.79,-221.3 5572.87,-209.32 5540.87,-198.02\"/>\n<polygon fill=\"black\" stroke=\"black\" points=\"5542.11,-194.75 5531.52,-194.72 5539.78,-201.35 5542.11,-194.75\"/>\n</g>\n<!-- 83 -->\n<g id=\"node84\" class=\"node\">\n<title>83</title>\n<polygon fill=\"#4fe88f\" stroke=\"black\" points=\"5868.62,-193.75 5632.88,-193.75 5632.88,-107 5868.62,-107 5868.62,-193.75\"/>\n<text text-anchor=\"middle\" x=\"5750.75\" y=\"-176.45\" font-family=\"Helvetica,sans-Serif\" font-size=\"14.00\">tBodyGyroJerk&#45;energy()&#45;Z &lt;= &#45;0.845</text>\n<text text-anchor=\"middle\" x=\"5750.75\" y=\"-160.7\" font-family=\"Helvetica,sans-Serif\" font-size=\"14.00\">gini = 0.18</text>\n<text text-anchor=\"middle\" x=\"5750.75\" y=\"-144.95\" font-family=\"Helvetica,sans-Serif\" font-size=\"14.00\">samples = 40</text>\n<text text-anchor=\"middle\" x=\"5750.75\" y=\"-129.2\" font-family=\"Helvetica,sans-Serif\" font-size=\"14.00\">value = [4, 0, 36, 0, 0, 0]</text>\n<text text-anchor=\"middle\" x=\"5750.75\" y=\"-113.45\" font-family=\"Helvetica,sans-Serif\" font-size=\"14.00\">class = WALKING_DOWNSTAIRS</text>\n</g>\n<!-- 79&#45;&gt;83 -->\n<g id=\"edge83\" class=\"edge\">\n<title>79&#45;&gt;83</title>\n<path fill=\"none\" stroke=\"black\" d=\"M5750.75,-229.55C5750.75,-221.71 5750.75,-213.42 5750.75,-205.29\"/>\n<polygon fill=\"black\" stroke=\"black\" points=\"5754.25,-205.48 5750.75,-195.48 5747.25,-205.48 5754.25,-205.48\"/>\n</g>\n<!-- 81 -->\n<g id=\"node82\" class=\"node\">\n<title>81</title>\n<polygon fill=\"#aee95b\" stroke=\"black\" points=\"5313.62,-71 5113.88,-71 5113.88,0 5313.62,0 5313.62,-71\"/>\n<text text-anchor=\"middle\" x=\"5213.75\" y=\"-53.7\" font-family=\"Helvetica,sans-Serif\" font-size=\"14.00\">gini = 0.264</text>\n<text text-anchor=\"middle\" x=\"5213.75\" y=\"-37.95\" font-family=\"Helvetica,sans-Serif\" font-size=\"14.00\">samples = 33</text>\n<text text-anchor=\"middle\" x=\"5213.75\" y=\"-22.2\" font-family=\"Helvetica,sans-Serif\" font-size=\"14.00\">value = [1, 28, 4, 0, 0, 0]</text>\n<text text-anchor=\"middle\" x=\"5213.75\" y=\"-6.45\" font-family=\"Helvetica,sans-Serif\" font-size=\"14.00\">class = WALKING_UPSTAIRS</text>\n</g>\n<!-- 80&#45;&gt;81 -->\n<g id=\"edge81\" class=\"edge\">\n<title>80&#45;&gt;81</title>\n<path fill=\"none\" stroke=\"black\" d=\"M5334.75,-106.54C5318,-96.84 5300.26,-86.58 5283.68,-76.98\"/>\n<polygon fill=\"black\" stroke=\"black\" points=\"5285.79,-74.16 5275.38,-72.18 5282.28,-80.21 5285.79,-74.16\"/>\n</g>\n<!-- 82 -->\n<g id=\"node83\" class=\"node\">\n<title>82</title>\n<polygon fill=\"#e99355\" stroke=\"black\" points=\"5485.75,-71 5331.75,-71 5331.75,0 5485.75,0 5485.75,-71\"/>\n<text text-anchor=\"middle\" x=\"5408.75\" y=\"-53.7\" font-family=\"Helvetica,sans-Serif\" font-size=\"14.00\">gini = 0.219</text>\n<text text-anchor=\"middle\" x=\"5408.75\" y=\"-37.95\" font-family=\"Helvetica,sans-Serif\" font-size=\"14.00\">samples = 8</text>\n<text text-anchor=\"middle\" x=\"5408.75\" y=\"-22.2\" font-family=\"Helvetica,sans-Serif\" font-size=\"14.00\">value = [7, 1, 0, 0, 0, 0]</text>\n<text text-anchor=\"middle\" x=\"5408.75\" y=\"-6.45\" font-family=\"Helvetica,sans-Serif\" font-size=\"14.00\">class = WALKING</text>\n</g>\n<!-- 80&#45;&gt;82 -->\n<g id=\"edge82\" class=\"edge\">\n<title>80&#45;&gt;82</title>\n<path fill=\"none\" stroke=\"black\" d=\"M5408.75,-106.7C5408.75,-98.82 5408.75,-90.55 5408.75,-82.57\"/>\n<polygon fill=\"black\" stroke=\"black\" points=\"5412.25,-82.67 5408.75,-72.67 5405.25,-82.67 5412.25,-82.67\"/>\n</g>\n<!-- 84 -->\n<g id=\"node85\" class=\"node\">\n<title>84</title>\n<polygon fill=\"#39e581\" stroke=\"black\" points=\"5729.38,-71 5504.12,-71 5504.12,0 5729.38,0 5729.38,-71\"/>\n<text text-anchor=\"middle\" x=\"5616.75\" y=\"-53.7\" font-family=\"Helvetica,sans-Serif\" font-size=\"14.00\">gini = 0.0</text>\n<text text-anchor=\"middle\" x=\"5616.75\" y=\"-37.95\" font-family=\"Helvetica,sans-Serif\" font-size=\"14.00\">samples = 36</text>\n<text text-anchor=\"middle\" x=\"5616.75\" y=\"-22.2\" font-family=\"Helvetica,sans-Serif\" font-size=\"14.00\">value = [0, 0, 36, 0, 0, 0]</text>\n<text text-anchor=\"middle\" x=\"5616.75\" y=\"-6.45\" font-family=\"Helvetica,sans-Serif\" font-size=\"14.00\">class = WALKING_DOWNSTAIRS</text>\n</g>\n<!-- 83&#45;&gt;84 -->\n<g id=\"edge84\" class=\"edge\">\n<title>83&#45;&gt;84</title>\n<path fill=\"none\" stroke=\"black\" d=\"M5700.09,-106.7C5689.1,-97.44 5677.48,-87.65 5666.52,-78.42\"/>\n<polygon fill=\"black\" stroke=\"black\" points=\"5668.95,-75.9 5659.05,-72.13 5664.44,-81.25 5668.95,-75.9\"/>\n</g>\n<!-- 85 -->\n<g id=\"node86\" class=\"node\">\n<title>85</title>\n<polygon fill=\"#e58139\" stroke=\"black\" points=\"5901.75,-71 5747.75,-71 5747.75,0 5901.75,0 5901.75,-71\"/>\n<text text-anchor=\"middle\" x=\"5824.75\" y=\"-53.7\" font-family=\"Helvetica,sans-Serif\" font-size=\"14.00\">gini = 0.0</text>\n<text text-anchor=\"middle\" x=\"5824.75\" y=\"-37.95\" font-family=\"Helvetica,sans-Serif\" font-size=\"14.00\">samples = 4</text>\n<text text-anchor=\"middle\" x=\"5824.75\" y=\"-22.2\" font-family=\"Helvetica,sans-Serif\" font-size=\"14.00\">value = [4, 0, 0, 0, 0, 0]</text>\n<text text-anchor=\"middle\" x=\"5824.75\" y=\"-6.45\" font-family=\"Helvetica,sans-Serif\" font-size=\"14.00\">class = WALKING</text>\n</g>\n<!-- 83&#45;&gt;85 -->\n<g id=\"edge85\" class=\"edge\">\n<title>83&#45;&gt;85</title>\n<path fill=\"none\" stroke=\"black\" d=\"M5778.73,-106.7C5784.32,-98.17 5790.2,-89.2 5795.82,-80.62\"/>\n<polygon fill=\"black\" stroke=\"black\" points=\"5798.64,-82.71 5801.2,-72.42 5792.79,-78.87 5798.64,-82.71\"/>\n</g>\n<!-- 87 -->\n<g id=\"node88\" class=\"node\">\n<title>87</title>\n<polygon fill=\"#f5fceb\" stroke=\"black\" points=\"6226.25,-193.75 5967.25,-193.75 5967.25,-107 6226.25,-107 6226.25,-193.75\"/>\n<text text-anchor=\"middle\" x=\"6096.75\" y=\"-176.45\" font-family=\"Helvetica,sans-Serif\" font-size=\"14.00\">fBodyAcc&#45;bandsEnergy()&#45;1,24 &lt;= &#45;0.555</text>\n<text text-anchor=\"middle\" x=\"6096.75\" y=\"-160.7\" font-family=\"Helvetica,sans-Serif\" font-size=\"14.00\">gini = 0.658</text>\n<text text-anchor=\"middle\" x=\"6096.75\" y=\"-144.95\" font-family=\"Helvetica,sans-Serif\" font-size=\"14.00\">samples = 30</text>\n<text text-anchor=\"middle\" x=\"6096.75\" y=\"-129.2\" font-family=\"Helvetica,sans-Serif\" font-size=\"14.00\">value = [8, 12, 10, 0, 0, 0]</text>\n<text text-anchor=\"middle\" x=\"6096.75\" y=\"-113.45\" font-family=\"Helvetica,sans-Serif\" font-size=\"14.00\">class = WALKING_UPSTAIRS</text>\n</g>\n<!-- 86&#45;&gt;87 -->\n<g id=\"edge87\" class=\"edge\">\n<title>86&#45;&gt;87</title>\n<path fill=\"none\" stroke=\"black\" d=\"M6096.75,-229.55C6096.75,-221.71 6096.75,-213.42 6096.75,-205.29\"/>\n<polygon fill=\"black\" stroke=\"black\" points=\"6100.25,-205.48 6096.75,-195.48 6093.25,-205.48 6100.25,-205.48\"/>\n</g>\n<!-- 90 -->\n<g id=\"node91\" class=\"node\">\n<title>90</title>\n<polygon fill=\"#e68640\" stroke=\"black\" points=\"6500.62,-193.75 6306.88,-193.75 6306.88,-107 6500.62,-107 6500.62,-193.75\"/>\n<text text-anchor=\"middle\" x=\"6403.75\" y=\"-176.45\" font-family=\"Helvetica,sans-Serif\" font-size=\"14.00\">fBodyAccMag&#45;std() &lt;= &#45;0.262</text>\n<text text-anchor=\"middle\" x=\"6403.75\" y=\"-160.7\" font-family=\"Helvetica,sans-Serif\" font-size=\"14.00\">gini = 0.069</text>\n<text text-anchor=\"middle\" x=\"6403.75\" y=\"-144.95\" font-family=\"Helvetica,sans-Serif\" font-size=\"14.00\">samples = 1097</text>\n<text text-anchor=\"middle\" x=\"6403.75\" y=\"-129.2\" font-family=\"Helvetica,sans-Serif\" font-size=\"14.00\">value = [1058, 25, 14, 0, 0, 0]</text>\n<text text-anchor=\"middle\" x=\"6403.75\" y=\"-113.45\" font-family=\"Helvetica,sans-Serif\" font-size=\"14.00\">class = WALKING</text>\n</g>\n<!-- 86&#45;&gt;90 -->\n<g id=\"edge90\" class=\"edge\">\n<title>86&#45;&gt;90</title>\n<path fill=\"none\" stroke=\"black\" d=\"M6205.42,-229.38C6234.76,-217.84 6266.5,-205.36 6295.8,-193.83\"/>\n<polygon fill=\"black\" stroke=\"black\" points=\"6297.04,-197.11 6305.07,-190.19 6294.48,-190.59 6297.04,-197.11\"/>\n</g>\n<!-- 88 -->\n<g id=\"node89\" class=\"node\">\n<title>88</title>\n<polygon fill=\"#39e581\" stroke=\"black\" points=\"6145.38,-71 5920.12,-71 5920.12,0 6145.38,0 6145.38,-71\"/>\n<text text-anchor=\"middle\" x=\"6032.75\" y=\"-53.7\" font-family=\"Helvetica,sans-Serif\" font-size=\"14.00\">gini = 0.0</text>\n<text text-anchor=\"middle\" x=\"6032.75\" y=\"-37.95\" font-family=\"Helvetica,sans-Serif\" font-size=\"14.00\">samples = 10</text>\n<text text-anchor=\"middle\" x=\"6032.75\" y=\"-22.2\" font-family=\"Helvetica,sans-Serif\" font-size=\"14.00\">value = [0, 0, 10, 0, 0, 0]</text>\n<text text-anchor=\"middle\" x=\"6032.75\" y=\"-6.45\" font-family=\"Helvetica,sans-Serif\" font-size=\"14.00\">class = WALKING_DOWNSTAIRS</text>\n</g>\n<!-- 87&#45;&gt;88 -->\n<g id=\"edge88\" class=\"edge\">\n<title>87&#45;&gt;88</title>\n<path fill=\"none\" stroke=\"black\" d=\"M6072.55,-106.7C6067.77,-98.27 6062.74,-89.39 6057.93,-80.9\"/>\n<polygon fill=\"black\" stroke=\"black\" points=\"6061.12,-79.45 6053.15,-72.47 6055.03,-82.9 6061.12,-79.45\"/>\n</g>\n<!-- 89 -->\n<g id=\"node90\" class=\"node\">\n<title>89</title>\n<polygon fill=\"#def6bd\" stroke=\"black\" points=\"6363.62,-71 6163.88,-71 6163.88,0 6363.62,0 6363.62,-71\"/>\n<text text-anchor=\"middle\" x=\"6263.75\" y=\"-53.7\" font-family=\"Helvetica,sans-Serif\" font-size=\"14.00\">gini = 0.48</text>\n<text text-anchor=\"middle\" x=\"6263.75\" y=\"-37.95\" font-family=\"Helvetica,sans-Serif\" font-size=\"14.00\">samples = 20</text>\n<text text-anchor=\"middle\" x=\"6263.75\" y=\"-22.2\" font-family=\"Helvetica,sans-Serif\" font-size=\"14.00\">value = [8, 12, 0, 0, 0, 0]</text>\n<text text-anchor=\"middle\" x=\"6263.75\" y=\"-6.45\" font-family=\"Helvetica,sans-Serif\" font-size=\"14.00\">class = WALKING_UPSTAIRS</text>\n</g>\n<!-- 87&#45;&gt;89 -->\n<g id=\"edge89\" class=\"edge\">\n<title>87&#45;&gt;89</title>\n<path fill=\"none\" stroke=\"black\" d=\"M6159.89,-106.7C6173.92,-97.22 6188.77,-87.18 6202.72,-77.75\"/>\n<polygon fill=\"black\" stroke=\"black\" points=\"6204.63,-80.68 6210.95,-72.18 6200.71,-74.88 6204.63,-80.68\"/>\n</g>\n<!-- 91 -->\n<g id=\"node92\" class=\"node\">\n<title>91</title>\n<polygon fill=\"#e6843d\" stroke=\"black\" points=\"6565.75,-71 6381.75,-71 6381.75,0 6565.75,0 6565.75,-71\"/>\n<text text-anchor=\"middle\" x=\"6473.75\" y=\"-53.7\" font-family=\"Helvetica,sans-Serif\" font-size=\"14.00\">gini = 0.044</text>\n<text text-anchor=\"middle\" x=\"6473.75\" y=\"-37.95\" font-family=\"Helvetica,sans-Serif\" font-size=\"14.00\">samples = 1076</text>\n<text text-anchor=\"middle\" x=\"6473.75\" y=\"-22.2\" font-family=\"Helvetica,sans-Serif\" font-size=\"14.00\">value = [1052, 16, 8, 0, 0, 0]</text>\n<text text-anchor=\"middle\" x=\"6473.75\" y=\"-6.45\" font-family=\"Helvetica,sans-Serif\" font-size=\"14.00\">class = WALKING</text>\n</g>\n<!-- 90&#45;&gt;91 -->\n<g id=\"edge91\" class=\"edge\">\n<title>90&#45;&gt;91</title>\n<path fill=\"none\" stroke=\"black\" d=\"M6430.21,-106.7C6435.45,-98.27 6440.95,-89.39 6446.21,-80.9\"/>\n<polygon fill=\"black\" stroke=\"black\" points=\"6449.16,-82.79 6451.46,-72.44 6443.21,-79.1 6449.16,-82.79\"/>\n</g>\n<!-- 92 -->\n<g id=\"node93\" class=\"node\">\n<title>92</title>\n<polygon fill=\"#ebfad7\" stroke=\"black\" points=\"6783.62,-71 6583.88,-71 6583.88,0 6783.62,0 6783.62,-71\"/>\n<text text-anchor=\"middle\" x=\"6683.75\" y=\"-53.7\" font-family=\"Helvetica,sans-Serif\" font-size=\"14.00\">gini = 0.653</text>\n<text text-anchor=\"middle\" x=\"6683.75\" y=\"-37.95\" font-family=\"Helvetica,sans-Serif\" font-size=\"14.00\">samples = 21</text>\n<text text-anchor=\"middle\" x=\"6683.75\" y=\"-22.2\" font-family=\"Helvetica,sans-Serif\" font-size=\"14.00\">value = [6, 9, 6, 0, 0, 0]</text>\n<text text-anchor=\"middle\" x=\"6683.75\" y=\"-6.45\" font-family=\"Helvetica,sans-Serif\" font-size=\"14.00\">class = WALKING_UPSTAIRS</text>\n</g>\n<!-- 90&#45;&gt;92 -->\n<g id=\"edge92\" class=\"edge\">\n<title>90&#45;&gt;92</title>\n<path fill=\"none\" stroke=\"black\" d=\"M6500.89,-110.21C6528.63,-99.03 6558.84,-86.85 6586.57,-75.67\"/>\n<polygon fill=\"black\" stroke=\"black\" points=\"6587.7,-78.99 6595.67,-72.01 6585.08,-72.5 6587.7,-78.99\"/>\n</g>\n<!-- 94 -->\n<g id=\"node95\" class=\"node\">\n<title>94</title>\n<polygon fill=\"#a7e84c\" stroke=\"black\" points=\"7034.88,-439.25 6818.62,-439.25 6818.62,-352.5 7034.88,-352.5 7034.88,-439.25\"/>\n<text text-anchor=\"middle\" x=\"6926.75\" y=\"-421.95\" font-family=\"Helvetica,sans-Serif\" font-size=\"14.00\">tGravityAcc&#45;energy()&#45;Y &lt;= &#45;0.974</text>\n<text text-anchor=\"middle\" x=\"6926.75\" y=\"-406.2\" font-family=\"Helvetica,sans-Serif\" font-size=\"14.00\">gini = 0.17</text>\n<text text-anchor=\"middle\" x=\"6926.75\" y=\"-390.45\" font-family=\"Helvetica,sans-Serif\" font-size=\"14.00\">samples = 917</text>\n<text text-anchor=\"middle\" x=\"6926.75\" y=\"-374.7\" font-family=\"Helvetica,sans-Serif\" font-size=\"14.00\">value = [56, 833, 28, 0, 0, 0]</text>\n<text text-anchor=\"middle\" x=\"6926.75\" y=\"-358.95\" font-family=\"Helvetica,sans-Serif\" font-size=\"14.00\">class = WALKING_UPSTAIRS</text>\n</g>\n<!-- 93&#45;&gt;94 -->\n<g id=\"edge94\" class=\"edge\">\n<title>93&#45;&gt;94</title>\n<path fill=\"none\" stroke=\"black\" d=\"M6926.75,-475.05C6926.75,-467.21 6926.75,-458.92 6926.75,-450.79\"/>\n<polygon fill=\"black\" stroke=\"black\" points=\"6930.25,-450.98 6926.75,-440.98 6923.25,-450.98 6930.25,-450.98\"/>\n</g>\n<!-- 105 -->\n<g id=\"node106\" class=\"node\">\n<title>105</title>\n<polygon fill=\"#eda672\" stroke=\"black\" points=\"7753.5,-439.25 7526,-439.25 7526,-352.5 7753.5,-352.5 7753.5,-439.25\"/>\n<text text-anchor=\"middle\" x=\"7639.75\" y=\"-421.95\" font-family=\"Helvetica,sans-Serif\" font-size=\"14.00\">tBodyAccMag&#45;arCoeff()1 &lt;= &#45;0.294</text>\n<text text-anchor=\"middle\" x=\"7639.75\" y=\"-406.2\" font-family=\"Helvetica,sans-Serif\" font-size=\"14.00\">gini = 0.406</text>\n<text text-anchor=\"middle\" x=\"7639.75\" y=\"-390.45\" font-family=\"Helvetica,sans-Serif\" font-size=\"14.00\">samples = 80</text>\n<text text-anchor=\"middle\" x=\"7639.75\" y=\"-374.7\" font-family=\"Helvetica,sans-Serif\" font-size=\"14.00\">value = [60, 11, 9, 0, 0, 0]</text>\n<text text-anchor=\"middle\" x=\"7639.75\" y=\"-358.95\" font-family=\"Helvetica,sans-Serif\" font-size=\"14.00\">class = WALKING</text>\n</g>\n<!-- 93&#45;&gt;105 -->\n<g id=\"edge105\" class=\"edge\">\n<title>93&#45;&gt;105</title>\n<path fill=\"none\" stroke=\"black\" d=\"M7027.02,-500.64C7154.83,-479 7375.82,-441.57 7514.56,-418.08\"/>\n<polygon fill=\"black\" stroke=\"black\" points=\"7514.88,-421.57 7524.15,-416.45 7513.71,-414.67 7514.88,-421.57\"/>\n</g>\n<!-- 95 -->\n<g id=\"node96\" class=\"node\">\n<title>95</title>\n<polygon fill=\"#9cf2c0\" stroke=\"black\" points=\"6916.75,-316.5 6690.75,-316.5 6690.75,-229.75 6916.75,-229.75 6916.75,-316.5\"/>\n<text text-anchor=\"middle\" x=\"6803.75\" y=\"-299.2\" font-family=\"Helvetica,sans-Serif\" font-size=\"14.00\">tGravityAcc&#45;arCoeff()&#45;X,2 &lt;= 0.752</text>\n<text text-anchor=\"middle\" x=\"6803.75\" y=\"-283.45\" font-family=\"Helvetica,sans-Serif\" font-size=\"14.00\">gini = 0.444</text>\n<text text-anchor=\"middle\" x=\"6803.75\" y=\"-267.7\" font-family=\"Helvetica,sans-Serif\" font-size=\"14.00\">samples = 30</text>\n<text text-anchor=\"middle\" x=\"6803.75\" y=\"-251.95\" font-family=\"Helvetica,sans-Serif\" font-size=\"14.00\">value = [10, 0, 20, 0, 0, 0]</text>\n<text text-anchor=\"middle\" x=\"6803.75\" y=\"-236.2\" font-family=\"Helvetica,sans-Serif\" font-size=\"14.00\">class = WALKING_DOWNSTAIRS</text>\n</g>\n<!-- 94&#45;&gt;95 -->\n<g id=\"edge95\" class=\"edge\">\n<title>94&#45;&gt;95</title>\n<path fill=\"none\" stroke=\"black\" d=\"M6883.38,-352.3C6874.29,-343.38 6864.62,-333.88 6855.26,-324.69\"/>\n<polygon fill=\"black\" stroke=\"black\" points=\"6857.81,-322.29 6848.22,-317.78 6852.9,-327.28 6857.81,-322.29\"/>\n</g>\n<!-- 98 -->\n<g id=\"node99\" class=\"node\">\n<title>98</title>\n<polygon fill=\"#a3e746\" stroke=\"black\" points=\"7164.25,-316.5 6935.25,-316.5 6935.25,-229.75 7164.25,-229.75 7164.25,-316.5\"/>\n<text text-anchor=\"middle\" x=\"7049.75\" y=\"-299.2\" font-family=\"Helvetica,sans-Serif\" font-size=\"14.00\">tGravityAcc&#45;arCoeff()&#45;Y,3 &lt;= &#45;0.306</text>\n<text text-anchor=\"middle\" x=\"7049.75\" y=\"-283.45\" font-family=\"Helvetica,sans-Serif\" font-size=\"14.00\">gini = 0.115</text>\n<text text-anchor=\"middle\" x=\"7049.75\" y=\"-267.7\" font-family=\"Helvetica,sans-Serif\" font-size=\"14.00\">samples = 887</text>\n<text text-anchor=\"middle\" x=\"7049.75\" y=\"-251.95\" font-family=\"Helvetica,sans-Serif\" font-size=\"14.00\">value = [46, 833, 8, 0, 0, 0]</text>\n<text text-anchor=\"middle\" x=\"7049.75\" y=\"-236.2\" font-family=\"Helvetica,sans-Serif\" font-size=\"14.00\">class = WALKING_UPSTAIRS</text>\n</g>\n<!-- 94&#45;&gt;98 -->\n<g id=\"edge98\" class=\"edge\">\n<title>94&#45;&gt;98</title>\n<path fill=\"none\" stroke=\"black\" d=\"M6970.12,-352.3C6979.21,-343.38 6988.88,-333.88 6998.24,-324.69\"/>\n<polygon fill=\"black\" stroke=\"black\" points=\"7000.6,-327.28 7005.28,-317.78 6995.69,-322.29 7000.6,-327.28\"/>\n</g>\n<!-- 96 -->\n<g id=\"node97\" class=\"node\">\n<title>96</title>\n<polygon fill=\"#e58139\" stroke=\"black\" points=\"6680.5,-185.88 6519,-185.88 6519,-114.88 6680.5,-114.88 6680.5,-185.88\"/>\n<text text-anchor=\"middle\" x=\"6599.75\" y=\"-168.57\" font-family=\"Helvetica,sans-Serif\" font-size=\"14.00\">gini = 0.0</text>\n<text text-anchor=\"middle\" x=\"6599.75\" y=\"-152.82\" font-family=\"Helvetica,sans-Serif\" font-size=\"14.00\">samples = 10</text>\n<text text-anchor=\"middle\" x=\"6599.75\" y=\"-137.07\" font-family=\"Helvetica,sans-Serif\" font-size=\"14.00\">value = [10, 0, 0, 0, 0, 0]</text>\n<text text-anchor=\"middle\" x=\"6599.75\" y=\"-121.33\" font-family=\"Helvetica,sans-Serif\" font-size=\"14.00\">class = WALKING</text>\n</g>\n<!-- 95&#45;&gt;96 -->\n<g id=\"edge96\" class=\"edge\">\n<title>95&#45;&gt;96</title>\n<path fill=\"none\" stroke=\"black\" d=\"M6731.54,-229.38C6711.05,-217.26 6688.81,-204.09 6668.53,-192.09\"/>\n<polygon fill=\"black\" stroke=\"black\" points=\"6670.44,-189.15 6660.05,-187.07 6666.87,-195.17 6670.44,-189.15\"/>\n</g>\n<!-- 97 -->\n<g id=\"node98\" class=\"node\">\n<title>97</title>\n<polygon fill=\"#39e581\" stroke=\"black\" points=\"6923.38,-185.88 6698.12,-185.88 6698.12,-114.88 6923.38,-114.88 6923.38,-185.88\"/>\n<text text-anchor=\"middle\" x=\"6810.75\" y=\"-168.57\" font-family=\"Helvetica,sans-Serif\" font-size=\"14.00\">gini = 0.0</text>\n<text text-anchor=\"middle\" x=\"6810.75\" y=\"-152.82\" font-family=\"Helvetica,sans-Serif\" font-size=\"14.00\">samples = 20</text>\n<text text-anchor=\"middle\" x=\"6810.75\" y=\"-137.07\" font-family=\"Helvetica,sans-Serif\" font-size=\"14.00\">value = [0, 0, 20, 0, 0, 0]</text>\n<text text-anchor=\"middle\" x=\"6810.75\" y=\"-121.33\" font-family=\"Helvetica,sans-Serif\" font-size=\"14.00\">class = WALKING_DOWNSTAIRS</text>\n</g>\n<!-- 95&#45;&gt;97 -->\n<g id=\"edge97\" class=\"edge\">\n<title>95&#45;&gt;97</title>\n<path fill=\"none\" stroke=\"black\" d=\"M6806.22,-229.55C6806.82,-219.08 6807.48,-207.83 6808.09,-197.21\"/>\n<polygon fill=\"black\" stroke=\"black\" points=\"6811.57,-197.7 6808.65,-187.51 6804.58,-197.3 6811.57,-197.7\"/>\n</g>\n<!-- 99 -->\n<g id=\"node100\" class=\"node\">\n<title>99</title>\n<polygon fill=\"#a0e640\" stroke=\"black\" points=\"7141.62,-193.75 6941.88,-193.75 6941.88,-107 7141.62,-107 7141.62,-193.75\"/>\n<text text-anchor=\"middle\" x=\"7041.75\" y=\"-176.45\" font-family=\"Helvetica,sans-Serif\" font-size=\"14.00\">tBodyAcc&#45;max()&#45;X &lt;= &#45;0.364</text>\n<text text-anchor=\"middle\" x=\"7041.75\" y=\"-160.7\" font-family=\"Helvetica,sans-Serif\" font-size=\"14.00\">gini = 0.066</text>\n<text text-anchor=\"middle\" x=\"7041.75\" y=\"-144.95\" font-family=\"Helvetica,sans-Serif\" font-size=\"14.00\">samples = 827</text>\n<text text-anchor=\"middle\" x=\"7041.75\" y=\"-129.2\" font-family=\"Helvetica,sans-Serif\" font-size=\"14.00\">value = [21, 799, 7, 0, 0, 0]</text>\n<text text-anchor=\"middle\" x=\"7041.75\" y=\"-113.45\" font-family=\"Helvetica,sans-Serif\" font-size=\"14.00\">class = WALKING_UPSTAIRS</text>\n</g>\n<!-- 98&#45;&gt;99 -->\n<g id=\"edge99\" class=\"edge\">\n<title>98&#45;&gt;99</title>\n<path fill=\"none\" stroke=\"black\" d=\"M7046.93,-229.55C7046.41,-221.71 7045.86,-213.42 7045.32,-205.29\"/>\n<polygon fill=\"black\" stroke=\"black\" points=\"7048.83,-205.23 7044.67,-195.48 7041.84,-205.69 7048.83,-205.23\"/>\n</g>\n<!-- 102 -->\n<g id=\"node103\" class=\"node\">\n<title>102</title>\n<polygon fill=\"#e6f8cc\" stroke=\"black\" points=\"7423.5,-193.75 7160,-193.75 7160,-107 7423.5,-107 7423.5,-193.75\"/>\n<text text-anchor=\"middle\" x=\"7291.75\" y=\"-176.45\" font-family=\"Helvetica,sans-Serif\" font-size=\"14.00\">tBodyAccJerk&#45;correlation()&#45;X,Y &lt;= &#45;0.003</text>\n<text text-anchor=\"middle\" x=\"7291.75\" y=\"-160.7\" font-family=\"Helvetica,sans-Serif\" font-size=\"14.00\">gini = 0.505</text>\n<text text-anchor=\"middle\" x=\"7291.75\" y=\"-144.95\" font-family=\"Helvetica,sans-Serif\" font-size=\"14.00\">samples = 60</text>\n<text text-anchor=\"middle\" x=\"7291.75\" y=\"-129.2\" font-family=\"Helvetica,sans-Serif\" font-size=\"14.00\">value = [25, 34, 1, 0, 0, 0]</text>\n<text text-anchor=\"middle\" x=\"7291.75\" y=\"-113.45\" font-family=\"Helvetica,sans-Serif\" font-size=\"14.00\">class = WALKING_UPSTAIRS</text>\n</g>\n<!-- 98&#45;&gt;102 -->\n<g id=\"edge102\" class=\"edge\">\n<title>98&#45;&gt;102</title>\n<path fill=\"none\" stroke=\"black\" d=\"M7135.41,-229.38C7155.07,-219.57 7176.09,-209.09 7196.14,-199.08\"/>\n<polygon fill=\"black\" stroke=\"black\" points=\"7197.46,-202.33 7204.85,-194.74 7194.34,-196.07 7197.46,-202.33\"/>\n</g>\n<!-- 100 -->\n<g id=\"node101\" class=\"node\">\n<title>100</title>\n<polygon fill=\"#ffffff\" stroke=\"black\" points=\"6955.75,-71 6801.75,-71 6801.75,0 6955.75,0 6955.75,-71\"/>\n<text text-anchor=\"middle\" x=\"6878.75\" y=\"-53.7\" font-family=\"Helvetica,sans-Serif\" font-size=\"14.00\">gini = 0.5</text>\n<text text-anchor=\"middle\" x=\"6878.75\" y=\"-37.95\" font-family=\"Helvetica,sans-Serif\" font-size=\"14.00\">samples = 18</text>\n<text text-anchor=\"middle\" x=\"6878.75\" y=\"-22.2\" font-family=\"Helvetica,sans-Serif\" font-size=\"14.00\">value = [9, 9, 0, 0, 0, 0]</text>\n<text text-anchor=\"middle\" x=\"6878.75\" y=\"-6.45\" font-family=\"Helvetica,sans-Serif\" font-size=\"14.00\">class = WALKING</text>\n</g>\n<!-- 99&#45;&gt;100 -->\n<g id=\"edge100\" class=\"edge\">\n<title>99&#45;&gt;100</title>\n<path fill=\"none\" stroke=\"black\" d=\"M6980.13,-106.7C6966.43,-97.22 6951.93,-87.18 6938.32,-77.75\"/>\n<polygon fill=\"black\" stroke=\"black\" points=\"6940.51,-75.01 6930.3,-72.2 6936.53,-80.77 6940.51,-75.01\"/>\n</g>\n<!-- 101 -->\n<g id=\"node102\" class=\"node\">\n<title>101</title>\n<polygon fill=\"#9fe63e\" stroke=\"black\" points=\"7173.62,-71 6973.88,-71 6973.88,0 7173.62,0 7173.62,-71\"/>\n<text text-anchor=\"middle\" x=\"7073.75\" y=\"-53.7\" font-family=\"Helvetica,sans-Serif\" font-size=\"14.00\">gini = 0.046</text>\n<text text-anchor=\"middle\" x=\"7073.75\" y=\"-37.95\" font-family=\"Helvetica,sans-Serif\" font-size=\"14.00\">samples = 809</text>\n<text text-anchor=\"middle\" x=\"7073.75\" y=\"-22.2\" font-family=\"Helvetica,sans-Serif\" font-size=\"14.00\">value = [12, 790, 7, 0, 0, 0]</text>\n<text text-anchor=\"middle\" x=\"7073.75\" y=\"-6.45\" font-family=\"Helvetica,sans-Serif\" font-size=\"14.00\">class = WALKING_UPSTAIRS</text>\n</g>\n<!-- 99&#45;&gt;101 -->\n<g id=\"edge101\" class=\"edge\">\n<title>99&#45;&gt;101</title>\n<path fill=\"none\" stroke=\"black\" d=\"M7053.85,-106.7C7056.14,-98.63 7058.54,-90.16 7060.85,-82.01\"/>\n<polygon fill=\"black\" stroke=\"black\" points=\"7064.15,-83.19 7063.51,-72.61 7057.42,-81.28 7064.15,-83.19\"/>\n</g>\n<!-- 103 -->\n<g id=\"node104\" class=\"node\">\n<title>103</title>\n<polygon fill=\"#b2eb63\" stroke=\"black\" points=\"7391.62,-71 7191.88,-71 7191.88,0 7391.62,0 7391.62,-71\"/>\n<text text-anchor=\"middle\" x=\"7291.75\" y=\"-53.7\" font-family=\"Helvetica,sans-Serif\" font-size=\"14.00\">gini = 0.302</text>\n<text text-anchor=\"middle\" x=\"7291.75\" y=\"-37.95\" font-family=\"Helvetica,sans-Serif\" font-size=\"14.00\">samples = 39</text>\n<text text-anchor=\"middle\" x=\"7291.75\" y=\"-22.2\" font-family=\"Helvetica,sans-Serif\" font-size=\"14.00\">value = [6, 32, 1, 0, 0, 0]</text>\n<text text-anchor=\"middle\" x=\"7291.75\" y=\"-6.45\" font-family=\"Helvetica,sans-Serif\" font-size=\"14.00\">class = WALKING_UPSTAIRS</text>\n</g>\n<!-- 102&#45;&gt;103 -->\n<g id=\"edge103\" class=\"edge\">\n<title>102&#45;&gt;103</title>\n<path fill=\"none\" stroke=\"black\" d=\"M7291.75,-106.7C7291.75,-98.82 7291.75,-90.55 7291.75,-82.57\"/>\n<polygon fill=\"black\" stroke=\"black\" points=\"7295.25,-82.67 7291.75,-72.67 7288.25,-82.67 7295.25,-82.67\"/>\n</g>\n<!-- 104 -->\n<g id=\"node105\" class=\"node\">\n<title>104</title>\n<polygon fill=\"#e88e4e\" stroke=\"black\" points=\"7571.5,-71 7410,-71 7410,0 7571.5,0 7571.5,-71\"/>\n<text text-anchor=\"middle\" x=\"7490.75\" y=\"-53.7\" font-family=\"Helvetica,sans-Serif\" font-size=\"14.00\">gini = 0.172</text>\n<text text-anchor=\"middle\" x=\"7490.75\" y=\"-37.95\" font-family=\"Helvetica,sans-Serif\" font-size=\"14.00\">samples = 21</text>\n<text text-anchor=\"middle\" x=\"7490.75\" y=\"-22.2\" font-family=\"Helvetica,sans-Serif\" font-size=\"14.00\">value = [19, 2, 0, 0, 0, 0]</text>\n<text text-anchor=\"middle\" x=\"7490.75\" y=\"-6.45\" font-family=\"Helvetica,sans-Serif\" font-size=\"14.00\">class = WALKING</text>\n</g>\n<!-- 102&#45;&gt;104 -->\n<g id=\"edge104\" class=\"edge\">\n<title>102&#45;&gt;104</title>\n<path fill=\"none\" stroke=\"black\" d=\"M7367.27,-106.54C7384.36,-96.84 7402.46,-86.58 7419.38,-76.98\"/>\n<polygon fill=\"black\" stroke=\"black\" points=\"7420.9,-80.14 7427.87,-72.16 7417.45,-74.05 7420.9,-80.14\"/>\n</g>\n<!-- 106 -->\n<g id=\"node107\" class=\"node\">\n<title>106</title>\n<polygon fill=\"#caf193\" stroke=\"black\" points=\"7782,-316.5 7497.5,-316.5 7497.5,-229.75 7782,-229.75 7782,-316.5\"/>\n<text text-anchor=\"middle\" x=\"7639.75\" y=\"-299.2\" font-family=\"Helvetica,sans-Serif\" font-size=\"14.00\">fBodyAccJerk&#45;bandsEnergy()&#45;49,64 &lt;= &#45;0.92</text>\n<text text-anchor=\"middle\" x=\"7639.75\" y=\"-283.45\" font-family=\"Helvetica,sans-Serif\" font-size=\"14.00\">gini = 0.43</text>\n<text text-anchor=\"middle\" x=\"7639.75\" y=\"-267.7\" font-family=\"Helvetica,sans-Serif\" font-size=\"14.00\">samples = 16</text>\n<text text-anchor=\"middle\" x=\"7639.75\" y=\"-251.95\" font-family=\"Helvetica,sans-Serif\" font-size=\"14.00\">value = [0, 11, 5, 0, 0, 0]</text>\n<text text-anchor=\"middle\" x=\"7639.75\" y=\"-236.2\" font-family=\"Helvetica,sans-Serif\" font-size=\"14.00\">class = WALKING_UPSTAIRS</text>\n</g>\n<!-- 105&#45;&gt;106 -->\n<g id=\"edge106\" class=\"edge\">\n<title>105&#45;&gt;106</title>\n<path fill=\"none\" stroke=\"black\" d=\"M7639.75,-352.3C7639.75,-344.46 7639.75,-336.17 7639.75,-328.04\"/>\n<polygon fill=\"black\" stroke=\"black\" points=\"7643.25,-328.23 7639.75,-318.23 7636.25,-328.23 7643.25,-328.23\"/>\n</g>\n<!-- 109 -->\n<g id=\"node110\" class=\"node\">\n<title>109</title>\n<polygon fill=\"#e78946\" stroke=\"black\" points=\"8134.75,-316.5 7896.75,-316.5 7896.75,-229.75 8134.75,-229.75 8134.75,-316.5\"/>\n<text text-anchor=\"middle\" x=\"8015.75\" y=\"-299.2\" font-family=\"Helvetica,sans-Serif\" font-size=\"14.00\">tBodyAcc&#45;correlation()&#45;X,Y &lt;= &#45;0.348</text>\n<text text-anchor=\"middle\" x=\"8015.75\" y=\"-283.45\" font-family=\"Helvetica,sans-Serif\" font-size=\"14.00\">gini = 0.117</text>\n<text text-anchor=\"middle\" x=\"8015.75\" y=\"-267.7\" font-family=\"Helvetica,sans-Serif\" font-size=\"14.00\">samples = 64</text>\n<text text-anchor=\"middle\" x=\"8015.75\" y=\"-251.95\" font-family=\"Helvetica,sans-Serif\" font-size=\"14.00\">value = [60, 0, 4, 0, 0, 0]</text>\n<text text-anchor=\"middle\" x=\"8015.75\" y=\"-236.2\" font-family=\"Helvetica,sans-Serif\" font-size=\"14.00\">class = WALKING</text>\n</g>\n<!-- 105&#45;&gt;109 -->\n<g id=\"edge109\" class=\"edge\">\n<title>105&#45;&gt;109</title>\n<path fill=\"none\" stroke=\"black\" d=\"M7753.84,-358.24C7795.38,-344.9 7842.64,-329.72 7885.47,-315.96\"/>\n<polygon fill=\"black\" stroke=\"black\" points=\"7886.37,-319.35 7894.82,-312.96 7884.23,-312.69 7886.37,-319.35\"/>\n</g>\n<!-- 107 -->\n<g id=\"node108\" class=\"node\">\n<title>107</title>\n<polygon fill=\"#9de539\" stroke=\"black\" points=\"7641.62,-185.88 7441.88,-185.88 7441.88,-114.88 7641.62,-114.88 7641.62,-185.88\"/>\n<text text-anchor=\"middle\" x=\"7541.75\" y=\"-168.57\" font-family=\"Helvetica,sans-Serif\" font-size=\"14.00\">gini = 0.0</text>\n<text text-anchor=\"middle\" x=\"7541.75\" y=\"-152.82\" font-family=\"Helvetica,sans-Serif\" font-size=\"14.00\">samples = 11</text>\n<text text-anchor=\"middle\" x=\"7541.75\" y=\"-137.07\" font-family=\"Helvetica,sans-Serif\" font-size=\"14.00\">value = [0, 11, 0, 0, 0, 0]</text>\n<text text-anchor=\"middle\" x=\"7541.75\" y=\"-121.33\" font-family=\"Helvetica,sans-Serif\" font-size=\"14.00\">class = WALKING_UPSTAIRS</text>\n</g>\n<!-- 106&#45;&gt;107 -->\n<g id=\"edge107\" class=\"edge\">\n<title>106&#45;&gt;107</title>\n<path fill=\"none\" stroke=\"black\" d=\"M7605.2,-229.55C7596.07,-218.3 7586.2,-206.14 7577.03,-194.85\"/>\n<polygon fill=\"black\" stroke=\"black\" points=\"7579.83,-192.74 7570.81,-187.18 7574.39,-197.15 7579.83,-192.74\"/>\n</g>\n<!-- 108 -->\n<g id=\"node109\" class=\"node\">\n<title>108</title>\n<polygon fill=\"#39e581\" stroke=\"black\" points=\"7885.38,-185.88 7660.12,-185.88 7660.12,-114.88 7885.38,-114.88 7885.38,-185.88\"/>\n<text text-anchor=\"middle\" x=\"7772.75\" y=\"-168.57\" font-family=\"Helvetica,sans-Serif\" font-size=\"14.00\">gini = 0.0</text>\n<text text-anchor=\"middle\" x=\"7772.75\" y=\"-152.82\" font-family=\"Helvetica,sans-Serif\" font-size=\"14.00\">samples = 5</text>\n<text text-anchor=\"middle\" x=\"7772.75\" y=\"-137.07\" font-family=\"Helvetica,sans-Serif\" font-size=\"14.00\">value = [0, 0, 5, 0, 0, 0]</text>\n<text text-anchor=\"middle\" x=\"7772.75\" y=\"-121.33\" font-family=\"Helvetica,sans-Serif\" font-size=\"14.00\">class = WALKING_DOWNSTAIRS</text>\n</g>\n<!-- 106&#45;&gt;108 -->\n<g id=\"edge108\" class=\"edge\">\n<title>106&#45;&gt;108</title>\n<path fill=\"none\" stroke=\"black\" d=\"M7686.64,-229.55C7699.52,-217.86 7713.49,-205.18 7726.34,-193.51\"/>\n<polygon fill=\"black\" stroke=\"black\" points=\"7728.44,-196.33 7733.49,-187.02 7723.73,-191.15 7728.44,-196.33\"/>\n</g>\n<!-- 110 -->\n<g id=\"node111\" class=\"node\">\n<title>110</title>\n<polygon fill=\"#39e581\" stroke=\"black\" points=\"8128.38,-185.88 7903.12,-185.88 7903.12,-114.88 8128.38,-114.88 8128.38,-185.88\"/>\n<text text-anchor=\"middle\" x=\"8015.75\" y=\"-168.57\" font-family=\"Helvetica,sans-Serif\" font-size=\"14.00\">gini = 0.0</text>\n<text text-anchor=\"middle\" x=\"8015.75\" y=\"-152.82\" font-family=\"Helvetica,sans-Serif\" font-size=\"14.00\">samples = 3</text>\n<text text-anchor=\"middle\" x=\"8015.75\" y=\"-137.07\" font-family=\"Helvetica,sans-Serif\" font-size=\"14.00\">value = [0, 0, 3, 0, 0, 0]</text>\n<text text-anchor=\"middle\" x=\"8015.75\" y=\"-121.33\" font-family=\"Helvetica,sans-Serif\" font-size=\"14.00\">class = WALKING_DOWNSTAIRS</text>\n</g>\n<!-- 109&#45;&gt;110 -->\n<g id=\"edge110\" class=\"edge\">\n<title>109&#45;&gt;110</title>\n<path fill=\"none\" stroke=\"black\" d=\"M8015.75,-229.55C8015.75,-219.08 8015.75,-207.83 8015.75,-197.21\"/>\n<polygon fill=\"black\" stroke=\"black\" points=\"8019.25,-197.52 8015.75,-187.52 8012.25,-197.52 8019.25,-197.52\"/>\n</g>\n<!-- 111 -->\n<g id=\"node112\" class=\"node\">\n<title>111</title>\n<polygon fill=\"#e5833c\" stroke=\"black\" points=\"8359,-193.75 8146.5,-193.75 8146.5,-107 8359,-107 8359,-193.75\"/>\n<text text-anchor=\"middle\" x=\"8252.75\" y=\"-176.45\" font-family=\"Helvetica,sans-Serif\" font-size=\"14.00\">fBodyGyro&#45;maxInds&#45;Y &lt;= &#45;0.968</text>\n<text text-anchor=\"middle\" x=\"8252.75\" y=\"-160.7\" font-family=\"Helvetica,sans-Serif\" font-size=\"14.00\">gini = 0.032</text>\n<text text-anchor=\"middle\" x=\"8252.75\" y=\"-144.95\" font-family=\"Helvetica,sans-Serif\" font-size=\"14.00\">samples = 61</text>\n<text text-anchor=\"middle\" x=\"8252.75\" y=\"-129.2\" font-family=\"Helvetica,sans-Serif\" font-size=\"14.00\">value = [60, 0, 1, 0, 0, 0]</text>\n<text text-anchor=\"middle\" x=\"8252.75\" y=\"-113.45\" font-family=\"Helvetica,sans-Serif\" font-size=\"14.00\">class = WALKING</text>\n</g>\n<!-- 109&#45;&gt;111 -->\n<g id=\"edge111\" class=\"edge\">\n<title>109&#45;&gt;111</title>\n<path fill=\"none\" stroke=\"black\" d=\"M8099.64,-229.38C8118.8,-219.62 8139.29,-209.18 8158.84,-199.22\"/>\n<polygon fill=\"black\" stroke=\"black\" points=\"8160.3,-202.4 8167.62,-194.75 8157.12,-196.17 8160.3,-202.4\"/>\n</g>\n<!-- 112 -->\n<g id=\"node113\" class=\"node\">\n<title>112</title>\n<polygon fill=\"#39e581\" stroke=\"black\" points=\"8260.38,-71 8035.12,-71 8035.12,0 8260.38,0 8260.38,-71\"/>\n<text text-anchor=\"middle\" x=\"8147.75\" y=\"-53.7\" font-family=\"Helvetica,sans-Serif\" font-size=\"14.00\">gini = 0.0</text>\n<text text-anchor=\"middle\" x=\"8147.75\" y=\"-37.95\" font-family=\"Helvetica,sans-Serif\" font-size=\"14.00\">samples = 1</text>\n<text text-anchor=\"middle\" x=\"8147.75\" y=\"-22.2\" font-family=\"Helvetica,sans-Serif\" font-size=\"14.00\">value = [0, 0, 1, 0, 0, 0]</text>\n<text text-anchor=\"middle\" x=\"8147.75\" y=\"-6.45\" font-family=\"Helvetica,sans-Serif\" font-size=\"14.00\">class = WALKING_DOWNSTAIRS</text>\n</g>\n<!-- 111&#45;&gt;112 -->\n<g id=\"edge112\" class=\"edge\">\n<title>111&#45;&gt;112</title>\n<path fill=\"none\" stroke=\"black\" d=\"M8213.05,-106.7C8204.78,-97.81 8196.05,-88.43 8187.77,-79.52\"/>\n<polygon fill=\"black\" stroke=\"black\" points=\"8190.39,-77.2 8181.02,-72.27 8185.27,-81.97 8190.39,-77.2\"/>\n</g>\n<!-- 113 -->\n<g id=\"node114\" class=\"node\">\n<title>113</title>\n<polygon fill=\"#e58139\" stroke=\"black\" points=\"8439.5,-71 8278,-71 8278,0 8439.5,0 8439.5,-71\"/>\n<text text-anchor=\"middle\" x=\"8358.75\" y=\"-53.7\" font-family=\"Helvetica,sans-Serif\" font-size=\"14.00\">gini = 0.0</text>\n<text text-anchor=\"middle\" x=\"8358.75\" y=\"-37.95\" font-family=\"Helvetica,sans-Serif\" font-size=\"14.00\">samples = 60</text>\n<text text-anchor=\"middle\" x=\"8358.75\" y=\"-22.2\" font-family=\"Helvetica,sans-Serif\" font-size=\"14.00\">value = [60, 0, 0, 0, 0, 0]</text>\n<text text-anchor=\"middle\" x=\"8358.75\" y=\"-6.45\" font-family=\"Helvetica,sans-Serif\" font-size=\"14.00\">class = WALKING</text>\n</g>\n<!-- 111&#45;&gt;113 -->\n<g id=\"edge113\" class=\"edge\">\n<title>111&#45;&gt;113</title>\n<path fill=\"none\" stroke=\"black\" d=\"M8292.82,-106.7C8301.18,-97.81 8309.99,-88.43 8318.35,-79.52\"/>\n<polygon fill=\"black\" stroke=\"black\" points=\"8320.87,-81.95 8325.17,-72.26 8315.77,-77.15 8320.87,-81.95\"/>\n</g>\n<!-- 115 -->\n<g id=\"node116\" class=\"node\">\n<title>115</title>\n<polygon fill=\"#44e788\" stroke=\"black\" points=\"9136,-562 8905.5,-562 8905.5,-475.25 9136,-475.25 9136,-562\"/>\n<text text-anchor=\"middle\" x=\"9020.75\" y=\"-544.7\" font-family=\"Helvetica,sans-Serif\" font-size=\"14.00\">tGravityAcc&#45;arCoeff()&#45;X,3 &lt;= &#45;0.445</text>\n<text text-anchor=\"middle\" x=\"9020.75\" y=\"-528.95\" font-family=\"Helvetica,sans-Serif\" font-size=\"14.00\">gini = 0.107</text>\n<text text-anchor=\"middle\" x=\"9020.75\" y=\"-513.2\" font-family=\"Helvetica,sans-Serif\" font-size=\"14.00\">samples = 860</text>\n<text text-anchor=\"middle\" x=\"9020.75\" y=\"-497.45\" font-family=\"Helvetica,sans-Serif\" font-size=\"14.00\">value = [17, 31, 812, 0, 0, 0]</text>\n<text text-anchor=\"middle\" x=\"9020.75\" y=\"-481.7\" font-family=\"Helvetica,sans-Serif\" font-size=\"14.00\">class = WALKING_DOWNSTAIRS</text>\n</g>\n<!-- 114&#45;&gt;115 -->\n<g id=\"edge115\" class=\"edge\">\n<title>114&#45;&gt;115</title>\n<path fill=\"none\" stroke=\"black\" d=\"M9020.75,-597.8C9020.75,-589.96 9020.75,-581.67 9020.75,-573.54\"/>\n<polygon fill=\"black\" stroke=\"black\" points=\"9024.25,-573.73 9020.75,-563.73 9017.25,-573.73 9024.25,-573.73\"/>\n</g>\n<!-- 128 -->\n<g id=\"node129\" class=\"node\">\n<title>128</title>\n<polygon fill=\"#a7e84e\" stroke=\"black\" points=\"9579,-562 9294.5,-562 9294.5,-475.25 9579,-475.25 9579,-562\"/>\n<text text-anchor=\"middle\" x=\"9436.75\" y=\"-544.7\" font-family=\"Helvetica,sans-Serif\" font-size=\"14.00\">fBodyAccJerk&#45;bandsEnergy()&#45;1,24 &lt;= &#45;0.475</text>\n<text text-anchor=\"middle\" x=\"9436.75\" y=\"-528.95\" font-family=\"Helvetica,sans-Serif\" font-size=\"14.00\">gini = 0.182</text>\n<text text-anchor=\"middle\" x=\"9436.75\" y=\"-513.2\" font-family=\"Helvetica,sans-Serif\" font-size=\"14.00\">samples = 61</text>\n<text text-anchor=\"middle\" x=\"9436.75\" y=\"-497.45\" font-family=\"Helvetica,sans-Serif\" font-size=\"14.00\">value = [2, 55, 4, 0, 0, 0]</text>\n<text text-anchor=\"middle\" x=\"9436.75\" y=\"-481.7\" font-family=\"Helvetica,sans-Serif\" font-size=\"14.00\">class = WALKING_UPSTAIRS</text>\n</g>\n<!-- 114&#45;&gt;128 -->\n<g id=\"edge128\" class=\"edge\">\n<title>114&#45;&gt;128</title>\n<path fill=\"none\" stroke=\"black\" d=\"M9140.52,-605.61C9185.05,-592.68 9236.21,-577.83 9283.35,-564.15\"/>\n<polygon fill=\"black\" stroke=\"black\" points=\"9284.21,-567.55 9292.83,-561.4 9282.25,-560.83 9284.21,-567.55\"/>\n</g>\n<!-- 116 -->\n<g id=\"node117\" class=\"node\">\n<title>116</title>\n<polygon fill=\"#42e687\" stroke=\"black\" points=\"9026.75,-439.25 8734.75,-439.25 8734.75,-352.5 9026.75,-352.5 9026.75,-439.25\"/>\n<text text-anchor=\"middle\" x=\"8880.75\" y=\"-421.95\" font-family=\"Helvetica,sans-Serif\" font-size=\"14.00\">fBodyAccJerk&#45;bandsEnergy()&#45;17,32 &lt;= &#45;0.964</text>\n<text text-anchor=\"middle\" x=\"8880.75\" y=\"-406.2\" font-family=\"Helvetica,sans-Serif\" font-size=\"14.00\">gini = 0.086</text>\n<text text-anchor=\"middle\" x=\"8880.75\" y=\"-390.45\" font-family=\"Helvetica,sans-Serif\" font-size=\"14.00\">samples = 847</text>\n<text text-anchor=\"middle\" x=\"8880.75\" y=\"-374.7\" font-family=\"Helvetica,sans-Serif\" font-size=\"14.00\">value = [7, 31, 809, 0, 0, 0]</text>\n<text text-anchor=\"middle\" x=\"8880.75\" y=\"-358.95\" font-family=\"Helvetica,sans-Serif\" font-size=\"14.00\">class = WALKING_DOWNSTAIRS</text>\n</g>\n<!-- 115&#45;&gt;116 -->\n<g id=\"edge116\" class=\"edge\">\n<title>115&#45;&gt;116</title>\n<path fill=\"none\" stroke=\"black\" d=\"M8971.39,-475.05C8960.83,-465.94 8949.58,-456.24 8938.73,-446.88\"/>\n<polygon fill=\"black\" stroke=\"black\" points=\"8941.14,-444.34 8931.28,-440.46 8936.57,-449.64 8941.14,-444.34\"/>\n</g>\n<!-- 125 -->\n<g id=\"node126\" class=\"node\">\n<title>125</title>\n<polygon fill=\"#eda774\" stroke=\"black\" points=\"9318.75,-439.25 9044.75,-439.25 9044.75,-352.5 9318.75,-352.5 9318.75,-439.25\"/>\n<text text-anchor=\"middle\" x=\"9181.75\" y=\"-421.95\" font-family=\"Helvetica,sans-Serif\" font-size=\"14.00\">fBodyGyro&#45;bandsEnergy()&#45;17,24 &lt;= &#45;0.774</text>\n<text text-anchor=\"middle\" x=\"9181.75\" y=\"-406.2\" font-family=\"Helvetica,sans-Serif\" font-size=\"14.00\">gini = 0.355</text>\n<text text-anchor=\"middle\" x=\"9181.75\" y=\"-390.45\" font-family=\"Helvetica,sans-Serif\" font-size=\"14.00\">samples = 13</text>\n<text text-anchor=\"middle\" x=\"9181.75\" y=\"-374.7\" font-family=\"Helvetica,sans-Serif\" font-size=\"14.00\">value = [10, 0, 3, 0, 0, 0]</text>\n<text text-anchor=\"middle\" x=\"9181.75\" y=\"-358.95\" font-family=\"Helvetica,sans-Serif\" font-size=\"14.00\">class = WALKING</text>\n</g>\n<!-- 115&#45;&gt;125 -->\n<g id=\"edge125\" class=\"edge\">\n<title>115&#45;&gt;125</title>\n<path fill=\"none\" stroke=\"black\" d=\"M9077.51,-475.05C9089.82,-465.82 9102.95,-455.98 9115.59,-446.5\"/>\n<polygon fill=\"black\" stroke=\"black\" points=\"9117.57,-449.38 9123.47,-440.58 9113.37,-443.78 9117.57,-449.38\"/>\n</g>\n<!-- 117 -->\n<g id=\"node118\" class=\"node\">\n<title>117</title>\n<polygon fill=\"#f8fdf1\" stroke=\"black\" points=\"8808.5,-316.5 8557,-316.5 8557,-229.75 8808.5,-229.75 8808.5,-316.5\"/>\n<text text-anchor=\"middle\" x=\"8682.75\" y=\"-299.2\" font-family=\"Helvetica,sans-Serif\" font-size=\"14.00\">fBodyAcc&#45;bandsEnergy()&#45;1,8 &lt;= &#45;0.387</text>\n<text text-anchor=\"middle\" x=\"8682.75\" y=\"-283.45\" font-family=\"Helvetica,sans-Serif\" font-size=\"14.00\">gini = 0.499</text>\n<text text-anchor=\"middle\" x=\"8682.75\" y=\"-267.7\" font-family=\"Helvetica,sans-Serif\" font-size=\"14.00\">samples = 27</text>\n<text text-anchor=\"middle\" x=\"8682.75\" y=\"-251.95\" font-family=\"Helvetica,sans-Serif\" font-size=\"14.00\">value = [0, 14, 13, 0, 0, 0]</text>\n<text text-anchor=\"middle\" x=\"8682.75\" y=\"-236.2\" font-family=\"Helvetica,sans-Serif\" font-size=\"14.00\">class = WALKING_UPSTAIRS</text>\n</g>\n<!-- 116&#45;&gt;117 -->\n<g id=\"edge117\" class=\"edge\">\n<title>116&#45;&gt;117</title>\n<path fill=\"none\" stroke=\"black\" d=\"M8810.66,-352.13C8795.09,-342.64 8778.48,-332.51 8762.55,-322.79\"/>\n<polygon fill=\"black\" stroke=\"black\" points=\"8764.39,-319.82 8754.03,-317.6 8760.75,-325.79 8764.39,-319.82\"/>\n</g>\n<!-- 120 -->\n<g id=\"node121\" class=\"node\">\n<title>120</title>\n<polygon fill=\"#3fe685\" stroke=\"black\" points=\"9051.38,-316.5 8826.12,-316.5 8826.12,-229.75 9051.38,-229.75 9051.38,-316.5\"/>\n<text text-anchor=\"middle\" x=\"8938.75\" y=\"-299.2\" font-family=\"Helvetica,sans-Serif\" font-size=\"14.00\">tBodyAccJerk&#45;max()&#45;X &lt;= &#45;0.512</text>\n<text text-anchor=\"middle\" x=\"8938.75\" y=\"-283.45\" font-family=\"Helvetica,sans-Serif\" font-size=\"14.00\">gini = 0.057</text>\n<text text-anchor=\"middle\" x=\"8938.75\" y=\"-267.7\" font-family=\"Helvetica,sans-Serif\" font-size=\"14.00\">samples = 820</text>\n<text text-anchor=\"middle\" x=\"8938.75\" y=\"-251.95\" font-family=\"Helvetica,sans-Serif\" font-size=\"14.00\">value = [7, 17, 796, 0, 0, 0]</text>\n<text text-anchor=\"middle\" x=\"8938.75\" y=\"-236.2\" font-family=\"Helvetica,sans-Serif\" font-size=\"14.00\">class = WALKING_DOWNSTAIRS</text>\n</g>\n<!-- 116&#45;&gt;120 -->\n<g id=\"edge120\" class=\"edge\">\n<title>116&#45;&gt;120</title>\n<path fill=\"none\" stroke=\"black\" d=\"M8901.2,-352.3C8905.14,-344.1 8909.31,-335.41 8913.39,-326.92\"/>\n<polygon fill=\"black\" stroke=\"black\" points=\"8916.46,-328.61 8917.64,-318.08 8910.15,-325.58 8916.46,-328.61\"/>\n</g>\n<!-- 118 -->\n<g id=\"node119\" class=\"node\">\n<title>118</title>\n<polygon fill=\"#9de539\" stroke=\"black\" points=\"8576.62,-185.88 8376.88,-185.88 8376.88,-114.88 8576.62,-114.88 8576.62,-185.88\"/>\n<text text-anchor=\"middle\" x=\"8476.75\" y=\"-168.57\" font-family=\"Helvetica,sans-Serif\" font-size=\"14.00\">gini = 0.0</text>\n<text text-anchor=\"middle\" x=\"8476.75\" y=\"-152.82\" font-family=\"Helvetica,sans-Serif\" font-size=\"14.00\">samples = 14</text>\n<text text-anchor=\"middle\" x=\"8476.75\" y=\"-137.07\" font-family=\"Helvetica,sans-Serif\" font-size=\"14.00\">value = [0, 14, 0, 0, 0, 0]</text>\n<text text-anchor=\"middle\" x=\"8476.75\" y=\"-121.33\" font-family=\"Helvetica,sans-Serif\" font-size=\"14.00\">class = WALKING_UPSTAIRS</text>\n</g>\n<!-- 117&#45;&gt;118 -->\n<g id=\"edge118\" class=\"edge\">\n<title>117&#45;&gt;118</title>\n<path fill=\"none\" stroke=\"black\" d=\"M8609.83,-229.38C8589.14,-217.26 8566.68,-204.09 8546.2,-192.09\"/>\n<polygon fill=\"black\" stroke=\"black\" points=\"8548.03,-189.1 8537.63,-187.06 8544.49,-195.14 8548.03,-189.1\"/>\n</g>\n<!-- 119 -->\n<g id=\"node120\" class=\"node\">\n<title>119</title>\n<polygon fill=\"#39e581\" stroke=\"black\" points=\"8820.38,-185.88 8595.12,-185.88 8595.12,-114.88 8820.38,-114.88 8820.38,-185.88\"/>\n<text text-anchor=\"middle\" x=\"8707.75\" y=\"-168.57\" font-family=\"Helvetica,sans-Serif\" font-size=\"14.00\">gini = 0.0</text>\n<text text-anchor=\"middle\" x=\"8707.75\" y=\"-152.82\" font-family=\"Helvetica,sans-Serif\" font-size=\"14.00\">samples = 13</text>\n<text text-anchor=\"middle\" x=\"8707.75\" y=\"-137.07\" font-family=\"Helvetica,sans-Serif\" font-size=\"14.00\">value = [0, 0, 13, 0, 0, 0]</text>\n<text text-anchor=\"middle\" x=\"8707.75\" y=\"-121.33\" font-family=\"Helvetica,sans-Serif\" font-size=\"14.00\">class = WALKING_DOWNSTAIRS</text>\n</g>\n<!-- 117&#45;&gt;119 -->\n<g id=\"edge119\" class=\"edge\">\n<title>117&#45;&gt;119</title>\n<path fill=\"none\" stroke=\"black\" d=\"M8691.56,-229.55C8693.73,-219.08 8696.06,-207.83 8698.26,-197.21\"/>\n<polygon fill=\"black\" stroke=\"black\" points=\"8701.67,-197.99 8700.27,-187.49 8694.82,-196.57 8701.67,-197.99\"/>\n</g>\n<!-- 121 -->\n<g id=\"node122\" class=\"node\">\n<title>121</title>\n<polygon fill=\"#def6bd\" stroke=\"black\" points=\"9038.62,-185.88 8838.88,-185.88 8838.88,-114.88 9038.62,-114.88 9038.62,-185.88\"/>\n<text text-anchor=\"middle\" x=\"8938.75\" y=\"-168.57\" font-family=\"Helvetica,sans-Serif\" font-size=\"14.00\">gini = 0.48</text>\n<text text-anchor=\"middle\" x=\"8938.75\" y=\"-152.82\" font-family=\"Helvetica,sans-Serif\" font-size=\"14.00\">samples = 5</text>\n<text text-anchor=\"middle\" x=\"8938.75\" y=\"-137.07\" font-family=\"Helvetica,sans-Serif\" font-size=\"14.00\">value = [2, 3, 0, 0, 0, 0]</text>\n<text text-anchor=\"middle\" x=\"8938.75\" y=\"-121.33\" font-family=\"Helvetica,sans-Serif\" font-size=\"14.00\">class = WALKING_UPSTAIRS</text>\n</g>\n<!-- 120&#45;&gt;121 -->\n<g id=\"edge121\" class=\"edge\">\n<title>120&#45;&gt;121</title>\n<path fill=\"none\" stroke=\"black\" d=\"M8938.75,-229.55C8938.75,-219.08 8938.75,-207.83 8938.75,-197.21\"/>\n<polygon fill=\"black\" stroke=\"black\" points=\"8942.25,-197.52 8938.75,-187.52 8935.25,-197.52 8942.25,-197.52\"/>\n</g>\n<!-- 122 -->\n<g id=\"node123\" class=\"node\">\n<title>122</title>\n<polygon fill=\"#3ee684\" stroke=\"black\" points=\"9282.38,-193.75 9057.12,-193.75 9057.12,-107 9282.38,-107 9282.38,-193.75\"/>\n<text text-anchor=\"middle\" x=\"9169.75\" y=\"-176.45\" font-family=\"Helvetica,sans-Serif\" font-size=\"14.00\">tBodyAcc&#45;max()&#45;X &lt;= 0.048</text>\n<text text-anchor=\"middle\" x=\"9169.75\" y=\"-160.7\" font-family=\"Helvetica,sans-Serif\" font-size=\"14.00\">gini = 0.046</text>\n<text text-anchor=\"middle\" x=\"9169.75\" y=\"-144.95\" font-family=\"Helvetica,sans-Serif\" font-size=\"14.00\">samples = 815</text>\n<text text-anchor=\"middle\" x=\"9169.75\" y=\"-129.2\" font-family=\"Helvetica,sans-Serif\" font-size=\"14.00\">value = [5, 14, 796, 0, 0, 0]</text>\n<text text-anchor=\"middle\" x=\"9169.75\" y=\"-113.45\" font-family=\"Helvetica,sans-Serif\" font-size=\"14.00\">class = WALKING_DOWNSTAIRS</text>\n</g>\n<!-- 120&#45;&gt;122 -->\n<g id=\"edge122\" class=\"edge\">\n<title>120&#45;&gt;122</title>\n<path fill=\"none\" stroke=\"black\" d=\"M9020.52,-229.38C9039.11,-219.66 9058.98,-209.28 9077.96,-199.36\"/>\n<polygon fill=\"black\" stroke=\"black\" points=\"9079.51,-202.49 9086.75,-194.76 9076.27,-196.29 9079.51,-202.49\"/>\n</g>\n<!-- 123 -->\n<g id=\"node124\" class=\"node\">\n<title>123</title>\n<polygon fill=\"#cef29c\" stroke=\"black\" points=\"9153.62,-71 8953.88,-71 8953.88,0 9153.62,0 9153.62,-71\"/>\n<text text-anchor=\"middle\" x=\"9053.75\" y=\"-53.7\" font-family=\"Helvetica,sans-Serif\" font-size=\"14.00\">gini = 0.444</text>\n<text text-anchor=\"middle\" x=\"9053.75\" y=\"-37.95\" font-family=\"Helvetica,sans-Serif\" font-size=\"14.00\">samples = 3</text>\n<text text-anchor=\"middle\" x=\"9053.75\" y=\"-22.2\" font-family=\"Helvetica,sans-Serif\" font-size=\"14.00\">value = [1, 2, 0, 0, 0, 0]</text>\n<text text-anchor=\"middle\" x=\"9053.75\" y=\"-6.45\" font-family=\"Helvetica,sans-Serif\" font-size=\"14.00\">class = WALKING_UPSTAIRS</text>\n</g>\n<!-- 122&#45;&gt;123 -->\n<g id=\"edge123\" class=\"edge\">\n<title>122&#45;&gt;123</title>\n<path fill=\"none\" stroke=\"black\" d=\"M9125.9,-106.7C9116.57,-97.62 9106.72,-88.04 9097.4,-78.97\"/>\n<polygon fill=\"black\" stroke=\"black\" points=\"9100.06,-76.68 9090.45,-72.21 9095.18,-81.7 9100.06,-76.68\"/>\n</g>\n<!-- 124 -->\n<g id=\"node125\" class=\"node\">\n<title>124</title>\n<polygon fill=\"#3de684\" stroke=\"black\" points=\"9397.38,-71 9172.12,-71 9172.12,0 9397.38,0 9397.38,-71\"/>\n<text text-anchor=\"middle\" x=\"9284.75\" y=\"-53.7\" font-family=\"Helvetica,sans-Serif\" font-size=\"14.00\">gini = 0.039</text>\n<text text-anchor=\"middle\" x=\"9284.75\" y=\"-37.95\" font-family=\"Helvetica,sans-Serif\" font-size=\"14.00\">samples = 812</text>\n<text text-anchor=\"middle\" x=\"9284.75\" y=\"-22.2\" font-family=\"Helvetica,sans-Serif\" font-size=\"14.00\">value = [4, 12, 796, 0, 0, 0]</text>\n<text text-anchor=\"middle\" x=\"9284.75\" y=\"-6.45\" font-family=\"Helvetica,sans-Serif\" font-size=\"14.00\">class = WALKING_DOWNSTAIRS</text>\n</g>\n<!-- 122&#45;&gt;124 -->\n<g id=\"edge124\" class=\"edge\">\n<title>122&#45;&gt;124</title>\n<path fill=\"none\" stroke=\"black\" d=\"M9213.23,-106.7C9222.48,-97.62 9232.24,-88.04 9241.48,-78.97\"/>\n<polygon fill=\"black\" stroke=\"black\" points=\"9243.67,-81.72 9248.36,-72.22 9238.77,-76.72 9243.67,-81.72\"/>\n</g>\n<!-- 126 -->\n<g id=\"node127\" class=\"node\">\n<title>126</title>\n<polygon fill=\"#39e581\" stroke=\"black\" points=\"9294.38,-308.62 9069.12,-308.62 9069.12,-237.62 9294.38,-237.62 9294.38,-308.62\"/>\n<text text-anchor=\"middle\" x=\"9181.75\" y=\"-291.32\" font-family=\"Helvetica,sans-Serif\" font-size=\"14.00\">gini = 0.0</text>\n<text text-anchor=\"middle\" x=\"9181.75\" y=\"-275.57\" font-family=\"Helvetica,sans-Serif\" font-size=\"14.00\">samples = 3</text>\n<text text-anchor=\"middle\" x=\"9181.75\" y=\"-259.82\" font-family=\"Helvetica,sans-Serif\" font-size=\"14.00\">value = [0, 0, 3, 0, 0, 0]</text>\n<text text-anchor=\"middle\" x=\"9181.75\" y=\"-244.07\" font-family=\"Helvetica,sans-Serif\" font-size=\"14.00\">class = WALKING_DOWNSTAIRS</text>\n</g>\n<!-- 125&#45;&gt;126 -->\n<g id=\"edge126\" class=\"edge\">\n<title>125&#45;&gt;126</title>\n<path fill=\"none\" stroke=\"black\" d=\"M9181.75,-352.3C9181.75,-341.83 9181.75,-330.58 9181.75,-319.96\"/>\n<polygon fill=\"black\" stroke=\"black\" points=\"9185.25,-320.27 9181.75,-310.27 9178.25,-320.27 9185.25,-320.27\"/>\n</g>\n<!-- 127 -->\n<g id=\"node128\" class=\"node\">\n<title>127</title>\n<polygon fill=\"#e58139\" stroke=\"black\" points=\"9473.5,-308.62 9312,-308.62 9312,-237.62 9473.5,-237.62 9473.5,-308.62\"/>\n<text text-anchor=\"middle\" x=\"9392.75\" y=\"-291.32\" font-family=\"Helvetica,sans-Serif\" font-size=\"14.00\">gini = 0.0</text>\n<text text-anchor=\"middle\" x=\"9392.75\" y=\"-275.57\" font-family=\"Helvetica,sans-Serif\" font-size=\"14.00\">samples = 10</text>\n<text text-anchor=\"middle\" x=\"9392.75\" y=\"-259.82\" font-family=\"Helvetica,sans-Serif\" font-size=\"14.00\">value = [10, 0, 0, 0, 0, 0]</text>\n<text text-anchor=\"middle\" x=\"9392.75\" y=\"-244.07\" font-family=\"Helvetica,sans-Serif\" font-size=\"14.00\">class = WALKING</text>\n</g>\n<!-- 125&#45;&gt;127 -->\n<g id=\"edge127\" class=\"edge\">\n<title>125&#45;&gt;127</title>\n<path fill=\"none\" stroke=\"black\" d=\"M9256.44,-352.13C9277.72,-339.95 9300.85,-326.72 9321.9,-314.67\"/>\n<polygon fill=\"black\" stroke=\"black\" points=\"9323.47,-317.8 9330.42,-309.8 9320,-311.73 9323.47,-317.8\"/>\n</g>\n<!-- 129 -->\n<g id=\"node130\" class=\"node\">\n<title>129</title>\n<polygon fill=\"#9de539\" stroke=\"black\" points=\"9536.62,-431.38 9336.88,-431.38 9336.88,-360.38 9536.62,-360.38 9536.62,-431.38\"/>\n<text text-anchor=\"middle\" x=\"9436.75\" y=\"-414.07\" font-family=\"Helvetica,sans-Serif\" font-size=\"14.00\">gini = 0.0</text>\n<text text-anchor=\"middle\" x=\"9436.75\" y=\"-398.32\" font-family=\"Helvetica,sans-Serif\" font-size=\"14.00\">samples = 55</text>\n<text text-anchor=\"middle\" x=\"9436.75\" y=\"-382.57\" font-family=\"Helvetica,sans-Serif\" font-size=\"14.00\">value = [0, 55, 0, 0, 0, 0]</text>\n<text text-anchor=\"middle\" x=\"9436.75\" y=\"-366.82\" font-family=\"Helvetica,sans-Serif\" font-size=\"14.00\">class = WALKING_UPSTAIRS</text>\n</g>\n<!-- 128&#45;&gt;129 -->\n<g id=\"edge129\" class=\"edge\">\n<title>128&#45;&gt;129</title>\n<path fill=\"none\" stroke=\"black\" d=\"M9436.75,-475.05C9436.75,-464.58 9436.75,-453.33 9436.75,-442.71\"/>\n<polygon fill=\"black\" stroke=\"black\" points=\"9440.25,-443.02 9436.75,-433.02 9433.25,-443.02 9440.25,-443.02\"/>\n</g>\n<!-- 130 -->\n<g id=\"node131\" class=\"node\">\n<title>130</title>\n<polygon fill=\"#9cf2c0\" stroke=\"black\" points=\"9780.38,-431.38 9555.12,-431.38 9555.12,-360.38 9780.38,-360.38 9780.38,-431.38\"/>\n<text text-anchor=\"middle\" x=\"9667.75\" y=\"-414.07\" font-family=\"Helvetica,sans-Serif\" font-size=\"14.00\">gini = 0.444</text>\n<text text-anchor=\"middle\" x=\"9667.75\" y=\"-398.32\" font-family=\"Helvetica,sans-Serif\" font-size=\"14.00\">samples = 6</text>\n<text text-anchor=\"middle\" x=\"9667.75\" y=\"-382.57\" font-family=\"Helvetica,sans-Serif\" font-size=\"14.00\">value = [2, 0, 4, 0, 0, 0]</text>\n<text text-anchor=\"middle\" x=\"9667.75\" y=\"-366.82\" font-family=\"Helvetica,sans-Serif\" font-size=\"14.00\">class = WALKING_DOWNSTAIRS</text>\n</g>\n<!-- 128&#45;&gt;130 -->\n<g id=\"edge130\" class=\"edge\">\n<title>128&#45;&gt;130</title>\n<path fill=\"none\" stroke=\"black\" d=\"M9518.52,-474.88C9542.03,-462.59 9567.59,-449.23 9590.81,-437.09\"/>\n<polygon fill=\"black\" stroke=\"black\" points=\"9592.36,-440.23 9599.6,-432.5 9589.12,-434.03 9592.36,-440.23\"/>\n</g>\n</g>\n</svg>\n",
      "text/plain": [
       "<graphviz.sources.Source at 0x25beede9360>"
      ]
     },
     "execution_count": 40,
     "metadata": {},
     "output_type": "execute_result"
    }
   ],
   "execution_count": 40
  },
  {
   "metadata": {},
   "cell_type": "code",
   "outputs": [],
   "execution_count": null,
   "source": ""
  }
 ],
 "metadata": {
  "kernelspec": {
   "display_name": "Python 3",
   "language": "python",
   "name": "python3"
  },
  "language_info": {
   "codemirror_mode": {
    "name": "ipython",
    "version": 3
   },
   "file_extension": ".py",
   "mimetype": "text/x-python",
   "name": "python",
   "nbconvert_exporter": "python",
   "pygments_lexer": "ipython3",
   "version": "3.10.7"
  }
 },
 "nbformat": 4,
 "nbformat_minor": 2
}
