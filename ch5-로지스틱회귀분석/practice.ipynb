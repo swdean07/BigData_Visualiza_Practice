{
 "cells": [
  {
   "metadata": {
    "ExecuteTime": {
     "end_time": "2025-03-07T03:00:50.414242Z",
     "start_time": "2025-03-07T03:00:50.409242Z"
    }
   },
   "cell_type": "code",
   "source": [
    "#빅데이터_분석&시각화 #미니실습,\n",
    "\n",
    "# 1. 로지스틱 회귀 분석,\n",
    "# UCI 정제된 데이터, 유방암 암 진단 데이터를 이용했음.\n",
    "#\n",
    "# UCI 다른 데이터 셋을 이용해서, 로지스틱 회귀 분석 해보기."
   ],
   "id": "34db666bbed09ddf",
   "outputs": [],
   "execution_count": 79
  },
  {
   "metadata": {
    "ExecuteTime": {
     "end_time": "2025-03-07T03:01:26.591161Z",
     "start_time": "2025-03-07T03:01:26.509162Z"
    }
   },
   "cell_type": "code",
   "source": [
    "import numpy as np\n",
    "import pandas as pd\n",
    "import matplotlib.pyplot as plt\n",
    "from sklearn.model_selection import train_test_split\n",
    "from sklearn.preprocessing import StandardScaler\n",
    "from sklearn.linear_model import LogisticRegression\n",
    "from sklearn.metrics import accuracy_score, confusion_matrix, classification_report, precision_score, recall_score, f1_score, roc_auc_score\n",
    "\n",
    "# 1. 데이터 로드\n",
    "file_path = \"adult.data\"  # 경로 설정\n",
    "columns = ['age', 'workclass', 'fnlwgt', 'education', 'education_num', 'marital_status',\n",
    "           'occupation', 'relationship', 'race', 'sex', 'capital_gain', 'capital_loss',\n",
    "           'hours_per_week', 'native_country', 'income']\n",
    "data = pd.read_csv(file_path, header=None, names=columns)\n",
    "print(data.head())"
   ],
   "id": "10343e03faf21e19",
   "outputs": [
    {
     "name": "stdout",
     "output_type": "stream",
     "text": [
      "   age          workclass  fnlwgt   education  education_num  \\\n",
      "0   39          State-gov   77516   Bachelors             13   \n",
      "1   50   Self-emp-not-inc   83311   Bachelors             13   \n",
      "2   38            Private  215646     HS-grad              9   \n",
      "3   53            Private  234721        11th              7   \n",
      "4   28            Private  338409   Bachelors             13   \n",
      "\n",
      "        marital_status          occupation    relationship    race      sex  \\\n",
      "0        Never-married        Adm-clerical   Not-in-family   White     Male   \n",
      "1   Married-civ-spouse     Exec-managerial         Husband   White     Male   \n",
      "2             Divorced   Handlers-cleaners   Not-in-family   White     Male   \n",
      "3   Married-civ-spouse   Handlers-cleaners         Husband   Black     Male   \n",
      "4   Married-civ-spouse      Prof-specialty            Wife   Black   Female   \n",
      "\n",
      "   capital_gain  capital_loss  hours_per_week  native_country  income  \n",
      "0          2174             0              40   United-States   <=50K  \n",
      "1             0             0              13   United-States   <=50K  \n",
      "2             0             0              40   United-States   <=50K  \n",
      "3             0             0              40   United-States   <=50K  \n",
      "4             0             0              40            Cuba   <=50K  \n"
     ]
    }
   ],
   "execution_count": 86
  },
  {
   "metadata": {
    "ExecuteTime": {
     "end_time": "2025-03-07T03:00:50.652272Z",
     "start_time": "2025-03-07T03:00:50.575242Z"
    }
   },
   "cell_type": "code",
   "source": [
    "# 2. 'income' 컬럼 값 처리\n",
    "data['income'] = data['income'].apply(lambda x: 1 if x == ' >50K' else 0)\n",
    "\n",
    "# 3. 전처리 (문자열을 숫자로 변환)\n",
    "data = pd.get_dummies(data, drop_first=True)\n",
    "\n",
    "# 4. 특성(X)과 목표 변수(y) 분리\n",
    "X = data.drop('income', axis=1)\n",
    "y = data['income']\n",
    "print(X.head())\n",
    "print(y.head())"
   ],
   "id": "d25f081c1728b54b",
   "outputs": [
    {
     "name": "stdout",
     "output_type": "stream",
     "text": [
      "   age  fnlwgt  education_num  capital_gain  capital_loss  hours_per_week  \\\n",
      "0   39   77516             13          2174             0              40   \n",
      "1   50   83311             13             0             0              13   \n",
      "2   38  215646              9             0             0              40   \n",
      "3   53  234721              7             0             0              40   \n",
      "4   28  338409             13             0             0              40   \n",
      "\n",
      "   workclass_ Federal-gov  workclass_ Local-gov  workclass_ Never-worked  \\\n",
      "0                   False                 False                    False   \n",
      "1                   False                 False                    False   \n",
      "2                   False                 False                    False   \n",
      "3                   False                 False                    False   \n",
      "4                   False                 False                    False   \n",
      "\n",
      "   workclass_ Private  ...  native_country_ Portugal  \\\n",
      "0               False  ...                     False   \n",
      "1               False  ...                     False   \n",
      "2                True  ...                     False   \n",
      "3                True  ...                     False   \n",
      "4                True  ...                     False   \n",
      "\n",
      "   native_country_ Puerto-Rico  native_country_ Scotland  \\\n",
      "0                        False                     False   \n",
      "1                        False                     False   \n",
      "2                        False                     False   \n",
      "3                        False                     False   \n",
      "4                        False                     False   \n",
      "\n",
      "   native_country_ South  native_country_ Taiwan  native_country_ Thailand  \\\n",
      "0                  False                   False                     False   \n",
      "1                  False                   False                     False   \n",
      "2                  False                   False                     False   \n",
      "3                  False                   False                     False   \n",
      "4                  False                   False                     False   \n",
      "\n",
      "   native_country_ Trinadad&Tobago  native_country_ United-States  \\\n",
      "0                            False                           True   \n",
      "1                            False                           True   \n",
      "2                            False                           True   \n",
      "3                            False                           True   \n",
      "4                            False                          False   \n",
      "\n",
      "   native_country_ Vietnam  native_country_ Yugoslavia  \n",
      "0                    False                       False  \n",
      "1                    False                       False  \n",
      "2                    False                       False  \n",
      "3                    False                       False  \n",
      "4                    False                       False  \n",
      "\n",
      "[5 rows x 100 columns]\n",
      "0    0\n",
      "1    0\n",
      "2    0\n",
      "3    0\n",
      "4    0\n",
      "Name: income, dtype: int64\n"
     ]
    }
   ],
   "execution_count": 81
  },
  {
   "metadata": {
    "ExecuteTime": {
     "end_time": "2025-03-07T03:00:50.731271Z",
     "start_time": "2025-03-07T03:00:50.703245Z"
    }
   },
   "cell_type": "code",
   "source": [
    "# 5. 데이터 분리 (훈련 데이터와 테스트 데이터)\n",
    "X_train, X_test, y_train, y_test = train_test_split(X, y, test_size=0.2, random_state=42, stratify=y)"
   ],
   "id": "3cd144a264bb123",
   "outputs": [],
   "execution_count": 82
  },
  {
   "metadata": {
    "ExecuteTime": {
     "end_time": "2025-03-07T03:00:52.364272Z",
     "start_time": "2025-03-07T03:00:50.780241Z"
    }
   },
   "cell_type": "code",
   "source": [
    "# 6. 정규화 (StandardScaler 사용)\n",
    "scaler = StandardScaler()\n",
    "X_train_scaled = scaler.fit_transform(X_train)\n",
    "X_test_scaled = scaler.transform(X_test)\n",
    "\n",
    "# 7. 로지스틱 회귀 모델 훈련\n",
    "model = LogisticRegression(solver='liblinear', max_iter=2000)\n",
    "model.fit(X_train_scaled, y_train)"
   ],
   "id": "dcb8bf798f9cb7f5",
   "outputs": [
    {
     "data": {
      "text/plain": [
       "LogisticRegression(max_iter=2000, solver='liblinear')"
      ]
     },
     "execution_count": 83,
     "metadata": {},
     "output_type": "execute_result"
    }
   ],
   "execution_count": 83
  },
  {
   "metadata": {
    "ExecuteTime": {
     "end_time": "2025-03-07T03:00:52.444242Z",
     "start_time": "2025-03-07T03:00:52.415241Z"
    }
   },
   "cell_type": "code",
   "source": [
    "# 8. 예측\n",
    "y_pred = model.predict(X_test_scaled)\n",
    "\n",
    "# 9. 정확도, 혼동 행렬, classification_report\n",
    "accuracy = accuracy_score(y_test, y_pred)  # 정확도 계산\n",
    "conf_matrix = confusion_matrix(y_test, y_pred)  # 혼동 행렬 계산\n",
    "class_report = classification_report(y_test, y_pred)  # classification report 계산\n",
    "\n",
    "print(f\"Accuracy: {accuracy}\")\n",
    "print(\"Confusion Matrix:\")\n",
    "print(conf_matrix)\n",
    "print(\"Classification Report:\")\n",
    "print(class_report)"
   ],
   "id": "5a77c0d6b86df4ae",
   "outputs": [
    {
     "name": "stdout",
     "output_type": "stream",
     "text": [
      "Accuracy: 0.8549055734684478\n",
      "Confusion Matrix:\n",
      "[[4598  347]\n",
      " [ 598  970]]\n",
      "Classification Report:\n",
      "              precision    recall  f1-score   support\n",
      "\n",
      "           0       0.88      0.93      0.91      4945\n",
      "           1       0.74      0.62      0.67      1568\n",
      "\n",
      "    accuracy                           0.85      6513\n",
      "   macro avg       0.81      0.77      0.79      6513\n",
      "weighted avg       0.85      0.85      0.85      6513\n",
      "\n"
     ]
    }
   ],
   "execution_count": 84
  },
  {
   "metadata": {
    "ExecuteTime": {
     "end_time": "2025-03-07T03:00:52.854242Z",
     "start_time": "2025-03-07T03:00:52.493241Z"
    }
   },
   "cell_type": "code",
   "source": [
    "# 10. 정확도, 정밀도, 재현율, F1 스코어 등 추가 지표 출력\n",
    "precision = precision_score(y_test, y_pred)\n",
    "recall = recall_score(y_test, y_pred)\n",
    "f1 = f1_score(y_test, y_pred)\n",
    "roc_auc = roc_auc_score(y_test, y_pred)\n",
    "\n",
    "print(f\"Precision: {precision}\")\n",
    "print(f\"Recall: {recall}\")\n",
    "print(f\"F1 Score: {f1}\")\n",
    "print(f\"ROC AUC Score: {roc_auc}\")\n",
    "\n",
    "# 11. 시각화 (예측 값 vs 실제 값)\n",
    "plt.scatter(y_test, y_pred)\n",
    "plt.plot([y_test.min(), y_test.max()], [y_test.min(), y_test.max()], color='red')  # 완벽한 예측선\n",
    "plt.xlabel('Actual')\n",
    "plt.ylabel('Predicted')\n",
    "plt.title('Actual vs Predicted')\n",
    "plt.show()"
   ],
   "id": "4c3d1ff4c7fc0f5b",
   "outputs": [
    {
     "name": "stdout",
     "output_type": "stream",
     "text": [
      "Precision: 0.7365223993925588\n",
      "Recall: 0.6186224489795918\n",
      "F1 Score: 0.6724436741767764\n",
      "ROC AUC Score: 0.7742252790904026\n"
     ]
    },
    {
     "data": {
      "text/plain": [
       "<Figure size 640x480 with 1 Axes>"
      ],
      "image/png": "[encoded data removed]"
     },
     "metadata": {},
     "output_type": "display_data"
    }
   ],
   "execution_count": 85
  }
 ],
 "metadata": {
  "kernelspec": {
   "display_name": "Python 3",
   "language": "python",
   "name": "python3"
  },
  "language_info": {
   "codemirror_mode": {
    "name": "ipython",
    "version": 2
   },
   "file_extension": ".py",
   "mimetype": "text/x-python",
   "name": "python",
   "nbconvert_exporter": "python",
   "pygments_lexer": "ipython2",
   "version": "2.7.6"
  }
 },
 "nbformat": 4,
 "nbformat_minor": 5
}
